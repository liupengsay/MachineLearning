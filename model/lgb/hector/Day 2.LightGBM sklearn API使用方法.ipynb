{
 "cells": [
  {
   "cell_type": "markdown",
   "id": "5ea5d8d4-9c9a-49c6-a13c-40a43204cc32",
   "metadata": {},
   "source": [
    "## 课程说明："
   ]
  },
  {
   "cell_type": "markdown",
   "id": "0e6516f7-b629-4f17-93e7-84bde161c426",
   "metadata": {},
   "source": [
    "&emsp;&emsp;同学们好！欢迎来到《机器学习实战训练营》试学体验课！我是课程主讲老师，九天。        "
   ]
  },
  {
   "cell_type": "markdown",
   "id": "b024fec5-483f-48b3-ba9a-664b52ed6798",
   "metadata": {},
   "source": [
    "- 本期公开课主题：LightGBM原理与实践"
   ]
  },
  {
   "cell_type": "markdown",
   "id": "8d4ee006-846e-4476-a1e2-61ea75a77f1c",
   "metadata": {},
   "source": [
    "<center><img src=\"https://ml2022.oss-cn-hangzhou.aliyuncs.com/img/202304301856951.png\" alt=\"8ef6d1e3b063109eb052bb7021c01bd\" style=\"zoom:33%;\" />"
   ]
  },
  {
   "cell_type": "markdown",
   "id": "49000882-f621-4e2c-8577-2a8bb5a019e5",
   "metadata": {},
   "source": [
    "&emsp;&emsp;LightGBM 是一种高效的 Gradient Boosting 算法，由 Microsoft Research Asia 团队开发，早期为Microsoft内部处理海量高维数据的专用算法，并于2017年由Guolin Ke, Qi Meng, Thomas Finley等人通过论文形式正式发布。如果说XGB为GBDT类算法在提升计算精度上做出了里程碑式的突破，那么LGBM则是在计算效率和内存优化上提出了开创性的解决方案，一举将GBDT类算法计算效率提高了近20倍、并且计算内存占用减少了80%，这也最终使得GBDT类算法、这一机器学习领域目前最高精度的预测类算法，能够真正应用于海量数据的建模预测。以下是官网给出的XGB、基于直方图优化的XGB和LGBM算法的在相同计算任务下计算时间的对比："
   ]
  },
  {
   "cell_type": "markdown",
   "id": "a4999ba6-404e-4624-9950-d12ccb0eeb11",
   "metadata": {},
   "source": [
    "<center><img src=\"https://ml2022.oss-cn-hangzhou.aliyuncs.com/img/202304081540395.png\" alt=\"0a747b1752ff4c7c9b368d7415b398c\" style=\"zoom:40%;\" />"
   ]
  },
  {
   "cell_type": "markdown",
   "id": "a4282608-a431-484e-8106-4597d6cce7f4",
   "metadata": {},
   "source": [
    "而在内存占用方面，LGBM算法的优势也同样非常明显，以下是相同计算任务下不同算法的内存占用对比："
   ]
  },
  {
   "cell_type": "markdown",
   "id": "2559e961-0ae5-4746-bf64-39c8e52c0d53",
   "metadata": {},
   "source": [
    "<center><img src=\"https://ml2022.oss-cn-hangzhou.aliyuncs.com/img/202304081540578.png\" alt=\"a884b5b53ebd9665f526b82d74ca56b\" style=\"zoom:40%;\" />"
   ]
  },
  {
   "cell_type": "markdown",
   "id": "bee646d8-2890-4bc0-b9f8-d3ca1455bbb9",
   "metadata": {},
   "source": [
    "而与此同时，LGBM能够保持和XGB几乎一样的预测精度，相同计算任务三种算法计算准确率如下："
   ]
  },
  {
   "cell_type": "markdown",
   "id": "e9100f72-13ed-46f2-929a-188e2a12c4d5",
   "metadata": {},
   "source": [
    "<center><img src=\"https://ml2022.oss-cn-hangzhou.aliyuncs.com/img/202304081550947.png\" alt=\"1680940216389\" style=\"zoom:40%;\" />"
   ]
  },
  {
   "cell_type": "markdown",
   "id": "110d4c42-833b-4f6f-b0f1-da53426e8839",
   "metadata": {},
   "source": [
    "不难发现，预测精准而计算过程高效，这也是Light一词的核心精髓，并且经过这么多年的实践验证，可以说目前来看，LightGBM已然成为处理海量数据最高效、最通用的机器学习算法。"
   ]
  },
  {
   "cell_type": "markdown",
   "id": "7e875680-bf7d-4b53-8645-2f2787f70059",
   "metadata": {},
   "source": [
    "&emsp;&emsp;本期公开课，我们将围绕LightGBM算法的基本原理与实战技巧展开讨论，详细解读LightGBM算法原理，以及sklearn API的超参数优化及建模实战应用等。帮助大家快速了解LGBM算法精准高效的真正原因，并学习和掌握算法建模及优化技巧。"
   ]
  },
  {
   "cell_type": "markdown",
   "id": "7dc3af00-ab5c-4c0f-98e9-b5cdc79451e8",
   "metadata": {},
   "source": [
    "- 课程节选自《机器学习实战训练营》正式课程"
   ]
  },
  {
   "cell_type": "markdown",
   "id": "00bf9661-ce92-42b6-899b-9ba6a9252a63",
   "metadata": {},
   "source": [
    "<center><img src=\"https://ml2022.oss-cn-hangzhou.aliyuncs.com/img/1.jpg\" alt=\"1\" style=\"zoom:20%;\" />"
   ]
  },
  {
   "cell_type": "markdown",
   "id": "5b4f129d-067d-4e86-a153-3d9354ddd608",
   "metadata": {},
   "source": [
    "&emsp;&emsp;公开课内容节选自《机器学习实战训练营》正式课程，正式课程相比公开课，额外增加更具深度和LGBM数学原理推导、LGBM原生API使用和优化技巧，以及基于LGBM原生API的企业级实战案例，公开课与付费正课内容对比如下："
   ]
  },
  {
   "cell_type": "markdown",
   "id": "a3bd6589-da46-40f6-a32e-bda06e40d9e7",
   "metadata": {},
   "source": [
    "<center><img src=\"https://ml2022.oss-cn-hangzhou.aliyuncs.com/img/05b61eb9b6792c10ce8c6c221f7d140.png\" alt=\"05b61eb9b6792c10ce8c6c221f7d140\" style=\"zoom:50%;\" />"
   ]
  },
  {
   "cell_type": "markdown",
   "id": "f015507a-455d-4854-a67b-217fcdb02545",
   "metadata": {},
   "source": [
    "&emsp;&emsp;如果同学希望更进一步进行深度、系统的学习LightGBM及其他机器学习算法，欢迎大家报名《机器学习实战训练营（第六期）》付费正课，课程为130+小时完整体系大课，完整涵盖经典机器学习、集成学习、特征工程、模型融合、特征混合增强和企业级之战案例，总共6大模块，零基础直达机器学习算法岗中高级岗位要求，六年教学经验沉淀，千名学员口碑见证，超值体系大课等你来学！"
   ]
  },
  {
   "cell_type": "markdown",
   "id": "73aec859-0115-4915-9ace-721fa7d6831f",
   "metadata": {},
   "source": [
    "<center><img src=\"http://ml2022.oss-cn-hangzhou.aliyuncs.com/img/image-20230215185442588.png\" alt=\"image-20230215185442588\" style=\"zoom:40%;\" />"
   ]
  },
  {
   "cell_type": "markdown",
   "id": "5e4b0969-9000-45e7-ba69-8a0f32a10ff5",
   "metadata": {},
   "source": [
    "<center><img src=\"http://ml2022.oss-cn-hangzhou.aliyuncs.com/img/image-20230215185629296.png\" alt=\"image-20230215185629296\" style=\"zoom:42.5%;\" />"
   ]
  },
  {
   "cell_type": "markdown",
   "id": "b0e28c6e-2d9b-45f1-ba63-b1f34d71431d",
   "metadata": {},
   "source": [
    "&emsp;&emsp;除了《机器学习实战训练营》课程外，我们还开设了《数据分析就业班》和《深度学习实战课》，在此查看详细课程介绍和课程大纲：https://appZe9inzwc2314.h5.xiaoeknow.com："
   ]
  },
  {
   "cell_type": "markdown",
   "id": "c8f5bf11-dece-4bfd-9da0-6217f7825842",
   "metadata": {},
   "source": [
    "<center><img src=\"http://ml2022.oss-cn-hangzhou.aliyuncs.com/img/image-20230214180459436.png\" alt=\"image-20230214180459436\" style=\"zoom:50%;\" />"
   ]
  },
  {
   "cell_type": "markdown",
   "id": "9723db3e-dfd1-4c3e-a55b-b3cf9973beec",
   "metadata": {},
   "source": [
    "- **<font color='red'>第六期训练营课程尾单八折特惠进行时！**"
   ]
  },
  {
   "cell_type": "markdown",
   "id": "9a3e536f-c46f-4dbd-a57e-2042819e5b25",
   "metadata": {},
   "source": [
    "<center><img src=\"https://ml2022.oss-cn-hangzhou.aliyuncs.com/img/2.jpg\" alt=\"2\" style=\"zoom:30%;\" />"
   ]
  },
  {
   "cell_type": "markdown",
   "id": "645844ad-6adb-48cd-94d9-6ac6389569f9",
   "metadata": {},
   "source": [
    "&emsp;&emsp;<font size=3><center>扫码添加客服“小可爱”，或者手动添加客服微信：littlecat_1205       \n",
    "    >>>  <font color='red'>**回复“优惠”**</font>抢<font color='red'>**直播间限定折上折**        \n",
    "    **>>>  限量赠送授课老师亲自答疑服务！**"
   ]
  },
  {
   "cell_type": "markdown",
   "id": "c6e5509a-0211-4608-a670-44124a096d75",
   "metadata": {},
   "source": [
    "<center><img src=\"https://ml2022.oss-cn-hangzhou.aliyuncs.com/img/926380675d5976b65f5784be6db5f35.png\" alt=\"926380675d5976b65f5784be6db5f35\" style=\"zoom:50%;\" />"
   ]
  },
  {
   "cell_type": "markdown",
   "id": "ec435b15-e342-4cdf-9df8-8abd611afe90",
   "metadata": {},
   "source": [
    "---"
   ]
  },
  {
   "cell_type": "markdown",
   "id": "48225093-aae8-482f-83f1-ab9824b09c63",
   "metadata": {},
   "source": [
    "# <center> LightGBM原理与实践"
   ]
  },
  {
   "cell_type": "markdown",
   "id": "1582bc6c-695e-4353-a75d-e43022a951e6",
   "metadata": {
    "tags": []
   },
   "source": [
    "# <center>Day 2.LightGBM Sklearn API使用方法与超参数优化"
   ]
  },
  {
   "cell_type": "markdown",
   "id": "c0f65731-c8cb-4e74-9309-9bf9ea7e401e",
   "metadata": {},
   "source": [
    "&emsp;&emsp;在介绍完LGBM算法的基本原理之后，接下来我们继续探讨LGBM算法的安装、建模和优化方法。总的来说，作为新一代集成学习算法，LGBM和XGB类似，也同样拥有独立的第三方库。并且，在深度总结当前机器学习建模的实际使用需求基础上，LGBM算法库为用户提供了非常便捷且完善部署和使用方法。"
   ]
  },
  {
   "cell_type": "markdown",
   "id": "593e1c49-4575-4713-8375-88906e1cfb21",
   "metadata": {},
   "source": [
    "&emsp;&emsp;首先是安装部署方面，LGBM支持Window、MacOS、Linux等主流操作系统，并支持使用pip、conda等工具进行安装，此外，LGBM还支持在Docker中进行安装部署。并且，对于实际生产环境中的海量数据处理需求，LGBM还提供了分布式计算版本和GPU计算版本进行加速计算，其中分布式计算模式下支持从HDFS（Hadoop Distributed File System）系统中进行数据读取和计算，而GPU计算模式下则提供了GPU version（借助OpenCL，即Open Computing Language来实现多种不同GPU的加速计算）和CUDA version（借助CUDA，即Compute Unified Device Architecture来实现NVIDIA GPU加速）。不过，不同于深度学习更倾向于使用CUDA加速，对于LGBM而言，由于目前CUDA version只能在Linux操作系统下实现，因此大多数情况下，我们往往会选择支持Windows系统的GPU version进行GPU加速计算。"
   ]
  },
  {
   "cell_type": "markdown",
   "id": "36a6230e-a1c4-4ecd-a393-a39ce2011b74",
   "metadata": {},
   "source": [
    "&emsp;&emsp;而在实际建模环节，LGBM支持Python、Java、C++等多种编程语言进行调用，并同时提供了Sklearn API和原生API两套调用方法。和XGB类似，LGBM的 sklearn API支持使用sklearn的调用风格和语言习惯进行LGBM模型训练，数据读取环节支持直接读取本地的Numpy或Pandas格式数据，而在实际训练过程中需要先实例化评估器并设置超参数，然后通过.fit的方式进行训练，并且可以直接调用gridsearch进行超参数搜索，也可以使用其他sklearn提供的高阶工具，如构建机器学习流、进行特征筛选或者进行模型融合等；而LGBM的另一种调用方式，即使用原生API进行建模，则会复杂很多，当然原生API也提供了非常多sklearn API中没有的功能。从建模流程上来看，使用原生LGBM API时需要先对数据集进行封装，转化成一种LGBM库定义的一种特殊的数据格式，然后再设置超参数字典，最终带入封装好的数据集和定义好的超参数字典进行训练，而在训练的过程，则支持多种不同的损失函数设置、以及交叉验证的优化流程的自动实现，并且原生API还提供了非常多实用功能，例如提供了GPU加速、精细化控制每一轮迭代的超参数等方法。总的来看，LGBM的sklearn API更加轻量、便捷，并且能够无缝衔接sklearn中其他评估器，快速实现sklearn提供的高阶功能，对于熟悉sklearn的用户而言非常友好；而原生API则会复杂很多，但同时也提供了大量sklearn API无法实现的复杂功能，若能够合理使用，则可以实现相比sklearn API更精准的建模结果、更高效的建模流程。"
   ]
  },
  {
   "cell_type": "code",
   "execution_count": 2,
   "id": "6354e9a2-23f3-4f21-82a7-9425e31ce1f0",
   "metadata": {},
   "outputs": [],
   "source": [
    "# 科学计算模块\n",
    "import numpy as np\n",
    "import pandas as pd\n",
    "\n",
    "# 绘图模块\n",
    "import matplotlib as mpl\n",
    "import matplotlib.pyplot as plt\n",
    "\n",
    "# Scikit-Learn相关模块\n",
    "# 评估器类\n",
    "from sklearn.preprocessing import StandardScaler\n",
    "from sklearn.preprocessing import PolynomialFeatures\n",
    "from sklearn.linear_model import LogisticRegression\n",
    "from sklearn.pipeline import make_pipeline\n",
    "from sklearn.model_selection import GridSearchCV\n",
    "\n",
    "# 实用函数\n",
    "from sklearn.model_selection import train_test_split\n",
    "from sklearn.metrics import accuracy_score\n",
    "\n",
    "# 数据准备\n",
    "from sklearn.datasets import load_iris"
   ]
  },
  {
   "cell_type": "markdown",
   "id": "ea7249ad-3310-45f6-8734-552e441a6470",
   "metadata": {},
   "source": [
    "### 1.LightGBM的安装部署"
   ]
  },
  {
   "cell_type": "markdown",
   "id": "4054a1ec-aa92-4828-b873-36b66d784dfb",
   "metadata": {},
   "source": [
    "#### 1.1 LightGBM的CPU版本安装方法"
   ]
  },
  {
   "cell_type": "markdown",
   "id": "56234020-cf31-4832-a4d2-13cb7cbe6ee8",
   "metadata": {},
   "source": [
    "&emsp;&emsp;首先是CPU版本安装方法，LGBM算法的CPU安装过程较为简单，这里只需要使用在命令行中使用pip工具进行安装即可，并注明使用国内的镜像源："
   ]
  },
  {
   "cell_type": "markdown",
   "id": "7db7814f-c737-4ff5-b8e4-2bd9415e4dfd",
   "metadata": {},
   "source": [
    "<center> pip install lightgbm -i https://pypi.tuna.tsinghua.edu.cn/simple"
   ]
  },
  {
   "cell_type": "markdown",
   "id": "c63d62e1-fddc-4e90-8059-ed67528fad33",
   "metadata": {},
   "source": [
    "安装完成后，即可按照如下方式进行导入："
   ]
  },
  {
   "cell_type": "code",
   "execution_count": 1,
   "id": "0bd1917f-7dec-498d-81a8-8c8a94d5f56d",
   "metadata": {},
   "outputs": [],
   "source": [
    "import lightgbm as lgb"
   ]
  },
  {
   "cell_type": "code",
   "execution_count": 2,
   "id": "8c055c88-d0c6-4afd-bd55-69af18af94ff",
   "metadata": {},
   "outputs": [
    {
     "data": {
      "text/plain": [
       "\u001b[1;31mType:\u001b[0m        module\n",
       "\u001b[1;31mString form:\u001b[0m <module 'lightgbm' from 'C:\\\\ProgramData\\\\anaconda3\\\\lib\\\\site-packages\\\\lightgbm\\\\__init__.py'>\n",
       "\u001b[1;31mFile:\u001b[0m        c:\\programdata\\anaconda3\\lib\\site-packages\\lightgbm\\__init__.py\n",
       "\u001b[1;31mDocstring:\u001b[0m  \n",
       "LightGBM, Light Gradient Boosting Machine.\n",
       "\n",
       "Contributors: https://github.com/microsoft/LightGBM/graphs/contributors."
      ]
     },
     "metadata": {},
     "output_type": "display_data"
    }
   ],
   "source": [
    "lgb?"
   ]
  },
  {
   "cell_type": "markdown",
   "id": "0593b986-1119-47a7-a626-263be958ee7e",
   "metadata": {},
   "source": [
    "目前课程采用的LGBM版本是3.3.5，可以通过如下方式查看LGBM版本号："
   ]
  },
  {
   "cell_type": "code",
   "execution_count": 3,
   "id": "29ab7bf7-9350-4d9a-be66-3b9668892224",
   "metadata": {},
   "outputs": [
    {
     "data": {
      "text/plain": [
       "'3.3.5'"
      ]
     },
     "execution_count": 3,
     "metadata": {},
     "output_type": "execute_result"
    }
   ],
   "source": [
    "lgb.__version__"
   ]
  },
  {
   "cell_type": "markdown",
   "id": "3139fc97-173b-4e3e-be14-4bcf9d912e30",
   "metadata": {},
   "source": [
    "如果是低于这个版本的LGBM，则可在命令行中输入以下命令对LGBM进行升级："
   ]
  },
  {
   "cell_type": "markdown",
   "id": "23ff05d8-d9f7-402e-8433-ab140bf41722",
   "metadata": {},
   "source": [
    "<center> pip install --upgrade lightgbm -i https://pypi.tuna.tsinghua.edu.cn/simple --user"
   ]
  },
  {
   "cell_type": "markdown",
   "id": "e86326c0-e390-4aef-8225-f08f5f380996",
   "metadata": {},
   "source": [
    "### 2.LGBM快速使用"
   ]
  },
  {
   "cell_type": "markdown",
   "id": "fa0049e8-fb7f-4002-9a4f-cc91d3807534",
   "metadata": {},
   "source": [
    "#### 2.1 LGBM的sklearn API调用"
   ]
  },
  {
   "cell_type": "markdown",
   "id": "cddf8f70-fa63-4170-a8f0-9fdf24e0d899",
   "metadata": {},
   "source": [
    "&emsp;&emsp;接下来我们尝试训练LGBM模型。对于LGBM来说，支持多种不同类型的数据输入以及多种不同类型的训练方式，这里我们先从最简单的应用情况开始介绍，即围绕CSV格式数据进行DATaFrame数据格式读取，并采用类sklearn的建模风格进行模型的训练。这里我们先采用鸢尾花数据集进行简单模型测试，数据导入和数据集划分如下："
   ]
  },
  {
   "cell_type": "code",
   "execution_count": 70,
   "id": "5327b169-ee6f-405d-8542-3ca311a0b742",
   "metadata": {},
   "outputs": [],
   "source": [
    "# 读取数据\n",
    "iris = load_iris()\n",
    "data = pd.DataFrame(data= np.c_[iris['data'], iris['target']], columns= iris['feature_names'] + ['target'])"
   ]
  },
  {
   "cell_type": "code",
   "execution_count": 71,
   "id": "dbec4d6c-9b59-4726-84e5-54dde218cb5a",
   "metadata": {},
   "outputs": [
    {
     "data": {
      "text/html": [
       "<div>\n",
       "<style scoped>\n",
       "    .dataframe tbody tr th:only-of-type {\n",
       "        vertical-align: middle;\n",
       "    }\n",
       "\n",
       "    .dataframe tbody tr th {\n",
       "        vertical-align: top;\n",
       "    }\n",
       "\n",
       "    .dataframe thead th {\n",
       "        text-align: right;\n",
       "    }\n",
       "</style>\n",
       "<table border=\"1\" class=\"dataframe\">\n",
       "  <thead>\n",
       "    <tr style=\"text-align: right;\">\n",
       "      <th></th>\n",
       "      <th>sepal length (cm)</th>\n",
       "      <th>sepal width (cm)</th>\n",
       "      <th>petal length (cm)</th>\n",
       "      <th>petal width (cm)</th>\n",
       "      <th>target</th>\n",
       "    </tr>\n",
       "  </thead>\n",
       "  <tbody>\n",
       "    <tr>\n",
       "      <th>0</th>\n",
       "      <td>5.1</td>\n",
       "      <td>3.5</td>\n",
       "      <td>1.4</td>\n",
       "      <td>0.2</td>\n",
       "      <td>0.0</td>\n",
       "    </tr>\n",
       "    <tr>\n",
       "      <th>1</th>\n",
       "      <td>4.9</td>\n",
       "      <td>3.0</td>\n",
       "      <td>1.4</td>\n",
       "      <td>0.2</td>\n",
       "      <td>0.0</td>\n",
       "    </tr>\n",
       "    <tr>\n",
       "      <th>2</th>\n",
       "      <td>4.7</td>\n",
       "      <td>3.2</td>\n",
       "      <td>1.3</td>\n",
       "      <td>0.2</td>\n",
       "      <td>0.0</td>\n",
       "    </tr>\n",
       "    <tr>\n",
       "      <th>3</th>\n",
       "      <td>4.6</td>\n",
       "      <td>3.1</td>\n",
       "      <td>1.5</td>\n",
       "      <td>0.2</td>\n",
       "      <td>0.0</td>\n",
       "    </tr>\n",
       "    <tr>\n",
       "      <th>4</th>\n",
       "      <td>5.0</td>\n",
       "      <td>3.6</td>\n",
       "      <td>1.4</td>\n",
       "      <td>0.2</td>\n",
       "      <td>0.0</td>\n",
       "    </tr>\n",
       "  </tbody>\n",
       "</table>\n",
       "</div>"
      ],
      "text/plain": [
       "   sepal length (cm)  sepal width (cm)  petal length (cm)  petal width (cm)  \\\n",
       "0                5.1               3.5                1.4               0.2   \n",
       "1                4.9               3.0                1.4               0.2   \n",
       "2                4.7               3.2                1.3               0.2   \n",
       "3                4.6               3.1                1.5               0.2   \n",
       "4                5.0               3.6                1.4               0.2   \n",
       "\n",
       "   target  \n",
       "0     0.0  \n",
       "1     0.0  \n",
       "2     0.0  \n",
       "3     0.0  \n",
       "4     0.0  "
      ]
     },
     "execution_count": 71,
     "metadata": {},
     "output_type": "execute_result"
    }
   ],
   "source": [
    "data.head()"
   ]
  },
  {
   "cell_type": "code",
   "execution_count": 72,
   "id": "a811647e-967e-44ea-a0fe-ea9b19d12ff9",
   "metadata": {},
   "outputs": [
    {
     "data": {
      "text/plain": [
       "(150, 5)"
      ]
     },
     "execution_count": 72,
     "metadata": {},
     "output_type": "execute_result"
    }
   ],
   "source": [
    "data.shape"
   ]
  },
  {
   "cell_type": "code",
   "execution_count": 73,
   "id": "f6c0d611-ae18-4298-88d1-d68d239b0a65",
   "metadata": {},
   "outputs": [],
   "source": [
    "# 划分数据集\n",
    "X_train, X_test, y_train, y_test = train_test_split(data.drop(\"target\", axis=1), data[\"target\"], test_size=0.2)"
   ]
  },
  {
   "cell_type": "code",
   "execution_count": 74,
   "id": "418d9c10-9e12-49d5-8d82-0dc1a1fb2515",
   "metadata": {},
   "outputs": [
    {
     "data": {
      "text/html": [
       "<div>\n",
       "<style scoped>\n",
       "    .dataframe tbody tr th:only-of-type {\n",
       "        vertical-align: middle;\n",
       "    }\n",
       "\n",
       "    .dataframe tbody tr th {\n",
       "        vertical-align: top;\n",
       "    }\n",
       "\n",
       "    .dataframe thead th {\n",
       "        text-align: right;\n",
       "    }\n",
       "</style>\n",
       "<table border=\"1\" class=\"dataframe\">\n",
       "  <thead>\n",
       "    <tr style=\"text-align: right;\">\n",
       "      <th></th>\n",
       "      <th>sepal length (cm)</th>\n",
       "      <th>sepal width (cm)</th>\n",
       "      <th>petal length (cm)</th>\n",
       "      <th>petal width (cm)</th>\n",
       "    </tr>\n",
       "  </thead>\n",
       "  <tbody>\n",
       "    <tr>\n",
       "      <th>109</th>\n",
       "      <td>7.2</td>\n",
       "      <td>3.6</td>\n",
       "      <td>6.1</td>\n",
       "      <td>2.5</td>\n",
       "    </tr>\n",
       "    <tr>\n",
       "      <th>20</th>\n",
       "      <td>5.4</td>\n",
       "      <td>3.4</td>\n",
       "      <td>1.7</td>\n",
       "      <td>0.2</td>\n",
       "    </tr>\n",
       "    <tr>\n",
       "      <th>106</th>\n",
       "      <td>4.9</td>\n",
       "      <td>2.5</td>\n",
       "      <td>4.5</td>\n",
       "      <td>1.7</td>\n",
       "    </tr>\n",
       "    <tr>\n",
       "      <th>124</th>\n",
       "      <td>6.7</td>\n",
       "      <td>3.3</td>\n",
       "      <td>5.7</td>\n",
       "      <td>2.1</td>\n",
       "    </tr>\n",
       "    <tr>\n",
       "      <th>72</th>\n",
       "      <td>6.3</td>\n",
       "      <td>2.5</td>\n",
       "      <td>4.9</td>\n",
       "      <td>1.5</td>\n",
       "    </tr>\n",
       "  </tbody>\n",
       "</table>\n",
       "</div>"
      ],
      "text/plain": [
       "     sepal length (cm)  sepal width (cm)  petal length (cm)  petal width (cm)\n",
       "109                7.2               3.6                6.1               2.5\n",
       "20                 5.4               3.4                1.7               0.2\n",
       "106                4.9               2.5                4.5               1.7\n",
       "124                6.7               3.3                5.7               2.1\n",
       "72                 6.3               2.5                4.9               1.5"
      ]
     },
     "execution_count": 74,
     "metadata": {},
     "output_type": "execute_result"
    }
   ],
   "source": [
    "X_train.head()"
   ]
  },
  {
   "cell_type": "code",
   "execution_count": 75,
   "id": "9087312f-2044-4173-9116-df85e48d14f0",
   "metadata": {},
   "outputs": [
    {
     "data": {
      "text/plain": [
       "109    2.0\n",
       "20     0.0\n",
       "106    2.0\n",
       "124    2.0\n",
       "72     1.0\n",
       "      ... \n",
       "55     1.0\n",
       "94     1.0\n",
       "140    2.0\n",
       "146    2.0\n",
       "50     1.0\n",
       "Name: target, Length: 120, dtype: float64"
      ]
     },
     "execution_count": 75,
     "metadata": {},
     "output_type": "execute_result"
    }
   ],
   "source": [
    "y_train"
   ]
  },
  {
   "cell_type": "markdown",
   "id": "91885aed-f31d-498b-b839-050e4d2e9aac",
   "metadata": {},
   "source": [
    "然后是模型实例化过程。和XGB类似，LGBM不同类型的模型（及功能）可以直接通过导入子模块的方式来调用，也可以直接通过父模块.子模块的方式直接进行调用，例如我们可以通过如下方式调用LGBM的分类模型："
   ]
  },
  {
   "cell_type": "code",
   "execution_count": 76,
   "id": "acd83608-5fd5-4bb0-be3a-d21c806e0322",
   "metadata": {},
   "outputs": [
    {
     "data": {
      "text/plain": [
       "LGBMClassifier()"
      ]
     },
     "execution_count": 76,
     "metadata": {},
     "output_type": "execute_result"
    }
   ],
   "source": [
    "gbm = lgb.LGBMClassifier()\n",
    "gbm"
   ]
  },
  {
   "cell_type": "markdown",
   "id": "152557a7-d7ea-4090-a0cb-7eb5f6e1de33",
   "metadata": {},
   "source": [
    "也可以先导入，再调用："
   ]
  },
  {
   "cell_type": "code",
   "execution_count": 77,
   "id": "70a70d27-ffbd-4792-baa1-2f715abdbf57",
   "metadata": {},
   "outputs": [],
   "source": [
    "from lightgbm import LGBMClassifier"
   ]
  },
  {
   "cell_type": "code",
   "execution_count": 78,
   "id": "3fb39508-af88-4925-9d32-dd260f74cd6b",
   "metadata": {},
   "outputs": [
    {
     "data": {
      "text/plain": [
       "LGBMClassifier()"
      ]
     },
     "execution_count": 78,
     "metadata": {},
     "output_type": "execute_result"
    }
   ],
   "source": [
    "gbm = LGBMClassifier()\n",
    "gbm"
   ]
  },
  {
   "cell_type": "markdown",
   "id": "8f8406d1-4c31-46ef-8f1c-c6d47bfd4274",
   "metadata": {},
   "source": [
    "在sklearn API中，模型已经设置好了默认超参数取值，可以完全不认识任何模型超参数的情况下进行建模。sklearn API中LGBM的超参数情况如下："
   ]
  },
  {
   "cell_type": "code",
   "execution_count": 79,
   "id": "0fc5c428-103a-4abc-b273-fd592486dc0f",
   "metadata": {
    "collapsed": true,
    "jupyter": {
     "outputs_hidden": true
    },
    "tags": []
   },
   "outputs": [
    {
     "data": {
      "text/plain": [
       "\u001b[1;31mInit signature:\u001b[0m\n",
       "\u001b[0mLGBMClassifier\u001b[0m\u001b[1;33m(\u001b[0m\u001b[1;33m\n",
       "\u001b[0m    \u001b[0mboosting_type\u001b[0m\u001b[1;33m:\u001b[0m \u001b[0mstr\u001b[0m \u001b[1;33m=\u001b[0m \u001b[1;34m'gbdt'\u001b[0m\u001b[1;33m,\u001b[0m\u001b[1;33m\n",
       "\u001b[0m    \u001b[0mnum_leaves\u001b[0m\u001b[1;33m:\u001b[0m \u001b[0mint\u001b[0m \u001b[1;33m=\u001b[0m \u001b[1;36m31\u001b[0m\u001b[1;33m,\u001b[0m\u001b[1;33m\n",
       "\u001b[0m    \u001b[0mmax_depth\u001b[0m\u001b[1;33m:\u001b[0m \u001b[0mint\u001b[0m \u001b[1;33m=\u001b[0m \u001b[1;33m-\u001b[0m\u001b[1;36m1\u001b[0m\u001b[1;33m,\u001b[0m\u001b[1;33m\n",
       "\u001b[0m    \u001b[0mlearning_rate\u001b[0m\u001b[1;33m:\u001b[0m \u001b[0mfloat\u001b[0m \u001b[1;33m=\u001b[0m \u001b[1;36m0.1\u001b[0m\u001b[1;33m,\u001b[0m\u001b[1;33m\n",
       "\u001b[0m    \u001b[0mn_estimators\u001b[0m\u001b[1;33m:\u001b[0m \u001b[0mint\u001b[0m \u001b[1;33m=\u001b[0m \u001b[1;36m100\u001b[0m\u001b[1;33m,\u001b[0m\u001b[1;33m\n",
       "\u001b[0m    \u001b[0msubsample_for_bin\u001b[0m\u001b[1;33m:\u001b[0m \u001b[0mint\u001b[0m \u001b[1;33m=\u001b[0m \u001b[1;36m200000\u001b[0m\u001b[1;33m,\u001b[0m\u001b[1;33m\n",
       "\u001b[0m    \u001b[0mobjective\u001b[0m\u001b[1;33m:\u001b[0m \u001b[0mUnion\u001b[0m\u001b[1;33m[\u001b[0m\u001b[0mstr\u001b[0m\u001b[1;33m,\u001b[0m \u001b[0mCallable\u001b[0m\u001b[1;33m,\u001b[0m \u001b[0mNoneType\u001b[0m\u001b[1;33m]\u001b[0m \u001b[1;33m=\u001b[0m \u001b[1;32mNone\u001b[0m\u001b[1;33m,\u001b[0m\u001b[1;33m\n",
       "\u001b[0m    \u001b[0mclass_weight\u001b[0m\u001b[1;33m:\u001b[0m \u001b[0mUnion\u001b[0m\u001b[1;33m[\u001b[0m\u001b[0mDict\u001b[0m\u001b[1;33m,\u001b[0m \u001b[0mstr\u001b[0m\u001b[1;33m,\u001b[0m \u001b[0mNoneType\u001b[0m\u001b[1;33m]\u001b[0m \u001b[1;33m=\u001b[0m \u001b[1;32mNone\u001b[0m\u001b[1;33m,\u001b[0m\u001b[1;33m\n",
       "\u001b[0m    \u001b[0mmin_split_gain\u001b[0m\u001b[1;33m:\u001b[0m \u001b[0mfloat\u001b[0m \u001b[1;33m=\u001b[0m \u001b[1;36m0.0\u001b[0m\u001b[1;33m,\u001b[0m\u001b[1;33m\n",
       "\u001b[0m    \u001b[0mmin_child_weight\u001b[0m\u001b[1;33m:\u001b[0m \u001b[0mfloat\u001b[0m \u001b[1;33m=\u001b[0m \u001b[1;36m0.001\u001b[0m\u001b[1;33m,\u001b[0m\u001b[1;33m\n",
       "\u001b[0m    \u001b[0mmin_child_samples\u001b[0m\u001b[1;33m:\u001b[0m \u001b[0mint\u001b[0m \u001b[1;33m=\u001b[0m \u001b[1;36m20\u001b[0m\u001b[1;33m,\u001b[0m\u001b[1;33m\n",
       "\u001b[0m    \u001b[0msubsample\u001b[0m\u001b[1;33m:\u001b[0m \u001b[0mfloat\u001b[0m \u001b[1;33m=\u001b[0m \u001b[1;36m1.0\u001b[0m\u001b[1;33m,\u001b[0m\u001b[1;33m\n",
       "\u001b[0m    \u001b[0msubsample_freq\u001b[0m\u001b[1;33m:\u001b[0m \u001b[0mint\u001b[0m \u001b[1;33m=\u001b[0m \u001b[1;36m0\u001b[0m\u001b[1;33m,\u001b[0m\u001b[1;33m\n",
       "\u001b[0m    \u001b[0mcolsample_bytree\u001b[0m\u001b[1;33m:\u001b[0m \u001b[0mfloat\u001b[0m \u001b[1;33m=\u001b[0m \u001b[1;36m1.0\u001b[0m\u001b[1;33m,\u001b[0m\u001b[1;33m\n",
       "\u001b[0m    \u001b[0mreg_alpha\u001b[0m\u001b[1;33m:\u001b[0m \u001b[0mfloat\u001b[0m \u001b[1;33m=\u001b[0m \u001b[1;36m0.0\u001b[0m\u001b[1;33m,\u001b[0m\u001b[1;33m\n",
       "\u001b[0m    \u001b[0mreg_lambda\u001b[0m\u001b[1;33m:\u001b[0m \u001b[0mfloat\u001b[0m \u001b[1;33m=\u001b[0m \u001b[1;36m0.0\u001b[0m\u001b[1;33m,\u001b[0m\u001b[1;33m\n",
       "\u001b[0m    \u001b[0mrandom_state\u001b[0m\u001b[1;33m:\u001b[0m \u001b[0mUnion\u001b[0m\u001b[1;33m[\u001b[0m\u001b[0mint\u001b[0m\u001b[1;33m,\u001b[0m \u001b[0mnumpy\u001b[0m\u001b[1;33m.\u001b[0m\u001b[0mrandom\u001b[0m\u001b[1;33m.\u001b[0m\u001b[0mmtrand\u001b[0m\u001b[1;33m.\u001b[0m\u001b[0mRandomState\u001b[0m\u001b[1;33m,\u001b[0m \u001b[0mNoneType\u001b[0m\u001b[1;33m]\u001b[0m \u001b[1;33m=\u001b[0m \u001b[1;32mNone\u001b[0m\u001b[1;33m,\u001b[0m\u001b[1;33m\n",
       "\u001b[0m    \u001b[0mn_jobs\u001b[0m\u001b[1;33m:\u001b[0m \u001b[0mint\u001b[0m \u001b[1;33m=\u001b[0m \u001b[1;33m-\u001b[0m\u001b[1;36m1\u001b[0m\u001b[1;33m,\u001b[0m\u001b[1;33m\n",
       "\u001b[0m    \u001b[0msilent\u001b[0m\u001b[1;33m:\u001b[0m \u001b[0mUnion\u001b[0m\u001b[1;33m[\u001b[0m\u001b[0mbool\u001b[0m\u001b[1;33m,\u001b[0m \u001b[0mstr\u001b[0m\u001b[1;33m]\u001b[0m \u001b[1;33m=\u001b[0m \u001b[1;34m'warn'\u001b[0m\u001b[1;33m,\u001b[0m\u001b[1;33m\n",
       "\u001b[0m    \u001b[0mimportance_type\u001b[0m\u001b[1;33m:\u001b[0m \u001b[0mstr\u001b[0m \u001b[1;33m=\u001b[0m \u001b[1;34m'split'\u001b[0m\u001b[1;33m,\u001b[0m\u001b[1;33m\n",
       "\u001b[0m    \u001b[1;33m**\u001b[0m\u001b[0mkwargs\u001b[0m\u001b[1;33m,\u001b[0m\u001b[1;33m\n",
       "\u001b[0m\u001b[1;33m)\u001b[0m\u001b[1;33m\u001b[0m\u001b[1;33m\u001b[0m\u001b[0m\n",
       "\u001b[1;31mDocstring:\u001b[0m      LightGBM classifier.\n",
       "\u001b[1;31mInit docstring:\u001b[0m\n",
       "Construct a gradient boosting model.\n",
       "\n",
       "Parameters\n",
       "----------\n",
       "boosting_type : str, optional (default='gbdt')\n",
       "    'gbdt', traditional Gradient Boosting Decision Tree.\n",
       "    'dart', Dropouts meet Multiple Additive Regression Trees.\n",
       "    'goss', Gradient-based One-Side Sampling.\n",
       "    'rf', Random Forest.\n",
       "num_leaves : int, optional (default=31)\n",
       "    Maximum tree leaves for base learners.\n",
       "max_depth : int, optional (default=-1)\n",
       "    Maximum tree depth for base learners, <=0 means no limit.\n",
       "learning_rate : float, optional (default=0.1)\n",
       "    Boosting learning rate.\n",
       "    You can use ``callbacks`` parameter of ``fit`` method to shrink/adapt learning rate\n",
       "    in training using ``reset_parameter`` callback.\n",
       "    Note, that this will ignore the ``learning_rate`` argument in training.\n",
       "n_estimators : int, optional (default=100)\n",
       "    Number of boosted trees to fit.\n",
       "subsample_for_bin : int, optional (default=200000)\n",
       "    Number of samples for constructing bins.\n",
       "objective : str, callable or None, optional (default=None)\n",
       "    Specify the learning task and the corresponding learning objective or\n",
       "    a custom objective function to be used (see note below).\n",
       "    Default: 'regression' for LGBMRegressor, 'binary' or 'multiclass' for LGBMClassifier, 'lambdarank' for LGBMRanker.\n",
       "class_weight : dict, 'balanced' or None, optional (default=None)\n",
       "    Weights associated with classes in the form ``{class_label: weight}``.\n",
       "    Use this parameter only for multi-class classification task;\n",
       "    for binary classification task you may use ``is_unbalance`` or ``scale_pos_weight`` parameters.\n",
       "    Note, that the usage of all these parameters will result in poor estimates of the individual class probabilities.\n",
       "    You may want to consider performing probability calibration\n",
       "    (https://scikit-learn.org/stable/modules/calibration.html) of your model.\n",
       "    The 'balanced' mode uses the values of y to automatically adjust weights\n",
       "    inversely proportional to class frequencies in the input data as ``n_samples / (n_classes * np.bincount(y))``.\n",
       "    If None, all classes are supposed to have weight one.\n",
       "    Note, that these weights will be multiplied with ``sample_weight`` (passed through the ``fit`` method)\n",
       "    if ``sample_weight`` is specified.\n",
       "min_split_gain : float, optional (default=0.)\n",
       "    Minimum loss reduction required to make a further partition on a leaf node of the tree.\n",
       "min_child_weight : float, optional (default=1e-3)\n",
       "    Minimum sum of instance weight (hessian) needed in a child (leaf).\n",
       "min_child_samples : int, optional (default=20)\n",
       "    Minimum number of data needed in a child (leaf).\n",
       "subsample : float, optional (default=1.)\n",
       "    Subsample ratio of the training instance.\n",
       "subsample_freq : int, optional (default=0)\n",
       "    Frequency of subsample, <=0 means no enable.\n",
       "colsample_bytree : float, optional (default=1.)\n",
       "    Subsample ratio of columns when constructing each tree.\n",
       "reg_alpha : float, optional (default=0.)\n",
       "    L1 regularization term on weights.\n",
       "reg_lambda : float, optional (default=0.)\n",
       "    L2 regularization term on weights.\n",
       "random_state : int, RandomState object or None, optional (default=None)\n",
       "    Random number seed.\n",
       "    If int, this number is used to seed the C++ code.\n",
       "    If RandomState object (numpy), a random integer is picked based on its state to seed the C++ code.\n",
       "    If None, default seeds in C++ code are used.\n",
       "n_jobs : int, optional (default=-1)\n",
       "    Number of parallel threads.\n",
       "silent : bool, optional (default=True)\n",
       "    Whether to print messages while running boosting.\n",
       "importance_type : str, optional (default='split')\n",
       "    The type of feature importance to be filled into ``feature_importances_``.\n",
       "    If 'split', result contains numbers of times the feature is used in a model.\n",
       "    If 'gain', result contains total gains of splits which use the feature.\n",
       "**kwargs\n",
       "    Other parameters for the model.\n",
       "    Check http://lightgbm.readthedocs.io/en/latest/Parameters.html for more parameters.\n",
       "\n",
       "    .. warning::\n",
       "\n",
       "        \\*\\*kwargs is not supported in sklearn, it may cause unexpected issues.\n",
       "\n",
       "Note\n",
       "----\n",
       "A custom objective function can be provided for the ``objective`` parameter.\n",
       "In this case, it should have the signature\n",
       "``objective(y_true, y_pred) -> grad, hess`` or\n",
       "``objective(y_true, y_pred, group) -> grad, hess``:\n",
       "\n",
       "    y_true : array-like of shape = [n_samples]\n",
       "        The target values.\n",
       "    y_pred : array-like of shape = [n_samples] or shape = [n_samples * n_classes] (for multi-class task)\n",
       "        The predicted values.\n",
       "        Predicted values are returned before any transformation,\n",
       "        e.g. they are raw margin instead of probability of positive class for binary task.\n",
       "    group : array-like\n",
       "        Group/query data.\n",
       "        Only used in the learning-to-rank task.\n",
       "        sum(group) = n_samples.\n",
       "        For example, if you have a 100-document dataset with ``group = [10, 20, 40, 10, 10, 10]``, that means that you have 6 groups,\n",
       "        where the first 10 records are in the first group, records 11-30 are in the second group, records 31-70 are in the third group, etc.\n",
       "    grad : array-like of shape = [n_samples] or shape = [n_samples * n_classes] (for multi-class task)\n",
       "        The value of the first order derivative (gradient) of the loss\n",
       "        with respect to the elements of y_pred for each sample point.\n",
       "    hess : array-like of shape = [n_samples] or shape = [n_samples * n_classes] (for multi-class task)\n",
       "        The value of the second order derivative (Hessian) of the loss\n",
       "        with respect to the elements of y_pred for each sample point.\n",
       "\n",
       "For multi-class task, the y_pred is group by class_id first, then group by row_id.\n",
       "If you want to get i-th row y_pred in j-th class, the access way is y_pred[j * num_data + i]\n",
       "and you should group grad and hess in this way as well.\n",
       "\u001b[1;31mFile:\u001b[0m           d:\\anaconda3\\lib\\site-packages\\lightgbm\\sklearn.py\n",
       "\u001b[1;31mType:\u001b[0m           type\n",
       "\u001b[1;31mSubclasses:\u001b[0m     DaskLGBMClassifier\n"
      ]
     },
     "metadata": {},
     "output_type": "display_data"
    }
   ],
   "source": [
    "LGBMClassifier?"
   ]
  },
  {
   "cell_type": "markdown",
   "id": "52a77136-4b44-46fb-8a8d-c643b7cbd404",
   "metadata": {},
   "source": [
    "具体的模型训练过程和sklearn中其他模型一样，通过fit进行训练，并利用predict进行结果输出："
   ]
  },
  {
   "cell_type": "code",
   "execution_count": 80,
   "id": "cb3ae22f-b6ca-41b5-8559-6300c670ff8a",
   "metadata": {},
   "outputs": [
    {
     "data": {
      "text/plain": [
       "LGBMClassifier()"
      ]
     },
     "execution_count": 80,
     "metadata": {},
     "output_type": "execute_result"
    }
   ],
   "source": [
    "# 训练模型\n",
    "gbm.fit(X_train, y_train)"
   ]
  },
  {
   "cell_type": "markdown",
   "id": "03149c11-2c75-4c74-8720-d47b33d5d33d",
   "metadata": {},
   "source": [
    "然后输出预测结果，同样可以输出类别结果和概率预测结果："
   ]
  },
  {
   "cell_type": "code",
   "execution_count": 81,
   "id": "fe1a985a-258b-45bd-ab06-ecd2ccd219cf",
   "metadata": {},
   "outputs": [
    {
     "data": {
      "text/plain": [
       "array([1., 1., 0., 1., 2., 0., 2., 2., 2., 0., 2., 1., 0., 1., 1., 0., 1.,\n",
       "       1., 1., 0., 1., 1., 2., 0., 1., 2., 2., 0., 1., 2.])"
      ]
     },
     "execution_count": 81,
     "metadata": {},
     "output_type": "execute_result"
    }
   ],
   "source": [
    "gbm.predict(X_test)"
   ]
  },
  {
   "cell_type": "code",
   "execution_count": 82,
   "id": "c3b7b25a-b2dd-4ef4-a1a1-d3f80da8a48d",
   "metadata": {
    "tags": []
   },
   "outputs": [
    {
     "data": {
      "text/plain": [
       "array([[4.00518923e-06, 9.99809351e-01, 1.86644079e-04],\n",
       "       [4.14942847e-04, 9.95794627e-01, 3.79042969e-03],\n",
       "       [9.99652991e-01, 2.14356716e-04, 1.32652643e-04],\n",
       "       [8.69841827e-06, 9.98606443e-01, 1.38485822e-03],\n",
       "       [8.14267436e-05, 8.01184966e-03, 9.91906724e-01],\n",
       "       [9.99948519e-01, 5.09367067e-05, 5.44193039e-07],\n",
       "       [3.01956585e-06, 5.21595749e-05, 9.99944821e-01],\n",
       "       [1.01417341e-05, 2.27968003e-04, 9.99761890e-01],\n",
       "       [5.75859148e-05, 1.04971699e-03, 9.98892697e-01],\n",
       "       [9.99974885e-01, 2.46231984e-05, 4.91410710e-07],\n",
       "       [2.54403648e-06, 3.97891253e-05, 9.99957667e-01],\n",
       "       [9.70643976e-06, 9.99522406e-01, 4.67887670e-04],\n",
       "       [9.99982893e-01, 1.66426090e-05, 4.64060061e-07],\n",
       "       [3.19375083e-06, 9.99801531e-01, 1.95275546e-04],\n",
       "       [2.13685473e-05, 9.87972530e-01, 1.20061017e-02],\n",
       "       [9.99616655e-01, 2.41400813e-04, 1.41944588e-04],\n",
       "       [2.55864649e-06, 9.99963210e-01, 3.42311300e-05],\n",
       "       [1.39044550e-04, 9.99780190e-01, 8.07649961e-05],\n",
       "       [3.86779879e-06, 9.99400983e-01, 5.95149684e-04],\n",
       "       [9.99974885e-01, 2.46231984e-05, 4.91410710e-07],\n",
       "       [8.87373506e-06, 9.98903090e-01, 1.08803613e-03],\n",
       "       [8.37379553e-04, 9.91910746e-01, 7.25187458e-03],\n",
       "       [2.02808213e-05, 1.18489804e-03, 9.98794821e-01],\n",
       "       [9.99980064e-01, 1.94023672e-05, 5.33142809e-07],\n",
       "       [1.47845694e-05, 9.97441296e-01, 2.54391974e-03],\n",
       "       [2.76024844e-06, 4.41729863e-05, 9.99953067e-01],\n",
       "       [3.97271958e-06, 7.72354027e-05, 9.99918792e-01],\n",
       "       [9.99981791e-01, 1.77427348e-05, 4.66628168e-07],\n",
       "       [1.09127840e-05, 9.97262938e-01, 2.72614900e-03],\n",
       "       [1.75876500e-05, 1.13032978e-03, 9.98852083e-01]])"
      ]
     },
     "execution_count": 82,
     "metadata": {},
     "output_type": "execute_result"
    }
   ],
   "source": [
    "gbm.predict_proba(X_test)"
   ]
  },
  {
   "cell_type": "markdown",
   "id": "7444a596-9ad5-4c7e-b4c6-ba98fc4f7cf5",
   "metadata": {},
   "source": [
    "我们可以借助argmax方法将概率预测结果转化为类别预测结果："
   ]
  },
  {
   "cell_type": "code",
   "execution_count": 83,
   "id": "f27f7efe-5226-432c-b53b-9f630d2f63d4",
   "metadata": {},
   "outputs": [
    {
     "data": {
      "text/plain": [
       "array([1, 1, 0, 1, 2, 0, 2, 2, 2, 0, 2, 1, 0, 1, 1, 0, 1, 1, 1, 0, 1, 1,\n",
       "       2, 0, 1, 2, 2, 0, 1, 2], dtype=int64)"
      ]
     },
     "execution_count": 83,
     "metadata": {},
     "output_type": "execute_result"
    }
   ],
   "source": [
    "np.argmax(gbm.predict_proba(X_test), 1)"
   ]
  },
  {
   "cell_type": "markdown",
   "id": "826568da-b0e9-4840-a0de-9a8165108682",
   "metadata": {},
   "source": [
    "同样，我们可以调用accuracy_score函数快速查看最终模型在训练集和测试集上的准确率："
   ]
  },
  {
   "cell_type": "code",
   "execution_count": 84,
   "id": "d548dc0b-3e57-4348-b29c-1ccd8d0d70c8",
   "metadata": {},
   "outputs": [
    {
     "data": {
      "text/plain": [
       "(1.0, 0.9666666666666667)"
      ]
     },
     "execution_count": 84,
     "metadata": {},
     "output_type": "execute_result"
    }
   ],
   "source": [
    "accuracy_score(y_train, gbm.predict(X_train)), accuracy_score(y_test, gbm.predict(X_test))"
   ]
  },
  {
   "cell_type": "markdown",
   "id": "25690aa2-99c1-4bb1-a7fb-08ba28bd2c63",
   "metadata": {},
   "source": [
    "至此，我们就完成了一次简单的LGBM算法的sklearn API调用。"
   ]
  },
  {
   "cell_type": "markdown",
   "id": "7ac19126-5e6e-455f-9660-2d88d827ae9e",
   "metadata": {},
   "source": [
    "#### 2.2 LGBM的原生API调用"
   ]
  },
  {
   "cell_type": "markdown",
   "id": "c0712566-bb45-47c7-a239-a62b0941b78d",
   "metadata": {},
   "source": [
    "&emsp;&emsp;当然，除了sklearn API调用外，我们还可以使用LGBM原生API进行模型训练。LGBM的原生API调用和XGB的原生API调用过程非常类似，一个最简单的流程如下：：        \n",
    "- **Step1.Data Interface**：借助.Dataset方式进行数据集封装；        \n",
    "- **Step2.Setting Parameters**：创建超参数字典，用于向模型传输超参数。若完全使用默认参数，则可设置空的字典作作为超参数列表对象；        \n",
    "- **Step3.Training**：通过.train的方式进行模型训练。        "
   ]
  },
  {
   "cell_type": "markdown",
   "id": "bdb804bc-a6ba-4a06-84b6-bd90e46566e4",
   "metadata": {},
   "source": [
    "&emsp;&emsp;首先是数据集的创建："
   ]
  },
  {
   "cell_type": "code",
   "execution_count": 85,
   "id": "01ac84f4-f9ae-4b03-a297-dc84fa99f167",
   "metadata": {},
   "outputs": [],
   "source": [
    "# 数据集创建\n",
    "train_data = lgb.Dataset(X_train, label=y_train)"
   ]
  },
  {
   "cell_type": "code",
   "execution_count": 86,
   "id": "c9c9af90-3f14-45b8-92e6-af0a18588e86",
   "metadata": {},
   "outputs": [
    {
     "data": {
      "text/plain": [
       "lightgbm.basic.Dataset"
      ]
     },
     "execution_count": 86,
     "metadata": {},
     "output_type": "execute_result"
    }
   ],
   "source": [
    "type(train_data)"
   ]
  },
  {
   "cell_type": "markdown",
   "id": "64518407-ea9d-49a9-9c9c-4e55af64047c",
   "metadata": {},
   "source": [
    "然后创建超参数字典。这里我们若全部采用模型默认的超参数，只需要设置空字典即可："
   ]
  },
  {
   "cell_type": "code",
   "execution_count": 87,
   "id": "ab6e2d65-b63d-4e29-87c3-e8f0165faef5",
   "metadata": {},
   "outputs": [],
   "source": [
    "# 设置超参数字典\n",
    "param = {}"
   ]
  },
  {
   "cell_type": "markdown",
   "id": "effb16f2-18f6-4416-835c-292766e8e070",
   "metadata": {},
   "source": [
    "不过这里因为鸢尾花数据是多分类问题，LGBM模型在默认情况下是回归类模型，因此需要通过超参数字典传输建模类型，即objective超参数取值为multiclass（目标为解决多分类问题），同时设置num_class取值为3，即3个类别的多分类问题。"
   ]
  },
  {
   "cell_type": "code",
   "execution_count": 88,
   "id": "157a1f5d-83f7-40bb-8087-c4663a9a7198",
   "metadata": {},
   "outputs": [],
   "source": [
    "param['objective'] = ['multiclass']\n",
    "param['num_class'] = [3]"
   ]
  },
  {
   "cell_type": "markdown",
   "id": "2e872c56-68de-4bcc-b62f-bbbb3f82f114",
   "metadata": {},
   "source": [
    "> 更多LGBM超参数介绍，详见后续课程内容。"
   ]
  },
  {
   "cell_type": "markdown",
   "id": "27f15d10-2c1d-4c72-a220-d09a7b6b4b3a",
   "metadata": {},
   "source": [
    "然后进行训练："
   ]
  },
  {
   "cell_type": "code",
   "execution_count": 89,
   "id": "01091155-ecad-49c3-830a-2ca537ebb98e",
   "metadata": {
    "collapsed": true,
    "jupyter": {
     "outputs_hidden": true
    },
    "tags": []
   },
   "outputs": [
    {
     "name": "stdout",
     "output_type": "stream",
     "text": [
      "[LightGBM] [Warning] Found whitespace in feature_names, replace with underlines\n",
      "[LightGBM] [Warning] Auto-choosing col-wise multi-threading, the overhead of testing was 0.000107 seconds.\n",
      "You can set `force_col_wise=true` to remove the overhead.\n",
      "[LightGBM] [Info] Total Bins 89\n",
      "[LightGBM] [Info] Number of data points in the train set: 120, number of used features: 4\n",
      "[LightGBM] [Info] Start training from score -1.049822\n",
      "[LightGBM] [Info] Start training from score -1.203973\n",
      "[LightGBM] [Info] Start training from score -1.049822\n",
      "[LightGBM] [Warning] No further splits with positive gain, best gain: -inf\n",
      "[LightGBM] [Warning] No further splits with positive gain, best gain: -inf\n",
      "[LightGBM] [Warning] No further splits with positive gain, best gain: -inf\n",
      "[LightGBM] [Warning] No further splits with positive gain, best gain: -inf\n",
      "[LightGBM] [Warning] No further splits with positive gain, best gain: -inf\n",
      "[LightGBM] [Warning] No further splits with positive gain, best gain: -inf\n",
      "[LightGBM] [Warning] No further splits with positive gain, best gain: -inf\n",
      "[LightGBM] [Warning] No further splits with positive gain, best gain: -inf\n",
      "[LightGBM] [Warning] No further splits with positive gain, best gain: -inf\n",
      "[LightGBM] [Warning] No further splits with positive gain, best gain: -inf\n",
      "[LightGBM] [Warning] No further splits with positive gain, best gain: -inf\n",
      "[LightGBM] [Warning] No further splits with positive gain, best gain: -inf\n",
      "[LightGBM] [Warning] No further splits with positive gain, best gain: -inf\n",
      "[LightGBM] [Warning] No further splits with positive gain, best gain: -inf\n",
      "[LightGBM] [Warning] No further splits with positive gain, best gain: -inf\n",
      "[LightGBM] [Warning] No further splits with positive gain, best gain: -inf\n",
      "[LightGBM] [Warning] No further splits with positive gain, best gain: -inf\n",
      "[LightGBM] [Warning] No further splits with positive gain, best gain: -inf\n",
      "[LightGBM] [Warning] No further splits with positive gain, best gain: -inf\n",
      "[LightGBM] [Warning] No further splits with positive gain, best gain: -inf\n",
      "[LightGBM] [Warning] No further splits with positive gain, best gain: -inf\n",
      "[LightGBM] [Warning] No further splits with positive gain, best gain: -inf\n",
      "[LightGBM] [Warning] No further splits with positive gain, best gain: -inf\n",
      "[LightGBM] [Warning] No further splits with positive gain, best gain: -inf\n",
      "[LightGBM] [Warning] No further splits with positive gain, best gain: -inf\n",
      "[LightGBM] [Warning] No further splits with positive gain, best gain: -inf\n",
      "[LightGBM] [Warning] No further splits with positive gain, best gain: -inf\n",
      "[LightGBM] [Warning] No further splits with positive gain, best gain: -inf\n",
      "[LightGBM] [Warning] No further splits with positive gain, best gain: -inf\n",
      "[LightGBM] [Warning] No further splits with positive gain, best gain: -inf\n",
      "[LightGBM] [Warning] No further splits with positive gain, best gain: -inf\n",
      "[LightGBM] [Warning] No further splits with positive gain, best gain: -inf\n",
      "[LightGBM] [Warning] No further splits with positive gain, best gain: -inf\n",
      "[LightGBM] [Warning] No further splits with positive gain, best gain: -inf\n",
      "[LightGBM] [Warning] No further splits with positive gain, best gain: -inf\n",
      "[LightGBM] [Warning] No further splits with positive gain, best gain: -inf\n",
      "[LightGBM] [Warning] No further splits with positive gain, best gain: -inf\n",
      "[LightGBM] [Warning] No further splits with positive gain, best gain: -inf\n",
      "[LightGBM] [Warning] No further splits with positive gain, best gain: -inf\n",
      "[LightGBM] [Warning] No further splits with positive gain, best gain: -inf\n",
      "[LightGBM] [Warning] No further splits with positive gain, best gain: -inf\n",
      "[LightGBM] [Warning] No further splits with positive gain, best gain: -inf\n",
      "[LightGBM] [Warning] No further splits with positive gain, best gain: -inf\n",
      "[LightGBM] [Warning] No further splits with positive gain, best gain: -inf\n",
      "[LightGBM] [Warning] No further splits with positive gain, best gain: -inf\n",
      "[LightGBM] [Warning] No further splits with positive gain, best gain: -inf\n",
      "[LightGBM] [Warning] No further splits with positive gain, best gain: -inf\n",
      "[LightGBM] [Warning] No further splits with positive gain, best gain: -inf\n",
      "[LightGBM] [Warning] No further splits with positive gain, best gain: -inf\n",
      "[LightGBM] [Warning] No further splits with positive gain, best gain: -inf\n",
      "[LightGBM] [Warning] No further splits with positive gain, best gain: -inf\n",
      "[LightGBM] [Warning] No further splits with positive gain, best gain: -inf\n",
      "[LightGBM] [Warning] No further splits with positive gain, best gain: -inf\n",
      "[LightGBM] [Warning] No further splits with positive gain, best gain: -inf\n",
      "[LightGBM] [Warning] No further splits with positive gain, best gain: -inf\n",
      "[LightGBM] [Warning] No further splits with positive gain, best gain: -inf\n",
      "[LightGBM] [Warning] No further splits with positive gain, best gain: -inf\n",
      "[LightGBM] [Warning] No further splits with positive gain, best gain: -inf\n",
      "[LightGBM] [Warning] No further splits with positive gain, best gain: -inf\n",
      "[LightGBM] [Warning] No further splits with positive gain, best gain: -inf\n",
      "[LightGBM] [Warning] No further splits with positive gain, best gain: -inf\n",
      "[LightGBM] [Warning] No further splits with positive gain, best gain: -inf\n",
      "[LightGBM] [Warning] No further splits with positive gain, best gain: -inf\n",
      "[LightGBM] [Warning] No further splits with positive gain, best gain: -inf\n",
      "[LightGBM] [Warning] No further splits with positive gain, best gain: -inf\n",
      "[LightGBM] [Warning] No further splits with positive gain, best gain: -inf\n",
      "[LightGBM] [Warning] No further splits with positive gain, best gain: -inf\n",
      "[LightGBM] [Warning] No further splits with positive gain, best gain: -inf\n",
      "[LightGBM] [Warning] No further splits with positive gain, best gain: -inf\n",
      "[LightGBM] [Warning] No further splits with positive gain, best gain: -inf\n",
      "[LightGBM] [Warning] No further splits with positive gain, best gain: -inf\n",
      "[LightGBM] [Warning] No further splits with positive gain, best gain: -inf\n",
      "[LightGBM] [Warning] No further splits with positive gain, best gain: -inf\n",
      "[LightGBM] [Warning] No further splits with positive gain, best gain: -inf\n",
      "[LightGBM] [Warning] No further splits with positive gain, best gain: -inf\n",
      "[LightGBM] [Warning] No further splits with positive gain, best gain: -inf\n",
      "[LightGBM] [Warning] No further splits with positive gain, best gain: -inf\n",
      "[LightGBM] [Warning] No further splits with positive gain, best gain: -inf\n",
      "[LightGBM] [Warning] No further splits with positive gain, best gain: -inf\n",
      "[LightGBM] [Warning] No further splits with positive gain, best gain: -inf\n",
      "[LightGBM] [Warning] No further splits with positive gain, best gain: -inf\n",
      "[LightGBM] [Warning] No further splits with positive gain, best gain: -inf\n",
      "[LightGBM] [Warning] No further splits with positive gain, best gain: -inf\n",
      "[LightGBM] [Warning] No further splits with positive gain, best gain: -inf\n",
      "[LightGBM] [Warning] No further splits with positive gain, best gain: -inf\n",
      "[LightGBM] [Warning] No further splits with positive gain, best gain: -inf\n",
      "[LightGBM] [Warning] No further splits with positive gain, best gain: -inf\n",
      "[LightGBM] [Warning] No further splits with positive gain, best gain: -inf\n",
      "[LightGBM] [Warning] No further splits with positive gain, best gain: -inf\n",
      "[LightGBM] [Warning] No further splits with positive gain, best gain: -inf\n",
      "[LightGBM] [Warning] No further splits with positive gain, best gain: -inf\n",
      "[LightGBM] [Warning] No further splits with positive gain, best gain: -inf\n",
      "[LightGBM] [Warning] No further splits with positive gain, best gain: -inf\n",
      "[LightGBM] [Warning] No further splits with positive gain, best gain: -inf\n",
      "[LightGBM] [Warning] No further splits with positive gain, best gain: -inf\n",
      "[LightGBM] [Warning] No further splits with positive gain, best gain: -inf\n",
      "[LightGBM] [Warning] No further splits with positive gain, best gain: -inf\n",
      "[LightGBM] [Warning] No further splits with positive gain, best gain: -inf\n",
      "[LightGBM] [Warning] No further splits with positive gain, best gain: -inf\n",
      "[LightGBM] [Warning] No further splits with positive gain, best gain: -inf\n",
      "[LightGBM] [Warning] No further splits with positive gain, best gain: -inf\n",
      "[LightGBM] [Warning] No further splits with positive gain, best gain: -inf\n",
      "[LightGBM] [Warning] No further splits with positive gain, best gain: -inf\n",
      "[LightGBM] [Warning] No further splits with positive gain, best gain: -inf\n",
      "[LightGBM] [Warning] No further splits with positive gain, best gain: -inf\n",
      "[LightGBM] [Warning] No further splits with positive gain, best gain: -inf\n",
      "[LightGBM] [Warning] No further splits with positive gain, best gain: -inf\n",
      "[LightGBM] [Warning] No further splits with positive gain, best gain: -inf\n",
      "[LightGBM] [Warning] No further splits with positive gain, best gain: -inf\n",
      "[LightGBM] [Warning] No further splits with positive gain, best gain: -inf\n",
      "[LightGBM] [Warning] No further splits with positive gain, best gain: -inf\n",
      "[LightGBM] [Warning] No further splits with positive gain, best gain: -inf\n",
      "[LightGBM] [Warning] No further splits with positive gain, best gain: -inf\n",
      "[LightGBM] [Warning] No further splits with positive gain, best gain: -inf\n",
      "[LightGBM] [Warning] No further splits with positive gain, best gain: -inf\n",
      "[LightGBM] [Warning] No further splits with positive gain, best gain: -inf\n",
      "[LightGBM] [Warning] No further splits with positive gain, best gain: -inf\n",
      "[LightGBM] [Warning] No further splits with positive gain, best gain: -inf\n",
      "[LightGBM] [Warning] No further splits with positive gain, best gain: -inf\n",
      "[LightGBM] [Warning] No further splits with positive gain, best gain: -inf\n",
      "[LightGBM] [Warning] No further splits with positive gain, best gain: -inf\n",
      "[LightGBM] [Warning] No further splits with positive gain, best gain: -inf\n",
      "[LightGBM] [Warning] No further splits with positive gain, best gain: -inf\n",
      "[LightGBM] [Warning] No further splits with positive gain, best gain: -inf\n",
      "[LightGBM] [Warning] No further splits with positive gain, best gain: -inf\n",
      "[LightGBM] [Warning] No further splits with positive gain, best gain: -inf\n",
      "[LightGBM] [Warning] No further splits with positive gain, best gain: -inf\n",
      "[LightGBM] [Warning] No further splits with positive gain, best gain: -inf\n",
      "[LightGBM] [Warning] No further splits with positive gain, best gain: -inf\n",
      "[LightGBM] [Warning] No further splits with positive gain, best gain: -inf\n",
      "[LightGBM] [Warning] No further splits with positive gain, best gain: -inf\n",
      "[LightGBM] [Warning] No further splits with positive gain, best gain: -inf\n",
      "[LightGBM] [Warning] No further splits with positive gain, best gain: -inf\n",
      "[LightGBM] [Warning] No further splits with positive gain, best gain: -inf\n",
      "[LightGBM] [Warning] No further splits with positive gain, best gain: -inf\n",
      "[LightGBM] [Warning] No further splits with positive gain, best gain: -inf\n",
      "[LightGBM] [Warning] No further splits with positive gain, best gain: -inf\n",
      "[LightGBM] [Warning] No further splits with positive gain, best gain: -inf\n",
      "[LightGBM] [Warning] No further splits with positive gain, best gain: -inf\n",
      "[LightGBM] [Warning] No further splits with positive gain, best gain: -inf\n",
      "[LightGBM] [Warning] No further splits with positive gain, best gain: -inf\n",
      "[LightGBM] [Warning] No further splits with positive gain, best gain: -inf\n",
      "[LightGBM] [Warning] No further splits with positive gain, best gain: -inf\n",
      "[LightGBM] [Warning] No further splits with positive gain, best gain: -inf\n",
      "[LightGBM] [Warning] No further splits with positive gain, best gain: -inf\n",
      "[LightGBM] [Warning] No further splits with positive gain, best gain: -inf\n",
      "[LightGBM] [Warning] No further splits with positive gain, best gain: -inf\n",
      "[LightGBM] [Warning] No further splits with positive gain, best gain: -inf\n",
      "[LightGBM] [Warning] No further splits with positive gain, best gain: -inf\n",
      "[LightGBM] [Warning] No further splits with positive gain, best gain: -inf\n",
      "[LightGBM] [Warning] No further splits with positive gain, best gain: -inf\n",
      "[LightGBM] [Warning] No further splits with positive gain, best gain: -inf\n",
      "[LightGBM] [Warning] No further splits with positive gain, best gain: -inf\n",
      "[LightGBM] [Warning] No further splits with positive gain, best gain: -inf\n",
      "[LightGBM] [Warning] No further splits with positive gain, best gain: -inf\n",
      "[LightGBM] [Warning] No further splits with positive gain, best gain: -inf\n",
      "[LightGBM] [Warning] No further splits with positive gain, best gain: -inf\n",
      "[LightGBM] [Warning] No further splits with positive gain, best gain: -inf\n",
      "[LightGBM] [Warning] No further splits with positive gain, best gain: -inf\n",
      "[LightGBM] [Warning] No further splits with positive gain, best gain: -inf\n",
      "[LightGBM] [Warning] No further splits with positive gain, best gain: -inf\n",
      "[LightGBM] [Warning] No further splits with positive gain, best gain: -inf\n",
      "[LightGBM] [Warning] No further splits with positive gain, best gain: -inf\n",
      "[LightGBM] [Warning] No further splits with positive gain, best gain: -inf\n",
      "[LightGBM] [Warning] No further splits with positive gain, best gain: -inf\n",
      "[LightGBM] [Warning] No further splits with positive gain, best gain: -inf\n",
      "[LightGBM] [Warning] No further splits with positive gain, best gain: -inf\n",
      "[LightGBM] [Warning] No further splits with positive gain, best gain: -inf\n",
      "[LightGBM] [Warning] No further splits with positive gain, best gain: -inf\n",
      "[LightGBM] [Warning] No further splits with positive gain, best gain: -inf\n",
      "[LightGBM] [Warning] No further splits with positive gain, best gain: -inf\n",
      "[LightGBM] [Warning] No further splits with positive gain, best gain: -inf\n",
      "[LightGBM] [Warning] No further splits with positive gain, best gain: -inf\n",
      "[LightGBM] [Warning] No further splits with positive gain, best gain: -inf\n",
      "[LightGBM] [Warning] No further splits with positive gain, best gain: -inf\n",
      "[LightGBM] [Warning] No further splits with positive gain, best gain: -inf\n",
      "[LightGBM] [Warning] No further splits with positive gain, best gain: -inf\n",
      "[LightGBM] [Warning] No further splits with positive gain, best gain: -inf\n",
      "[LightGBM] [Warning] No further splits with positive gain, best gain: -inf\n",
      "[LightGBM] [Warning] No further splits with positive gain, best gain: -inf\n",
      "[LightGBM] [Warning] No further splits with positive gain, best gain: -inf\n",
      "[LightGBM] [Warning] No further splits with positive gain, best gain: -inf\n",
      "[LightGBM] [Warning] No further splits with positive gain, best gain: -inf\n",
      "[LightGBM] [Warning] No further splits with positive gain, best gain: -inf\n",
      "[LightGBM] [Warning] No further splits with positive gain, best gain: -inf\n",
      "[LightGBM] [Warning] No further splits with positive gain, best gain: -inf\n",
      "[LightGBM] [Warning] No further splits with positive gain, best gain: -inf\n",
      "[LightGBM] [Warning] No further splits with positive gain, best gain: -inf\n",
      "[LightGBM] [Warning] No further splits with positive gain, best gain: -inf\n",
      "[LightGBM] [Warning] No further splits with positive gain, best gain: -inf\n",
      "[LightGBM] [Warning] No further splits with positive gain, best gain: -inf\n",
      "[LightGBM] [Warning] No further splits with positive gain, best gain: -inf\n",
      "[LightGBM] [Warning] No further splits with positive gain, best gain: -inf\n",
      "[LightGBM] [Warning] No further splits with positive gain, best gain: -inf\n",
      "[LightGBM] [Warning] No further splits with positive gain, best gain: -inf\n",
      "[LightGBM] [Warning] No further splits with positive gain, best gain: -inf\n",
      "[LightGBM] [Warning] No further splits with positive gain, best gain: -inf\n",
      "[LightGBM] [Warning] No further splits with positive gain, best gain: -inf\n",
      "[LightGBM] [Warning] No further splits with positive gain, best gain: -inf\n",
      "[LightGBM] [Warning] No further splits with positive gain, best gain: -inf\n",
      "[LightGBM] [Warning] No further splits with positive gain, best gain: -inf\n",
      "[LightGBM] [Warning] No further splits with positive gain, best gain: -inf\n",
      "[LightGBM] [Warning] No further splits with positive gain, best gain: -inf\n",
      "[LightGBM] [Warning] No further splits with positive gain, best gain: -inf\n",
      "[LightGBM] [Warning] No further splits with positive gain, best gain: -inf\n",
      "[LightGBM] [Warning] No further splits with positive gain, best gain: -inf\n",
      "[LightGBM] [Warning] No further splits with positive gain, best gain: -inf\n",
      "[LightGBM] [Warning] No further splits with positive gain, best gain: -inf\n",
      "[LightGBM] [Warning] No further splits with positive gain, best gain: -inf\n",
      "[LightGBM] [Warning] No further splits with positive gain, best gain: -inf\n",
      "[LightGBM] [Warning] No further splits with positive gain, best gain: -inf\n",
      "[LightGBM] [Warning] No further splits with positive gain, best gain: -inf\n",
      "[LightGBM] [Warning] No further splits with positive gain, best gain: -inf\n",
      "[LightGBM] [Warning] No further splits with positive gain, best gain: -inf\n",
      "[LightGBM] [Warning] No further splits with positive gain, best gain: -inf\n",
      "[LightGBM] [Warning] No further splits with positive gain, best gain: -inf\n",
      "[LightGBM] [Warning] No further splits with positive gain, best gain: -inf\n",
      "[LightGBM] [Warning] No further splits with positive gain, best gain: -inf\n",
      "[LightGBM] [Warning] No further splits with positive gain, best gain: -inf\n",
      "[LightGBM] [Warning] No further splits with positive gain, best gain: -inf\n",
      "[LightGBM] [Warning] No further splits with positive gain, best gain: -inf\n",
      "[LightGBM] [Warning] No further splits with positive gain, best gain: -inf\n",
      "[LightGBM] [Warning] No further splits with positive gain, best gain: -inf\n",
      "[LightGBM] [Warning] No further splits with positive gain, best gain: -inf\n",
      "[LightGBM] [Warning] No further splits with positive gain, best gain: -inf\n",
      "[LightGBM] [Warning] No further splits with positive gain, best gain: -inf\n",
      "[LightGBM] [Warning] No further splits with positive gain, best gain: -inf\n",
      "[LightGBM] [Warning] No further splits with positive gain, best gain: -inf\n",
      "[LightGBM] [Warning] No further splits with positive gain, best gain: -inf\n",
      "[LightGBM] [Warning] No further splits with positive gain, best gain: -inf\n",
      "[LightGBM] [Warning] No further splits with positive gain, best gain: -inf\n",
      "[LightGBM] [Warning] No further splits with positive gain, best gain: -inf\n",
      "[LightGBM] [Warning] No further splits with positive gain, best gain: -inf\n",
      "[LightGBM] [Warning] No further splits with positive gain, best gain: -inf\n",
      "[LightGBM] [Warning] No further splits with positive gain, best gain: -inf\n",
      "[LightGBM] [Warning] No further splits with positive gain, best gain: -inf\n",
      "[LightGBM] [Warning] No further splits with positive gain, best gain: -inf\n",
      "[LightGBM] [Warning] No further splits with positive gain, best gain: -inf\n",
      "[LightGBM] [Warning] No further splits with positive gain, best gain: -inf\n",
      "[LightGBM] [Warning] No further splits with positive gain, best gain: -inf\n",
      "[LightGBM] [Warning] No further splits with positive gain, best gain: -inf\n",
      "[LightGBM] [Warning] No further splits with positive gain, best gain: -inf\n",
      "[LightGBM] [Warning] No further splits with positive gain, best gain: -inf\n",
      "[LightGBM] [Warning] No further splits with positive gain, best gain: -inf\n",
      "[LightGBM] [Warning] No further splits with positive gain, best gain: -inf\n",
      "[LightGBM] [Warning] No further splits with positive gain, best gain: -inf\n",
      "[LightGBM] [Warning] No further splits with positive gain, best gain: -inf\n",
      "[LightGBM] [Warning] No further splits with positive gain, best gain: -inf\n",
      "[LightGBM] [Warning] No further splits with positive gain, best gain: -inf\n",
      "[LightGBM] [Warning] No further splits with positive gain, best gain: -inf\n",
      "[LightGBM] [Warning] No further splits with positive gain, best gain: -inf\n",
      "[LightGBM] [Warning] No further splits with positive gain, best gain: -inf\n",
      "[LightGBM] [Warning] No further splits with positive gain, best gain: -inf\n",
      "[LightGBM] [Warning] No further splits with positive gain, best gain: -inf\n",
      "[LightGBM] [Warning] No further splits with positive gain, best gain: -inf\n",
      "[LightGBM] [Warning] No further splits with positive gain, best gain: -inf\n",
      "[LightGBM] [Warning] No further splits with positive gain, best gain: -inf\n",
      "[LightGBM] [Warning] No further splits with positive gain, best gain: -inf\n",
      "[LightGBM] [Warning] No further splits with positive gain, best gain: -inf\n",
      "[LightGBM] [Warning] No further splits with positive gain, best gain: -inf\n",
      "[LightGBM] [Warning] No further splits with positive gain, best gain: -inf\n",
      "[LightGBM] [Warning] No further splits with positive gain, best gain: -inf\n",
      "[LightGBM] [Warning] No further splits with positive gain, best gain: -inf\n",
      "[LightGBM] [Warning] No further splits with positive gain, best gain: -inf\n",
      "[LightGBM] [Warning] No further splits with positive gain, best gain: -inf\n",
      "[LightGBM] [Warning] No further splits with positive gain, best gain: -inf\n",
      "[LightGBM] [Warning] No further splits with positive gain, best gain: -inf\n",
      "[LightGBM] [Warning] No further splits with positive gain, best gain: -inf\n",
      "[LightGBM] [Warning] No further splits with positive gain, best gain: -inf\n",
      "[LightGBM] [Warning] No further splits with positive gain, best gain: -inf\n",
      "[LightGBM] [Warning] No further splits with positive gain, best gain: -inf\n",
      "[LightGBM] [Warning] No further splits with positive gain, best gain: -inf\n",
      "[LightGBM] [Warning] No further splits with positive gain, best gain: -inf\n",
      "[LightGBM] [Warning] No further splits with positive gain, best gain: -inf\n",
      "[LightGBM] [Warning] No further splits with positive gain, best gain: -inf\n",
      "[LightGBM] [Warning] No further splits with positive gain, best gain: -inf\n",
      "[LightGBM] [Warning] No further splits with positive gain, best gain: -inf\n",
      "[LightGBM] [Warning] No further splits with positive gain, best gain: -inf\n",
      "[LightGBM] [Warning] No further splits with positive gain, best gain: -inf\n",
      "[LightGBM] [Warning] No further splits with positive gain, best gain: -inf\n",
      "[LightGBM] [Warning] No further splits with positive gain, best gain: -inf\n",
      "[LightGBM] [Warning] No further splits with positive gain, best gain: -inf\n",
      "[LightGBM] [Warning] No further splits with positive gain, best gain: -inf\n",
      "[LightGBM] [Warning] No further splits with positive gain, best gain: -inf\n",
      "[LightGBM] [Warning] No further splits with positive gain, best gain: -inf\n",
      "[LightGBM] [Warning] No further splits with positive gain, best gain: -inf\n",
      "[LightGBM] [Warning] No further splits with positive gain, best gain: -inf\n",
      "[LightGBM] [Warning] No further splits with positive gain, best gain: -inf\n",
      "[LightGBM] [Warning] No further splits with positive gain, best gain: -inf\n",
      "[LightGBM] [Warning] No further splits with positive gain, best gain: -inf\n",
      "[LightGBM] [Warning] No further splits with positive gain, best gain: -inf\n",
      "[LightGBM] [Warning] No further splits with positive gain, best gain: -inf\n",
      "[LightGBM] [Warning] No further splits with positive gain, best gain: -inf\n",
      "[LightGBM] [Warning] No further splits with positive gain, best gain: -inf\n",
      "[LightGBM] [Warning] No further splits with positive gain, best gain: -inf\n",
      "[LightGBM] [Warning] No further splits with positive gain, best gain: -inf\n",
      "[LightGBM] [Warning] No further splits with positive gain, best gain: -inf\n",
      "[LightGBM] [Warning] No further splits with positive gain, best gain: -inf\n",
      "[LightGBM] [Warning] No further splits with positive gain, best gain: -inf\n",
      "[LightGBM] [Warning] No further splits with positive gain, best gain: -inf\n"
     ]
    }
   ],
   "source": [
    "bst = lgb.train(param, train_data)"
   ]
  },
  {
   "cell_type": "markdown",
   "id": "8448c00e-df45-47bd-b065-9bd9ed755f69",
   "metadata": {},
   "source": [
    "> 极简流程只需要设置输入数据和超参数字典，其实也是因为lgb.train函数只有这两个必选的参数。"
   ]
  },
  {
   "cell_type": "code",
   "execution_count": 90,
   "id": "ad87bf89-41ea-4f0b-8feb-59d063c27c78",
   "metadata": {
    "collapsed": true,
    "jupyter": {
     "outputs_hidden": true
    },
    "tags": []
   },
   "outputs": [
    {
     "data": {
      "text/plain": [
       "\u001b[1;31mSignature:\u001b[0m\n",
       "\u001b[0mlgb\u001b[0m\u001b[1;33m.\u001b[0m\u001b[0mtrain\u001b[0m\u001b[1;33m(\u001b[0m\u001b[1;33m\n",
       "\u001b[0m    \u001b[0mparams\u001b[0m\u001b[1;33m:\u001b[0m \u001b[0mDict\u001b[0m\u001b[1;33m[\u001b[0m\u001b[0mstr\u001b[0m\u001b[1;33m,\u001b[0m \u001b[0mAny\u001b[0m\u001b[1;33m]\u001b[0m\u001b[1;33m,\u001b[0m\u001b[1;33m\n",
       "\u001b[0m    \u001b[0mtrain_set\u001b[0m\u001b[1;33m:\u001b[0m \u001b[0mlightgbm\u001b[0m\u001b[1;33m.\u001b[0m\u001b[0mbasic\u001b[0m\u001b[1;33m.\u001b[0m\u001b[0mDataset\u001b[0m\u001b[1;33m,\u001b[0m\u001b[1;33m\n",
       "\u001b[0m    \u001b[0mnum_boost_round\u001b[0m\u001b[1;33m:\u001b[0m \u001b[0mint\u001b[0m \u001b[1;33m=\u001b[0m \u001b[1;36m100\u001b[0m\u001b[1;33m,\u001b[0m\u001b[1;33m\n",
       "\u001b[0m    \u001b[0mvalid_sets\u001b[0m\u001b[1;33m:\u001b[0m \u001b[0mOptional\u001b[0m\u001b[1;33m[\u001b[0m\u001b[0mList\u001b[0m\u001b[1;33m[\u001b[0m\u001b[0mlightgbm\u001b[0m\u001b[1;33m.\u001b[0m\u001b[0mbasic\u001b[0m\u001b[1;33m.\u001b[0m\u001b[0mDataset\u001b[0m\u001b[1;33m]\u001b[0m\u001b[1;33m]\u001b[0m \u001b[1;33m=\u001b[0m \u001b[1;32mNone\u001b[0m\u001b[1;33m,\u001b[0m\u001b[1;33m\n",
       "\u001b[0m    \u001b[0mvalid_names\u001b[0m\u001b[1;33m:\u001b[0m \u001b[0mOptional\u001b[0m\u001b[1;33m[\u001b[0m\u001b[0mList\u001b[0m\u001b[1;33m[\u001b[0m\u001b[0mstr\u001b[0m\u001b[1;33m]\u001b[0m\u001b[1;33m]\u001b[0m \u001b[1;33m=\u001b[0m \u001b[1;32mNone\u001b[0m\u001b[1;33m,\u001b[0m\u001b[1;33m\n",
       "\u001b[0m    \u001b[0mfobj\u001b[0m\u001b[1;33m:\u001b[0m \u001b[0mOptional\u001b[0m\u001b[1;33m[\u001b[0m\u001b[0mCallable\u001b[0m\u001b[1;33m[\u001b[0m\u001b[1;33m[\u001b[0m\u001b[0mUnion\u001b[0m\u001b[1;33m[\u001b[0m\u001b[0mList\u001b[0m\u001b[1;33m,\u001b[0m \u001b[0mnumpy\u001b[0m\u001b[1;33m.\u001b[0m\u001b[0mndarray\u001b[0m\u001b[1;33m]\u001b[0m\u001b[1;33m,\u001b[0m \u001b[0mlightgbm\u001b[0m\u001b[1;33m.\u001b[0m\u001b[0mbasic\u001b[0m\u001b[1;33m.\u001b[0m\u001b[0mDataset\u001b[0m\u001b[1;33m]\u001b[0m\u001b[1;33m,\u001b[0m \u001b[0mTuple\u001b[0m\u001b[1;33m[\u001b[0m\u001b[0mUnion\u001b[0m\u001b[1;33m[\u001b[0m\u001b[0mList\u001b[0m\u001b[1;33m,\u001b[0m \u001b[0mnumpy\u001b[0m\u001b[1;33m.\u001b[0m\u001b[0mndarray\u001b[0m\u001b[1;33m]\u001b[0m\u001b[1;33m,\u001b[0m \u001b[0mUnion\u001b[0m\u001b[1;33m[\u001b[0m\u001b[0mList\u001b[0m\u001b[1;33m,\u001b[0m \u001b[0mnumpy\u001b[0m\u001b[1;33m.\u001b[0m\u001b[0mndarray\u001b[0m\u001b[1;33m]\u001b[0m\u001b[1;33m]\u001b[0m\u001b[1;33m]\u001b[0m\u001b[1;33m]\u001b[0m \u001b[1;33m=\u001b[0m \u001b[1;32mNone\u001b[0m\u001b[1;33m,\u001b[0m\u001b[1;33m\n",
       "\u001b[0m    \u001b[0mfeval\u001b[0m\u001b[1;33m:\u001b[0m \u001b[0mUnion\u001b[0m\u001b[1;33m[\u001b[0m\u001b[0mCallable\u001b[0m\u001b[1;33m[\u001b[0m\u001b[1;33m[\u001b[0m\u001b[0mUnion\u001b[0m\u001b[1;33m[\u001b[0m\u001b[0mList\u001b[0m\u001b[1;33m,\u001b[0m \u001b[0mnumpy\u001b[0m\u001b[1;33m.\u001b[0m\u001b[0mndarray\u001b[0m\u001b[1;33m]\u001b[0m\u001b[1;33m,\u001b[0m \u001b[0mlightgbm\u001b[0m\u001b[1;33m.\u001b[0m\u001b[0mbasic\u001b[0m\u001b[1;33m.\u001b[0m\u001b[0mDataset\u001b[0m\u001b[1;33m]\u001b[0m\u001b[1;33m,\u001b[0m \u001b[0mTuple\u001b[0m\u001b[1;33m[\u001b[0m\u001b[0mstr\u001b[0m\u001b[1;33m,\u001b[0m \u001b[0mfloat\u001b[0m\u001b[1;33m,\u001b[0m \u001b[0mbool\u001b[0m\u001b[1;33m]\u001b[0m\u001b[1;33m]\u001b[0m\u001b[1;33m,\u001b[0m \u001b[0mList\u001b[0m\u001b[1;33m[\u001b[0m\u001b[0mCallable\u001b[0m\u001b[1;33m[\u001b[0m\u001b[1;33m[\u001b[0m\u001b[0mUnion\u001b[0m\u001b[1;33m[\u001b[0m\u001b[0mList\u001b[0m\u001b[1;33m,\u001b[0m \u001b[0mnumpy\u001b[0m\u001b[1;33m.\u001b[0m\u001b[0mndarray\u001b[0m\u001b[1;33m]\u001b[0m\u001b[1;33m,\u001b[0m \u001b[0mlightgbm\u001b[0m\u001b[1;33m.\u001b[0m\u001b[0mbasic\u001b[0m\u001b[1;33m.\u001b[0m\u001b[0mDataset\u001b[0m\u001b[1;33m]\u001b[0m\u001b[1;33m,\u001b[0m \u001b[0mTuple\u001b[0m\u001b[1;33m[\u001b[0m\u001b[0mstr\u001b[0m\u001b[1;33m,\u001b[0m \u001b[0mfloat\u001b[0m\u001b[1;33m,\u001b[0m \u001b[0mbool\u001b[0m\u001b[1;33m]\u001b[0m\u001b[1;33m]\u001b[0m\u001b[1;33m]\u001b[0m\u001b[1;33m,\u001b[0m \u001b[0mNoneType\u001b[0m\u001b[1;33m]\u001b[0m \u001b[1;33m=\u001b[0m \u001b[1;32mNone\u001b[0m\u001b[1;33m,\u001b[0m\u001b[1;33m\n",
       "\u001b[0m    \u001b[0minit_model\u001b[0m\u001b[1;33m:\u001b[0m \u001b[0mUnion\u001b[0m\u001b[1;33m[\u001b[0m\u001b[0mstr\u001b[0m\u001b[1;33m,\u001b[0m \u001b[0mpathlib\u001b[0m\u001b[1;33m.\u001b[0m\u001b[0mPath\u001b[0m\u001b[1;33m,\u001b[0m \u001b[0mlightgbm\u001b[0m\u001b[1;33m.\u001b[0m\u001b[0mbasic\u001b[0m\u001b[1;33m.\u001b[0m\u001b[0mBooster\u001b[0m\u001b[1;33m,\u001b[0m \u001b[0mNoneType\u001b[0m\u001b[1;33m]\u001b[0m \u001b[1;33m=\u001b[0m \u001b[1;32mNone\u001b[0m\u001b[1;33m,\u001b[0m\u001b[1;33m\n",
       "\u001b[0m    \u001b[0mfeature_name\u001b[0m\u001b[1;33m:\u001b[0m \u001b[0mUnion\u001b[0m\u001b[1;33m[\u001b[0m\u001b[0mList\u001b[0m\u001b[1;33m[\u001b[0m\u001b[0mstr\u001b[0m\u001b[1;33m]\u001b[0m\u001b[1;33m,\u001b[0m \u001b[0mstr\u001b[0m\u001b[1;33m]\u001b[0m \u001b[1;33m=\u001b[0m \u001b[1;34m'auto'\u001b[0m\u001b[1;33m,\u001b[0m\u001b[1;33m\n",
       "\u001b[0m    \u001b[0mcategorical_feature\u001b[0m\u001b[1;33m:\u001b[0m \u001b[0mUnion\u001b[0m\u001b[1;33m[\u001b[0m\u001b[0mList\u001b[0m\u001b[1;33m[\u001b[0m\u001b[0mstr\u001b[0m\u001b[1;33m]\u001b[0m\u001b[1;33m,\u001b[0m \u001b[0mList\u001b[0m\u001b[1;33m[\u001b[0m\u001b[0mint\u001b[0m\u001b[1;33m]\u001b[0m\u001b[1;33m,\u001b[0m \u001b[0mstr\u001b[0m\u001b[1;33m]\u001b[0m \u001b[1;33m=\u001b[0m \u001b[1;34m'auto'\u001b[0m\u001b[1;33m,\u001b[0m\u001b[1;33m\n",
       "\u001b[0m    \u001b[0mearly_stopping_rounds\u001b[0m\u001b[1;33m:\u001b[0m \u001b[0mOptional\u001b[0m\u001b[1;33m[\u001b[0m\u001b[0mint\u001b[0m\u001b[1;33m]\u001b[0m \u001b[1;33m=\u001b[0m \u001b[1;32mNone\u001b[0m\u001b[1;33m,\u001b[0m\u001b[1;33m\n",
       "\u001b[0m    \u001b[0mevals_result\u001b[0m\u001b[1;33m:\u001b[0m \u001b[0mOptional\u001b[0m\u001b[1;33m[\u001b[0m\u001b[0mDict\u001b[0m\u001b[1;33m[\u001b[0m\u001b[0mstr\u001b[0m\u001b[1;33m,\u001b[0m \u001b[0mAny\u001b[0m\u001b[1;33m]\u001b[0m\u001b[1;33m]\u001b[0m \u001b[1;33m=\u001b[0m \u001b[1;32mNone\u001b[0m\u001b[1;33m,\u001b[0m\u001b[1;33m\n",
       "\u001b[0m    \u001b[0mverbose_eval\u001b[0m\u001b[1;33m:\u001b[0m \u001b[0mUnion\u001b[0m\u001b[1;33m[\u001b[0m\u001b[0mbool\u001b[0m\u001b[1;33m,\u001b[0m \u001b[0mint\u001b[0m\u001b[1;33m,\u001b[0m \u001b[0mstr\u001b[0m\u001b[1;33m]\u001b[0m \u001b[1;33m=\u001b[0m \u001b[1;34m'warn'\u001b[0m\u001b[1;33m,\u001b[0m\u001b[1;33m\n",
       "\u001b[0m    \u001b[0mlearning_rates\u001b[0m\u001b[1;33m:\u001b[0m \u001b[0mUnion\u001b[0m\u001b[1;33m[\u001b[0m\u001b[0mList\u001b[0m\u001b[1;33m[\u001b[0m\u001b[0mfloat\u001b[0m\u001b[1;33m]\u001b[0m\u001b[1;33m,\u001b[0m \u001b[0mCallable\u001b[0m\u001b[1;33m[\u001b[0m\u001b[1;33m[\u001b[0m\u001b[0mint\u001b[0m\u001b[1;33m]\u001b[0m\u001b[1;33m,\u001b[0m \u001b[0mfloat\u001b[0m\u001b[1;33m]\u001b[0m\u001b[1;33m,\u001b[0m \u001b[0mNoneType\u001b[0m\u001b[1;33m]\u001b[0m \u001b[1;33m=\u001b[0m \u001b[1;32mNone\u001b[0m\u001b[1;33m,\u001b[0m\u001b[1;33m\n",
       "\u001b[0m    \u001b[0mkeep_training_booster\u001b[0m\u001b[1;33m:\u001b[0m \u001b[0mbool\u001b[0m \u001b[1;33m=\u001b[0m \u001b[1;32mFalse\u001b[0m\u001b[1;33m,\u001b[0m\u001b[1;33m\n",
       "\u001b[0m    \u001b[0mcallbacks\u001b[0m\u001b[1;33m:\u001b[0m \u001b[0mOptional\u001b[0m\u001b[1;33m[\u001b[0m\u001b[0mList\u001b[0m\u001b[1;33m[\u001b[0m\u001b[0mCallable\u001b[0m\u001b[1;33m]\u001b[0m\u001b[1;33m]\u001b[0m \u001b[1;33m=\u001b[0m \u001b[1;32mNone\u001b[0m\u001b[1;33m,\u001b[0m\u001b[1;33m\n",
       "\u001b[0m\u001b[1;33m)\u001b[0m \u001b[1;33m->\u001b[0m \u001b[0mlightgbm\u001b[0m\u001b[1;33m.\u001b[0m\u001b[0mbasic\u001b[0m\u001b[1;33m.\u001b[0m\u001b[0mBooster\u001b[0m\u001b[1;33m\u001b[0m\u001b[1;33m\u001b[0m\u001b[0m\n",
       "\u001b[1;31mDocstring:\u001b[0m\n",
       "Perform the training with given parameters.\n",
       "\n",
       "Parameters\n",
       "----------\n",
       "params : dict\n",
       "    Parameters for training.\n",
       "train_set : Dataset\n",
       "    Data to be trained on.\n",
       "num_boost_round : int, optional (default=100)\n",
       "    Number of boosting iterations.\n",
       "valid_sets : list of Dataset, or None, optional (default=None)\n",
       "    List of data to be evaluated on during training.\n",
       "valid_names : list of str, or None, optional (default=None)\n",
       "    Names of ``valid_sets``.\n",
       "fobj : callable or None, optional (default=None)\n",
       "    Customized objective function.\n",
       "    Should accept two parameters: preds, train_data,\n",
       "    and return (grad, hess).\n",
       "\n",
       "        preds : list or numpy 1-D array\n",
       "            The predicted values.\n",
       "            Predicted values are returned before any transformation,\n",
       "            e.g. they are raw margin instead of probability of positive class for binary task.\n",
       "        train_data : Dataset\n",
       "            The training dataset.\n",
       "        grad : list or numpy 1-D array\n",
       "            The value of the first order derivative (gradient) of the loss\n",
       "            with respect to the elements of preds for each sample point.\n",
       "        hess : list or numpy 1-D array\n",
       "            The value of the second order derivative (Hessian) of the loss\n",
       "            with respect to the elements of preds for each sample point.\n",
       "\n",
       "    For multi-class task, the preds is group by class_id first, then group by row_id.\n",
       "    If you want to get i-th row preds in j-th class, the access way is score[j * num_data + i]\n",
       "    and you should group grad and hess in this way as well.\n",
       "\n",
       "feval : callable, list of callable, or None, optional (default=None)\n",
       "    Customized evaluation function.\n",
       "    Each evaluation function should accept two parameters: preds, train_data,\n",
       "    and return (eval_name, eval_result, is_higher_better) or list of such tuples.\n",
       "\n",
       "        preds : list or numpy 1-D array\n",
       "            The predicted values.\n",
       "            If ``fobj`` is specified, predicted values are returned before any transformation,\n",
       "            e.g. they are raw margin instead of probability of positive class for binary task in this case.\n",
       "        train_data : Dataset\n",
       "            The training dataset.\n",
       "        eval_name : str\n",
       "            The name of evaluation function (without whitespaces).\n",
       "        eval_result : float\n",
       "            The eval result.\n",
       "        is_higher_better : bool\n",
       "            Is eval result higher better, e.g. AUC is ``is_higher_better``.\n",
       "\n",
       "    For multi-class task, the preds is group by class_id first, then group by row_id.\n",
       "    If you want to get i-th row preds in j-th class, the access way is preds[j * num_data + i].\n",
       "    To ignore the default metric corresponding to the used objective,\n",
       "    set the ``metric`` parameter to the string ``\"None\"`` in ``params``.\n",
       "init_model : str, pathlib.Path, Booster or None, optional (default=None)\n",
       "    Filename of LightGBM model or Booster instance used for continue training.\n",
       "feature_name : list of str, or 'auto', optional (default=\"auto\")\n",
       "    Feature names.\n",
       "    If 'auto' and data is pandas DataFrame, data columns names are used.\n",
       "categorical_feature : list of str or int, or 'auto', optional (default=\"auto\")\n",
       "    Categorical features.\n",
       "    If list of int, interpreted as indices.\n",
       "    If list of str, interpreted as feature names (need to specify ``feature_name`` as well).\n",
       "    If 'auto' and data is pandas DataFrame, pandas unordered categorical columns are used.\n",
       "    All values in categorical features should be less than int32 max value (2147483647).\n",
       "    Large values could be memory consuming. Consider using consecutive integers starting from zero.\n",
       "    All negative values in categorical features will be treated as missing values.\n",
       "    The output cannot be monotonically constrained with respect to a categorical feature.\n",
       "early_stopping_rounds : int or None, optional (default=None)\n",
       "    Activates early stopping. The model will train until the validation score stops improving.\n",
       "    Validation score needs to improve at least every ``early_stopping_rounds`` round(s)\n",
       "    to continue training.\n",
       "    Requires at least one validation data and one metric.\n",
       "    If there's more than one, will check all of them. But the training data is ignored anyway.\n",
       "    To check only the first metric, set the ``first_metric_only`` parameter to ``True`` in ``params``.\n",
       "    The index of iteration that has the best performance will be saved in the ``best_iteration`` field\n",
       "    if early stopping logic is enabled by setting ``early_stopping_rounds``.\n",
       "evals_result : dict or None, optional (default=None)\n",
       "    Dictionary used to store all evaluation results of all the items in ``valid_sets``.\n",
       "    This should be initialized outside of your call to ``train()`` and should be empty.\n",
       "    Any initial contents of the dictionary will be deleted.\n",
       "\n",
       "    .. rubric:: Example\n",
       "\n",
       "    With a ``valid_sets`` = [valid_set, train_set],\n",
       "    ``valid_names`` = ['eval', 'train']\n",
       "    and a ``params`` = {'metric': 'logloss'}\n",
       "    returns {'train': {'logloss': ['0.48253', '0.35953', ...]},\n",
       "    'eval': {'logloss': ['0.480385', '0.357756', ...]}}.\n",
       "\n",
       "verbose_eval : bool or int, optional (default=True)\n",
       "    Requires at least one validation data.\n",
       "    If True, the eval metric on the valid set is printed at each boosting stage.\n",
       "    If int, the eval metric on the valid set is printed at every ``verbose_eval`` boosting stage.\n",
       "    The last boosting stage or the boosting stage found by using ``early_stopping_rounds`` is also printed.\n",
       "\n",
       "    .. rubric:: Example\n",
       "\n",
       "    With ``verbose_eval`` = 4 and at least one item in ``valid_sets``,\n",
       "    an evaluation metric is printed every 4 (instead of 1) boosting stages.\n",
       "\n",
       "learning_rates : list, callable or None, optional (default=None)\n",
       "    List of learning rates for each boosting round\n",
       "    or a callable that calculates ``learning_rate``\n",
       "    in terms of current number of round (e.g. yields learning rate decay).\n",
       "keep_training_booster : bool, optional (default=False)\n",
       "    Whether the returned Booster will be used to keep training.\n",
       "    If False, the returned value will be converted into _InnerPredictor before returning.\n",
       "    This means you won't be able to use ``eval``, ``eval_train`` or ``eval_valid`` methods of the returned Booster.\n",
       "    When your model is very large and cause the memory error,\n",
       "    you can try to set this param to ``True`` to avoid the model conversion performed during the internal call of ``model_to_string``.\n",
       "    You can still use _InnerPredictor as ``init_model`` for future continue training.\n",
       "callbacks : list of callable, or None, optional (default=None)\n",
       "    List of callback functions that are applied at each iteration.\n",
       "    See Callbacks in Python API for more information.\n",
       "\n",
       "Returns\n",
       "-------\n",
       "booster : Booster\n",
       "    The trained Booster model.\n",
       "\u001b[1;31mFile:\u001b[0m      d:\\anaconda3\\lib\\site-packages\\lightgbm\\engine.py\n",
       "\u001b[1;31mType:\u001b[0m      function\n"
      ]
     },
     "metadata": {},
     "output_type": "display_data"
    }
   ],
   "source": [
    "lgb.train?"
   ]
  },
  {
   "cell_type": "markdown",
   "id": "4fbcb3ba-8ac6-4f09-9c72-da9dd3328cb5",
   "metadata": {},
   "source": [
    "然后在测试集上完成预测："
   ]
  },
  {
   "cell_type": "code",
   "execution_count": 91,
   "id": "694e8f26-45a0-4b97-9959-973d9501d3a2",
   "metadata": {
    "tags": []
   },
   "outputs": [
    {
     "data": {
      "text/html": [
       "<div>\n",
       "<style scoped>\n",
       "    .dataframe tbody tr th:only-of-type {\n",
       "        vertical-align: middle;\n",
       "    }\n",
       "\n",
       "    .dataframe tbody tr th {\n",
       "        vertical-align: top;\n",
       "    }\n",
       "\n",
       "    .dataframe thead th {\n",
       "        text-align: right;\n",
       "    }\n",
       "</style>\n",
       "<table border=\"1\" class=\"dataframe\">\n",
       "  <thead>\n",
       "    <tr style=\"text-align: right;\">\n",
       "      <th></th>\n",
       "      <th>sepal length (cm)</th>\n",
       "      <th>sepal width (cm)</th>\n",
       "      <th>petal length (cm)</th>\n",
       "      <th>petal width (cm)</th>\n",
       "    </tr>\n",
       "  </thead>\n",
       "  <tbody>\n",
       "    <tr>\n",
       "      <th>99</th>\n",
       "      <td>5.7</td>\n",
       "      <td>2.8</td>\n",
       "      <td>4.1</td>\n",
       "      <td>1.3</td>\n",
       "    </tr>\n",
       "    <tr>\n",
       "      <th>62</th>\n",
       "      <td>6.0</td>\n",
       "      <td>2.2</td>\n",
       "      <td>4.0</td>\n",
       "      <td>1.0</td>\n",
       "    </tr>\n",
       "    <tr>\n",
       "      <th>1</th>\n",
       "      <td>4.9</td>\n",
       "      <td>3.0</td>\n",
       "      <td>1.4</td>\n",
       "      <td>0.2</td>\n",
       "    </tr>\n",
       "    <tr>\n",
       "      <th>75</th>\n",
       "      <td>6.6</td>\n",
       "      <td>3.0</td>\n",
       "      <td>4.4</td>\n",
       "      <td>1.4</td>\n",
       "    </tr>\n",
       "    <tr>\n",
       "      <th>101</th>\n",
       "      <td>5.8</td>\n",
       "      <td>2.7</td>\n",
       "      <td>5.1</td>\n",
       "      <td>1.9</td>\n",
       "    </tr>\n",
       "    <tr>\n",
       "      <th>15</th>\n",
       "      <td>5.7</td>\n",
       "      <td>4.4</td>\n",
       "      <td>1.5</td>\n",
       "      <td>0.4</td>\n",
       "    </tr>\n",
       "    <tr>\n",
       "      <th>147</th>\n",
       "      <td>6.5</td>\n",
       "      <td>3.0</td>\n",
       "      <td>5.2</td>\n",
       "      <td>2.0</td>\n",
       "    </tr>\n",
       "    <tr>\n",
       "      <th>108</th>\n",
       "      <td>6.7</td>\n",
       "      <td>2.5</td>\n",
       "      <td>5.8</td>\n",
       "      <td>1.8</td>\n",
       "    </tr>\n",
       "    <tr>\n",
       "      <th>144</th>\n",
       "      <td>6.7</td>\n",
       "      <td>3.3</td>\n",
       "      <td>5.7</td>\n",
       "      <td>2.5</td>\n",
       "    </tr>\n",
       "    <tr>\n",
       "      <th>32</th>\n",
       "      <td>5.2</td>\n",
       "      <td>4.1</td>\n",
       "      <td>1.5</td>\n",
       "      <td>0.1</td>\n",
       "    </tr>\n",
       "    <tr>\n",
       "      <th>102</th>\n",
       "      <td>7.1</td>\n",
       "      <td>3.0</td>\n",
       "      <td>5.9</td>\n",
       "      <td>2.1</td>\n",
       "    </tr>\n",
       "    <tr>\n",
       "      <th>64</th>\n",
       "      <td>5.6</td>\n",
       "      <td>2.9</td>\n",
       "      <td>3.6</td>\n",
       "      <td>1.3</td>\n",
       "    </tr>\n",
       "    <tr>\n",
       "      <th>11</th>\n",
       "      <td>4.8</td>\n",
       "      <td>3.4</td>\n",
       "      <td>1.6</td>\n",
       "      <td>0.2</td>\n",
       "    </tr>\n",
       "    <tr>\n",
       "      <th>90</th>\n",
       "      <td>5.5</td>\n",
       "      <td>2.6</td>\n",
       "      <td>4.4</td>\n",
       "      <td>1.2</td>\n",
       "    </tr>\n",
       "    <tr>\n",
       "      <th>52</th>\n",
       "      <td>6.9</td>\n",
       "      <td>3.1</td>\n",
       "      <td>4.9</td>\n",
       "      <td>1.5</td>\n",
       "    </tr>\n",
       "    <tr>\n",
       "      <th>45</th>\n",
       "      <td>4.8</td>\n",
       "      <td>3.0</td>\n",
       "      <td>1.4</td>\n",
       "      <td>0.3</td>\n",
       "    </tr>\n",
       "    <tr>\n",
       "      <th>82</th>\n",
       "      <td>5.8</td>\n",
       "      <td>2.7</td>\n",
       "      <td>3.9</td>\n",
       "      <td>1.2</td>\n",
       "    </tr>\n",
       "    <tr>\n",
       "      <th>67</th>\n",
       "      <td>5.8</td>\n",
       "      <td>2.7</td>\n",
       "      <td>4.1</td>\n",
       "      <td>1.0</td>\n",
       "    </tr>\n",
       "    <tr>\n",
       "      <th>89</th>\n",
       "      <td>5.5</td>\n",
       "      <td>2.5</td>\n",
       "      <td>4.0</td>\n",
       "      <td>1.3</td>\n",
       "    </tr>\n",
       "    <tr>\n",
       "      <th>27</th>\n",
       "      <td>5.2</td>\n",
       "      <td>3.5</td>\n",
       "      <td>1.5</td>\n",
       "      <td>0.2</td>\n",
       "    </tr>\n",
       "    <tr>\n",
       "      <th>73</th>\n",
       "      <td>6.1</td>\n",
       "      <td>2.8</td>\n",
       "      <td>4.7</td>\n",
       "      <td>1.2</td>\n",
       "    </tr>\n",
       "    <tr>\n",
       "      <th>60</th>\n",
       "      <td>5.0</td>\n",
       "      <td>2.0</td>\n",
       "      <td>3.5</td>\n",
       "      <td>1.0</td>\n",
       "    </tr>\n",
       "    <tr>\n",
       "      <th>149</th>\n",
       "      <td>5.9</td>\n",
       "      <td>3.0</td>\n",
       "      <td>5.1</td>\n",
       "      <td>1.8</td>\n",
       "    </tr>\n",
       "    <tr>\n",
       "      <th>19</th>\n",
       "      <td>5.1</td>\n",
       "      <td>3.8</td>\n",
       "      <td>1.5</td>\n",
       "      <td>0.3</td>\n",
       "    </tr>\n",
       "    <tr>\n",
       "      <th>68</th>\n",
       "      <td>6.2</td>\n",
       "      <td>2.2</td>\n",
       "      <td>4.5</td>\n",
       "      <td>1.5</td>\n",
       "    </tr>\n",
       "    <tr>\n",
       "      <th>107</th>\n",
       "      <td>7.3</td>\n",
       "      <td>2.9</td>\n",
       "      <td>6.3</td>\n",
       "      <td>1.8</td>\n",
       "    </tr>\n",
       "    <tr>\n",
       "      <th>77</th>\n",
       "      <td>6.7</td>\n",
       "      <td>3.0</td>\n",
       "      <td>5.0</td>\n",
       "      <td>1.7</td>\n",
       "    </tr>\n",
       "    <tr>\n",
       "      <th>6</th>\n",
       "      <td>4.6</td>\n",
       "      <td>3.4</td>\n",
       "      <td>1.4</td>\n",
       "      <td>0.3</td>\n",
       "    </tr>\n",
       "    <tr>\n",
       "      <th>54</th>\n",
       "      <td>6.5</td>\n",
       "      <td>2.8</td>\n",
       "      <td>4.6</td>\n",
       "      <td>1.5</td>\n",
       "    </tr>\n",
       "    <tr>\n",
       "      <th>113</th>\n",
       "      <td>5.7</td>\n",
       "      <td>2.5</td>\n",
       "      <td>5.0</td>\n",
       "      <td>2.0</td>\n",
       "    </tr>\n",
       "  </tbody>\n",
       "</table>\n",
       "</div>"
      ],
      "text/plain": [
       "     sepal length (cm)  sepal width (cm)  petal length (cm)  petal width (cm)\n",
       "99                 5.7               2.8                4.1               1.3\n",
       "62                 6.0               2.2                4.0               1.0\n",
       "1                  4.9               3.0                1.4               0.2\n",
       "75                 6.6               3.0                4.4               1.4\n",
       "101                5.8               2.7                5.1               1.9\n",
       "15                 5.7               4.4                1.5               0.4\n",
       "147                6.5               3.0                5.2               2.0\n",
       "108                6.7               2.5                5.8               1.8\n",
       "144                6.7               3.3                5.7               2.5\n",
       "32                 5.2               4.1                1.5               0.1\n",
       "102                7.1               3.0                5.9               2.1\n",
       "64                 5.6               2.9                3.6               1.3\n",
       "11                 4.8               3.4                1.6               0.2\n",
       "90                 5.5               2.6                4.4               1.2\n",
       "52                 6.9               3.1                4.9               1.5\n",
       "45                 4.8               3.0                1.4               0.3\n",
       "82                 5.8               2.7                3.9               1.2\n",
       "67                 5.8               2.7                4.1               1.0\n",
       "89                 5.5               2.5                4.0               1.3\n",
       "27                 5.2               3.5                1.5               0.2\n",
       "73                 6.1               2.8                4.7               1.2\n",
       "60                 5.0               2.0                3.5               1.0\n",
       "149                5.9               3.0                5.1               1.8\n",
       "19                 5.1               3.8                1.5               0.3\n",
       "68                 6.2               2.2                4.5               1.5\n",
       "107                7.3               2.9                6.3               1.8\n",
       "77                 6.7               3.0                5.0               1.7\n",
       "6                  4.6               3.4                1.4               0.3\n",
       "54                 6.5               2.8                4.6               1.5\n",
       "113                5.7               2.5                5.0               2.0"
      ]
     },
     "execution_count": 91,
     "metadata": {},
     "output_type": "execute_result"
    }
   ],
   "source": [
    "X_test"
   ]
  },
  {
   "cell_type": "code",
   "execution_count": 92,
   "id": "283307a0-6be0-434f-916b-7bcda561d148",
   "metadata": {},
   "outputs": [
    {
     "data": {
      "text/plain": [
       "array([[4.00518923e-06, 9.99809351e-01, 1.86644079e-04],\n",
       "       [4.14942847e-04, 9.95794627e-01, 3.79042969e-03],\n",
       "       [9.99652991e-01, 2.14356716e-04, 1.32652643e-04],\n",
       "       [8.69841827e-06, 9.98606443e-01, 1.38485822e-03],\n",
       "       [8.14267436e-05, 8.01184966e-03, 9.91906724e-01],\n",
       "       [9.99948519e-01, 5.09367067e-05, 5.44193039e-07],\n",
       "       [3.01956585e-06, 5.21595749e-05, 9.99944821e-01],\n",
       "       [1.01417341e-05, 2.27968003e-04, 9.99761890e-01],\n",
       "       [5.75859148e-05, 1.04971699e-03, 9.98892697e-01],\n",
       "       [9.99974885e-01, 2.46231984e-05, 4.91410710e-07],\n",
       "       [2.54403648e-06, 3.97891253e-05, 9.99957667e-01],\n",
       "       [9.70643976e-06, 9.99522406e-01, 4.67887670e-04],\n",
       "       [9.99982893e-01, 1.66426090e-05, 4.64060061e-07],\n",
       "       [3.19375083e-06, 9.99801531e-01, 1.95275546e-04],\n",
       "       [2.13685473e-05, 9.87972530e-01, 1.20061017e-02],\n",
       "       [9.99616655e-01, 2.41400813e-04, 1.41944588e-04],\n",
       "       [2.55864649e-06, 9.99963210e-01, 3.42311300e-05],\n",
       "       [1.39044550e-04, 9.99780190e-01, 8.07649961e-05],\n",
       "       [3.86779879e-06, 9.99400983e-01, 5.95149684e-04],\n",
       "       [9.99974885e-01, 2.46231984e-05, 4.91410710e-07],\n",
       "       [8.87373506e-06, 9.98903090e-01, 1.08803613e-03],\n",
       "       [8.37379553e-04, 9.91910746e-01, 7.25187458e-03],\n",
       "       [2.02808213e-05, 1.18489804e-03, 9.98794821e-01],\n",
       "       [9.99980064e-01, 1.94023672e-05, 5.33142809e-07],\n",
       "       [1.47845694e-05, 9.97441296e-01, 2.54391974e-03],\n",
       "       [2.76024844e-06, 4.41729863e-05, 9.99953067e-01],\n",
       "       [3.97271958e-06, 7.72354027e-05, 9.99918792e-01],\n",
       "       [9.99981791e-01, 1.77427348e-05, 4.66628168e-07],\n",
       "       [1.09127840e-05, 9.97262938e-01, 2.72614900e-03],\n",
       "       [1.75876500e-05, 1.13032978e-03, 9.98852083e-01]])"
      ]
     },
     "execution_count": 92,
     "metadata": {},
     "output_type": "execute_result"
    }
   ],
   "source": [
    "bst.predict(X_test)"
   ]
  },
  {
   "cell_type": "markdown",
   "id": "5b005d14-6b4d-4c7f-9a37-2fa0beb89b72",
   "metadata": {},
   "source": [
    "然后即可将概率预测结果进一步转化为类别预测结果，这里同样可以使用argmax进行计算："
   ]
  },
  {
   "cell_type": "code",
   "execution_count": 93,
   "id": "528df184-4106-433b-a99b-82565489d6f1",
   "metadata": {},
   "outputs": [
    {
     "data": {
      "text/plain": [
       "array([1, 1, 0, 1, 2, 0, 2, 2, 2, 0, 2, 1, 0, 1, 1, 0, 1, 1, 1, 0, 1, 1,\n",
       "       2, 0, 1, 2, 2, 0, 1, 2], dtype=int64)"
      ]
     },
     "execution_count": 93,
     "metadata": {},
     "output_type": "execute_result"
    }
   ],
   "source": [
    "bst.predict(X_test).argmax(1)"
   ]
  },
  {
   "cell_type": "markdown",
   "id": "8bf88b4b-998c-4953-8374-b0528dc3664e",
   "metadata": {},
   "source": [
    "至此我们即完成了通过调用LGBM原生API进行模型训练的完整过程。"
   ]
  },
  {
   "cell_type": "markdown",
   "id": "c1e08774-5e3b-4875-a04f-3c645541d8fd",
   "metadata": {
    "tags": []
   },
   "source": [
    "### 3.LightGBM sklearn API超参数解释与使用方法"
   ]
  },
  {
   "cell_type": "markdown",
   "id": "8bbbe0da-6588-4db9-ab74-4429f3eabb8e",
   "metadata": {},
   "source": [
    "&emsp;&emsp;接下来我们进一步解释LGBM的sklearn API中各评估器中的超参数及使用方法。"
   ]
  },
  {
   "cell_type": "markdown",
   "id": "28adc495-a8a6-48a5-9345-a2eccd4056b1",
   "metadata": {},
   "source": [
    "&emsp;&emsp;在LGBM的sklearn API中，总共包含四个模型类（也就是四个评估器），分别是lightgbm.LGBMModel、LGBMClassifier 和 LGBMRegressor 以及LGBMRanker："
   ]
  },
  {
   "cell_type": "markdown",
   "id": "b1daa23a-2745-4bd9-b898-f2b2f031f79b",
   "metadata": {},
   "source": [
    "<center><img src=\"https://ml2022.oss-cn-hangzhou.aliyuncs.com/img/202303181606760.png\" alt=\"1679126801449\" style=\"zoom:35%;\" />"
   ]
  },
  {
   "cell_type": "markdown",
   "id": "d9e75140-1c69-41a7-b979-91ff102a3137",
   "metadata": {},
   "source": [
    "其中LGBMModel是 LightGBM 的基本模型类，它是一个泛型模型类，可以用于各种类型的问题（如分类、回归等）。通常，我们不直接使用 LGBMModel，而是使用针对特定任务的子类使用不同的类，即分类问题使用 LGBMClassifier 、回归问题使用 LGBMRegressor，而排序问题则使用LGBMRanker。接下来我们重点解释分类和回归模型类的超参数。"
   ]
  },
  {
   "cell_type": "markdown",
   "id": "021ed0ad-8f76-468a-b51b-3ca1d1eff75b",
   "metadata": {},
   "source": [
    "#### 2.1 LGBMClassifier超参数概览"
   ]
  },
  {
   "cell_type": "markdown",
   "id": "f7905f13-c2a1-4172-b0b1-71193f4792fe",
   "metadata": {},
   "source": [
    "&emsp;&emsp;和sklearn中其他评估器命名规则一致，Classifier是用于分类问题的评估器，Regressor是用于回归问题的评估器，两个评估器的超参数构成类似，这里我们先看LGBMClassifier的超参数构成："
   ]
  },
  {
   "cell_type": "code",
   "execution_count": 23,
   "id": "d17c9c22-ecc3-418c-8997-2cd6623b832d",
   "metadata": {
    "collapsed": true,
    "jupyter": {
     "outputs_hidden": true
    },
    "tags": []
   },
   "outputs": [
    {
     "data": {
      "text/plain": [
       "\u001b[1;31mInit signature:\u001b[0m\n",
       "\u001b[0mLGBMClassifier\u001b[0m\u001b[1;33m(\u001b[0m\u001b[1;33m\n",
       "\u001b[0m    \u001b[0mboosting_type\u001b[0m\u001b[1;33m:\u001b[0m \u001b[0mstr\u001b[0m \u001b[1;33m=\u001b[0m \u001b[1;34m'gbdt'\u001b[0m\u001b[1;33m,\u001b[0m\u001b[1;33m\n",
       "\u001b[0m    \u001b[0mnum_leaves\u001b[0m\u001b[1;33m:\u001b[0m \u001b[0mint\u001b[0m \u001b[1;33m=\u001b[0m \u001b[1;36m31\u001b[0m\u001b[1;33m,\u001b[0m\u001b[1;33m\n",
       "\u001b[0m    \u001b[0mmax_depth\u001b[0m\u001b[1;33m:\u001b[0m \u001b[0mint\u001b[0m \u001b[1;33m=\u001b[0m \u001b[1;33m-\u001b[0m\u001b[1;36m1\u001b[0m\u001b[1;33m,\u001b[0m\u001b[1;33m\n",
       "\u001b[0m    \u001b[0mlearning_rate\u001b[0m\u001b[1;33m:\u001b[0m \u001b[0mfloat\u001b[0m \u001b[1;33m=\u001b[0m \u001b[1;36m0.1\u001b[0m\u001b[1;33m,\u001b[0m\u001b[1;33m\n",
       "\u001b[0m    \u001b[0mn_estimators\u001b[0m\u001b[1;33m:\u001b[0m \u001b[0mint\u001b[0m \u001b[1;33m=\u001b[0m \u001b[1;36m100\u001b[0m\u001b[1;33m,\u001b[0m\u001b[1;33m\n",
       "\u001b[0m    \u001b[0msubsample_for_bin\u001b[0m\u001b[1;33m:\u001b[0m \u001b[0mint\u001b[0m \u001b[1;33m=\u001b[0m \u001b[1;36m200000\u001b[0m\u001b[1;33m,\u001b[0m\u001b[1;33m\n",
       "\u001b[0m    \u001b[0mobjective\u001b[0m\u001b[1;33m:\u001b[0m \u001b[0mUnion\u001b[0m\u001b[1;33m[\u001b[0m\u001b[0mstr\u001b[0m\u001b[1;33m,\u001b[0m \u001b[0mCallable\u001b[0m\u001b[1;33m,\u001b[0m \u001b[0mNoneType\u001b[0m\u001b[1;33m]\u001b[0m \u001b[1;33m=\u001b[0m \u001b[1;32mNone\u001b[0m\u001b[1;33m,\u001b[0m\u001b[1;33m\n",
       "\u001b[0m    \u001b[0mclass_weight\u001b[0m\u001b[1;33m:\u001b[0m \u001b[0mUnion\u001b[0m\u001b[1;33m[\u001b[0m\u001b[0mDict\u001b[0m\u001b[1;33m,\u001b[0m \u001b[0mstr\u001b[0m\u001b[1;33m,\u001b[0m \u001b[0mNoneType\u001b[0m\u001b[1;33m]\u001b[0m \u001b[1;33m=\u001b[0m \u001b[1;32mNone\u001b[0m\u001b[1;33m,\u001b[0m\u001b[1;33m\n",
       "\u001b[0m    \u001b[0mmin_split_gain\u001b[0m\u001b[1;33m:\u001b[0m \u001b[0mfloat\u001b[0m \u001b[1;33m=\u001b[0m \u001b[1;36m0.0\u001b[0m\u001b[1;33m,\u001b[0m\u001b[1;33m\n",
       "\u001b[0m    \u001b[0mmin_child_weight\u001b[0m\u001b[1;33m:\u001b[0m \u001b[0mfloat\u001b[0m \u001b[1;33m=\u001b[0m \u001b[1;36m0.001\u001b[0m\u001b[1;33m,\u001b[0m\u001b[1;33m\n",
       "\u001b[0m    \u001b[0mmin_child_samples\u001b[0m\u001b[1;33m:\u001b[0m \u001b[0mint\u001b[0m \u001b[1;33m=\u001b[0m \u001b[1;36m20\u001b[0m\u001b[1;33m,\u001b[0m\u001b[1;33m\n",
       "\u001b[0m    \u001b[0msubsample\u001b[0m\u001b[1;33m:\u001b[0m \u001b[0mfloat\u001b[0m \u001b[1;33m=\u001b[0m \u001b[1;36m1.0\u001b[0m\u001b[1;33m,\u001b[0m\u001b[1;33m\n",
       "\u001b[0m    \u001b[0msubsample_freq\u001b[0m\u001b[1;33m:\u001b[0m \u001b[0mint\u001b[0m \u001b[1;33m=\u001b[0m \u001b[1;36m0\u001b[0m\u001b[1;33m,\u001b[0m\u001b[1;33m\n",
       "\u001b[0m    \u001b[0mcolsample_bytree\u001b[0m\u001b[1;33m:\u001b[0m \u001b[0mfloat\u001b[0m \u001b[1;33m=\u001b[0m \u001b[1;36m1.0\u001b[0m\u001b[1;33m,\u001b[0m\u001b[1;33m\n",
       "\u001b[0m    \u001b[0mreg_alpha\u001b[0m\u001b[1;33m:\u001b[0m \u001b[0mfloat\u001b[0m \u001b[1;33m=\u001b[0m \u001b[1;36m0.0\u001b[0m\u001b[1;33m,\u001b[0m\u001b[1;33m\n",
       "\u001b[0m    \u001b[0mreg_lambda\u001b[0m\u001b[1;33m:\u001b[0m \u001b[0mfloat\u001b[0m \u001b[1;33m=\u001b[0m \u001b[1;36m0.0\u001b[0m\u001b[1;33m,\u001b[0m\u001b[1;33m\n",
       "\u001b[0m    \u001b[0mrandom_state\u001b[0m\u001b[1;33m:\u001b[0m \u001b[0mUnion\u001b[0m\u001b[1;33m[\u001b[0m\u001b[0mint\u001b[0m\u001b[1;33m,\u001b[0m \u001b[0mnumpy\u001b[0m\u001b[1;33m.\u001b[0m\u001b[0mrandom\u001b[0m\u001b[1;33m.\u001b[0m\u001b[0mmtrand\u001b[0m\u001b[1;33m.\u001b[0m\u001b[0mRandomState\u001b[0m\u001b[1;33m,\u001b[0m \u001b[0mNoneType\u001b[0m\u001b[1;33m]\u001b[0m \u001b[1;33m=\u001b[0m \u001b[1;32mNone\u001b[0m\u001b[1;33m,\u001b[0m\u001b[1;33m\n",
       "\u001b[0m    \u001b[0mn_jobs\u001b[0m\u001b[1;33m:\u001b[0m \u001b[0mint\u001b[0m \u001b[1;33m=\u001b[0m \u001b[1;33m-\u001b[0m\u001b[1;36m1\u001b[0m\u001b[1;33m,\u001b[0m\u001b[1;33m\n",
       "\u001b[0m    \u001b[0msilent\u001b[0m\u001b[1;33m:\u001b[0m \u001b[0mUnion\u001b[0m\u001b[1;33m[\u001b[0m\u001b[0mbool\u001b[0m\u001b[1;33m,\u001b[0m \u001b[0mstr\u001b[0m\u001b[1;33m]\u001b[0m \u001b[1;33m=\u001b[0m \u001b[1;34m'warn'\u001b[0m\u001b[1;33m,\u001b[0m\u001b[1;33m\n",
       "\u001b[0m    \u001b[0mimportance_type\u001b[0m\u001b[1;33m:\u001b[0m \u001b[0mstr\u001b[0m \u001b[1;33m=\u001b[0m \u001b[1;34m'split'\u001b[0m\u001b[1;33m,\u001b[0m\u001b[1;33m\n",
       "\u001b[0m    \u001b[1;33m**\u001b[0m\u001b[0mkwargs\u001b[0m\u001b[1;33m,\u001b[0m\u001b[1;33m\n",
       "\u001b[0m\u001b[1;33m)\u001b[0m\u001b[1;33m\u001b[0m\u001b[1;33m\u001b[0m\u001b[0m\n",
       "\u001b[1;31mDocstring:\u001b[0m      LightGBM classifier.\n",
       "\u001b[1;31mInit docstring:\u001b[0m\n",
       "Construct a gradient boosting model.\n",
       "\n",
       "Parameters\n",
       "----------\n",
       "boosting_type : str, optional (default='gbdt')\n",
       "    'gbdt', traditional Gradient Boosting Decision Tree.\n",
       "    'dart', Dropouts meet Multiple Additive Regression Trees.\n",
       "    'goss', Gradient-based One-Side Sampling.\n",
       "    'rf', Random Forest.\n",
       "num_leaves : int, optional (default=31)\n",
       "    Maximum tree leaves for base learners.\n",
       "max_depth : int, optional (default=-1)\n",
       "    Maximum tree depth for base learners, <=0 means no limit.\n",
       "learning_rate : float, optional (default=0.1)\n",
       "    Boosting learning rate.\n",
       "    You can use ``callbacks`` parameter of ``fit`` method to shrink/adapt learning rate\n",
       "    in training using ``reset_parameter`` callback.\n",
       "    Note, that this will ignore the ``learning_rate`` argument in training.\n",
       "n_estimators : int, optional (default=100)\n",
       "    Number of boosted trees to fit.\n",
       "subsample_for_bin : int, optional (default=200000)\n",
       "    Number of samples for constructing bins.\n",
       "objective : str, callable or None, optional (default=None)\n",
       "    Specify the learning task and the corresponding learning objective or\n",
       "    a custom objective function to be used (see note below).\n",
       "    Default: 'regression' for LGBMRegressor, 'binary' or 'multiclass' for LGBMClassifier, 'lambdarank' for LGBMRanker.\n",
       "class_weight : dict, 'balanced' or None, optional (default=None)\n",
       "    Weights associated with classes in the form ``{class_label: weight}``.\n",
       "    Use this parameter only for multi-class classification task;\n",
       "    for binary classification task you may use ``is_unbalance`` or ``scale_pos_weight`` parameters.\n",
       "    Note, that the usage of all these parameters will result in poor estimates of the individual class probabilities.\n",
       "    You may want to consider performing probability calibration\n",
       "    (https://scikit-learn.org/stable/modules/calibration.html) of your model.\n",
       "    The 'balanced' mode uses the values of y to automatically adjust weights\n",
       "    inversely proportional to class frequencies in the input data as ``n_samples / (n_classes * np.bincount(y))``.\n",
       "    If None, all classes are supposed to have weight one.\n",
       "    Note, that these weights will be multiplied with ``sample_weight`` (passed through the ``fit`` method)\n",
       "    if ``sample_weight`` is specified.\n",
       "min_split_gain : float, optional (default=0.)\n",
       "    Minimum loss reduction required to make a further partition on a leaf node of the tree.\n",
       "min_child_weight : float, optional (default=1e-3)\n",
       "    Minimum sum of instance weight (hessian) needed in a child (leaf).\n",
       "min_child_samples : int, optional (default=20)\n",
       "    Minimum number of data needed in a child (leaf).\n",
       "subsample : float, optional (default=1.)\n",
       "    Subsample ratio of the training instance.\n",
       "subsample_freq : int, optional (default=0)\n",
       "    Frequency of subsample, <=0 means no enable.\n",
       "colsample_bytree : float, optional (default=1.)\n",
       "    Subsample ratio of columns when constructing each tree.\n",
       "reg_alpha : float, optional (default=0.)\n",
       "    L1 regularization term on weights.\n",
       "reg_lambda : float, optional (default=0.)\n",
       "    L2 regularization term on weights.\n",
       "random_state : int, RandomState object or None, optional (default=None)\n",
       "    Random number seed.\n",
       "    If int, this number is used to seed the C++ code.\n",
       "    If RandomState object (numpy), a random integer is picked based on its state to seed the C++ code.\n",
       "    If None, default seeds in C++ code are used.\n",
       "n_jobs : int, optional (default=-1)\n",
       "    Number of parallel threads.\n",
       "silent : bool, optional (default=True)\n",
       "    Whether to print messages while running boosting.\n",
       "importance_type : str, optional (default='split')\n",
       "    The type of feature importance to be filled into ``feature_importances_``.\n",
       "    If 'split', result contains numbers of times the feature is used in a model.\n",
       "    If 'gain', result contains total gains of splits which use the feature.\n",
       "**kwargs\n",
       "    Other parameters for the model.\n",
       "    Check http://lightgbm.readthedocs.io/en/latest/Parameters.html for more parameters.\n",
       "\n",
       "    .. warning::\n",
       "\n",
       "        \\*\\*kwargs is not supported in sklearn, it may cause unexpected issues.\n",
       "\n",
       "Note\n",
       "----\n",
       "A custom objective function can be provided for the ``objective`` parameter.\n",
       "In this case, it should have the signature\n",
       "``objective(y_true, y_pred) -> grad, hess`` or\n",
       "``objective(y_true, y_pred, group) -> grad, hess``:\n",
       "\n",
       "    y_true : array-like of shape = [n_samples]\n",
       "        The target values.\n",
       "    y_pred : array-like of shape = [n_samples] or shape = [n_samples * n_classes] (for multi-class task)\n",
       "        The predicted values.\n",
       "        Predicted values are returned before any transformation,\n",
       "        e.g. they are raw margin instead of probability of positive class for binary task.\n",
       "    group : array-like\n",
       "        Group/query data.\n",
       "        Only used in the learning-to-rank task.\n",
       "        sum(group) = n_samples.\n",
       "        For example, if you have a 100-document dataset with ``group = [10, 20, 40, 10, 10, 10]``, that means that you have 6 groups,\n",
       "        where the first 10 records are in the first group, records 11-30 are in the second group, records 31-70 are in the third group, etc.\n",
       "    grad : array-like of shape = [n_samples] or shape = [n_samples * n_classes] (for multi-class task)\n",
       "        The value of the first order derivative (gradient) of the loss\n",
       "        with respect to the elements of y_pred for each sample point.\n",
       "    hess : array-like of shape = [n_samples] or shape = [n_samples * n_classes] (for multi-class task)\n",
       "        The value of the second order derivative (Hessian) of the loss\n",
       "        with respect to the elements of y_pred for each sample point.\n",
       "\n",
       "For multi-class task, the y_pred is group by class_id first, then group by row_id.\n",
       "If you want to get i-th row y_pred in j-th class, the access way is y_pred[j * num_data + i]\n",
       "and you should group grad and hess in this way as well.\n",
       "\u001b[1;31mFile:\u001b[0m           d:\\anaconda3\\lib\\site-packages\\lightgbm\\sklearn.py\n",
       "\u001b[1;31mType:\u001b[0m           type\n",
       "\u001b[1;31mSubclasses:\u001b[0m     DaskLGBMClassifier\n"
      ]
     },
     "metadata": {},
     "output_type": "display_data"
    }
   ],
   "source": [
    "LGBMClassifier?"
   ]
  },
  {
   "cell_type": "markdown",
   "id": "6279d62c-32d0-4157-8450-e9f4146a087b",
   "metadata": {},
   "source": [
    "总的来看，我们可以将LGBMClassifier的超参数分为决策树剪枝超参数、Boosting过程控制超参数、特征和数据处理类超参数和其他超参数四类。其中决策树剪枝超参数包括max_depth（树的最大深度）、num_leaves（叶子节点数）、min_child_samples（子节点的最小样本数）等，都是大家非常熟悉的超参数；Boosting过程控制超参数和XGB的booster类似，包含boosting_type（提升类型，如gbdt、dart、goss、rf），n_estimators（迭代次数）、learning_rate（学习率）和reg_alpha（L1正则化系数）、reg_lambda（L2正则化系数）；而特征和数据处理类超参数则主要与数据采样有关，包含subsample（样本子集的比例）、subsample_freq（进行子采样的频率）、colsample_bytree（列采样的比例）等；而其他参数则是一些对建模效果并没有重要影响的超参数，例如random_state（随机数种子）、n_jobs（并行计算所用的CPU核心数）、class_weight（类别权重）等。"
   ]
  },
  {
   "cell_type": "markdown",
   "id": "f950fd1c-804b-4c33-8963-bb83e959be9f",
   "metadata": {},
   "source": [
    "&emsp;&emsp;从整体来看，LGBMClassifier的超参数构成并不复杂，对比XGB，甚至可以说是更加简洁清晰。"
   ]
  },
  {
   "cell_type": "markdown",
   "id": "60c71f4b-ec9c-46de-8a9f-07d47c22d92a",
   "metadata": {},
   "source": [
    "&emsp;&emsp;接下来我们就逐个解释这些超参数，并对其使用方法进行说明。"
   ]
  },
  {
   "cell_type": "markdown",
   "id": "88f3693d-8992-429c-9d49-ccf45e4945eb",
   "metadata": {},
   "source": [
    "#### 2.2 LGBMClassifier的决策树剪枝超参数"
   ]
  },
  {
   "cell_type": "markdown",
   "id": "e98f2824-0e7d-46df-bb9f-04d346886b2d",
   "metadata": {},
   "source": [
    "&emsp;&emsp;LGBM中决策树剪枝超参数和其他评估器中剪枝超参数并无区别，这类超参数已经在课程中反复解释过多次，超参数及解释如下："
   ]
  },
  {
   "cell_type": "markdown",
   "id": "7013839b-de30-43d0-849c-2314f6e44db5",
   "metadata": {},
   "source": [
    "|Name|Description|      \n",
    "|:--:|:--:| \n",
    "|num_leaves|一棵树上的叶子节点数，默认为 31| \n",
    "|max_depth|树的最大深度，默认值为 -1，表示无限制|\n",
    "|min_split_gain|相当于min_impurity_decrease，再分裂所需最小增益。默认值为 0，表示无限制|\n",
    "|min_child_weight|子节点的最小权重和。默认值为 1e-3。较大的 min_child_weight 可以防止过拟合| \n",
    "|min_child_samples|相当于min_samples_leaf，单个叶子节点上的最小样本数量。默认值为 20。较大的 min_child_samples 可以防止过拟合| "
   ]
  },
  {
   "cell_type": "markdown",
   "id": "b383b18f-9219-4bfe-be53-77fb1c87e98c",
   "metadata": {},
   "source": [
    "能够发现，相比决策树或者随机森林，LGBM的决策树剪枝类参数有所精简，保留了最能影响决策树生长的核心超参数。"
   ]
  },
  {
   "cell_type": "markdown",
   "id": "2abdda85-c5e3-4b6b-b45e-7c442a93cd21",
   "metadata": {},
   "source": [
    "#### 2.3 LGBMClassifier的Boosting过程控制超参数解释"
   ]
  },
  {
   "cell_type": "markdown",
   "id": "7e9446d0-e131-41b6-8315-d9be378b8e3b",
   "metadata": {},
   "source": [
    "&emsp;&emsp;然后来看更加重要的Boosting过程控制超参数，首先较为复杂的是boosting_type，该超参数解释如下："
   ]
  },
  {
   "cell_type": "markdown",
   "id": "56377192-8418-48b7-9977-b34417fe1d0b",
   "metadata": {},
   "source": [
    "- boosting_type: 使用的梯度提升算法类型，默认为 'gbdt'，可选项包括 'gbdt'（梯度提升决策树）、'dart'（Dropouts meet Multiple Additive Regression Trees）、'goss'（Gradient-based One-Side Sampling）和 'rf'（Random Forest，随机森林）。其中GBDT是最常用、且性能最稳定的 boosting 类型，也是boosting_type默认取值；而dart (Dropouts meet Multiple Additive Regression Trees)则是一种结合了 Dropout 和多重加性回归树的方法。它在每次迭代过程中随机选择一部分树进行更新，会较大程度增加模型随机性，可以用于存在较多噪声的数据集或者数据集相对简单（需要减少过拟合风险）的场景中；GOSS 是一种基于梯度的单侧采样方法。它在每次迭代中只使用具有较大梯度的样本进行训练，从而降低计算复杂度。goss(Gradient-based One-Side Sampling)则是前文介绍的梯度的单边采样算法，可以在保持较高精度的同时加速训练过程，适用于大规模数据集，可以在保持较高精度的同时加速训练过程，有些时候精度不如GBDT；而rf则是采用随机森林来进行“Boosting过程”，或者说此时就不再是Boosting，而是替换成了Bagging过程，类似于XGBRFClassifier的计算过程，此时LGBM本质上将按照RF的计算范式进行计算。"
   ]
  },
  {
   "cell_type": "markdown",
   "id": "901289c9-03c0-4e6c-a754-e0948feda3e8",
   "metadata": {},
   "source": [
    "然后与之相关的是subsample_for_bin参数："
   ]
  },
  {
   "cell_type": "markdown",
   "id": "328516b1-bd7c-4d61-b400-43cce807edc4",
   "metadata": {},
   "source": [
    "- subsample_for_bin：该参数表示对连续变量进行分箱时（直方图优化过程）抽取样本的个数，默认取值为200000，当实际抽样个数大于输入训练数据样本数量时，会带入全部样本进行计算。而如果boosting_type选择的是goss，则在直方图优化时会自动完成抽样，具体抽样策略是：会保留所有较小梯度的样本（即那些已经被模型很好拟合的样本），并对较大梯度的样本进行采样。这种策略能够在加速训练（大梯度样本的贡献）的同时有效防止过拟合（小梯度样本的贡献）。因此，如果boosting_type选择的是 \"goss\"，。则subsample_for_bin参数会失去作用，此时无论subsample_for_bin取值多少都不影响最终结果。"
   ]
  },
  {
   "cell_type": "markdown",
   "id": "3e320220-8fde-4249-a315-e8b7fe9cb90a",
   "metadata": {},
   "source": [
    "> 如果需要控制goss过程，则需要借助top_rate 和 other_rate 这两个参数，但是这两个参数只存在于LGBM原生API中，在sklearn中并没有，因此在使用 LightGBM 的 sklearn API 时，GOSS 采样方法会自动进行调整。关于这两个参数的解释和使用，我们将在介绍LGBM原生API时讲解。"
   ]
  },
  {
   "cell_type": "markdown",
   "id": "3b0c49dc-428d-4cf2-be5f-62e4a2694c87",
   "metadata": {},
   "source": [
    "其他参数和GBDT及XGB类似，具体解释如下："
   ]
  },
  {
   "cell_type": "markdown",
   "id": "f544bc21-2e28-4bf5-a180-f0dc2c1dc45a",
   "metadata": {},
   "source": [
    "|Name|Description|      \n",
    "|:--:|:--:| \n",
    "|learning_rate|学习率，即每次迭代中梯度提升的步长，默认值为 0.1| \n",
    "|n_estimators|迭代次数，即生成的基学习器的数量，默认值为 100|\n",
    "|reg_alpha| L1 正则化系数，默认值为 0|\n",
    "|reg_lambda| L2 正则化系数。默认值为 0|"
   ]
  },
  {
   "cell_type": "markdown",
   "id": "0152ab52-29b0-4ccb-8819-46f2bfc4c514",
   "metadata": {},
   "source": [
    "借助验证曲线进行验证"
   ]
  },
  {
   "cell_type": "markdown",
   "id": "26a7468e-a757-4b87-bb6f-957579846749",
   "metadata": {},
   "source": [
    "- 评估器个数"
   ]
  },
  {
   "cell_type": "code",
   "execution_count": 7,
   "id": "58c19b16-44cf-4a96-8661-8d0fa941e61a",
   "metadata": {},
   "outputs": [
    {
     "data": {
      "image/png": "[encoded data removed]",
      "text/plain": [
       "<Figure size 640x480 with 1 Axes>"
      ]
     },
     "metadata": {},
     "output_type": "display_data"
    }
   ],
   "source": [
    "import numpy as np\n",
    "import matplotlib.pyplot as plt\n",
    "from sklearn.model_selection import validation_curve\n",
    "from lightgbm import LGBMClassifier\n",
    "from sklearn.datasets import make_classification\n",
    "\n",
    "# 创建一个分类数据集\n",
    "X, y = make_classification(n_samples=1000, n_features=20, n_informative=2, \n",
    "                           n_redundant=10)\n",
    "\n",
    "# 创建一个LightGBM分类器\n",
    "model = LGBMClassifier()\n",
    "\n",
    "# 定义要计算验证曲线的参数范围\n",
    "param_range = np.arange(1, 100, 2)\n",
    "\n",
    "# 使用validation_curve函数计算验证曲线\n",
    "train_scores, validation_scores = validation_curve(\n",
    "    model, X, y, param_name=\"n_estimators\", param_range=param_range,\n",
    "    cv=5, scoring=\"accuracy\", n_jobs=1)\n",
    "\n",
    "# 计算训练和验证分数的平均值和标准差\n",
    "train_scores_mean = np.mean(train_scores, axis=1)\n",
    "train_scores_std = np.std(train_scores, axis=1)\n",
    "validation_scores_mean = np.mean(validation_scores, axis=1)\n",
    "validation_scores_std = np.std(validation_scores, axis=1)\n",
    "\n",
    "# 使用matplotlib绘制验证曲线\n",
    "plt.figure()\n",
    "plt.title(\"Validation Curve with LightGBM\")\n",
    "plt.xlabel(\"Number of trees\")\n",
    "plt.ylabel(\"Score\")\n",
    "plt.ylim(0.8, 1.1)\n",
    "lw = 2\n",
    "plt.semilogx(param_range, train_scores_mean, label=\"Training score\",\n",
    "             color=\"darkorange\", lw=lw)\n",
    "plt.fill_between(param_range, train_scores_mean - train_scores_std,\n",
    "                 train_scores_mean + train_scores_std, alpha=0.2,\n",
    "                 color=\"darkorange\", lw=lw)\n",
    "plt.semilogx(param_range, validation_scores_mean, label=\"Cross-validation score\",\n",
    "             color=\"navy\", lw=lw)\n",
    "plt.fill_between(param_range, validation_scores_mean - validation_scores_std,\n",
    "                 validation_scores_mean + validation_scores_std, alpha=0.2,\n",
    "                 color=\"navy\", lw=lw)\n",
    "plt.legend(loc=\"best\")\n",
    "plt.show()"
   ]
  },
  {
   "cell_type": "code",
   "execution_count": 10,
   "id": "a90b5f9d-4e7e-468e-bb0a-eec5ac9bd9b6",
   "metadata": {},
   "outputs": [],
   "source": [
    "import numpy as np\n",
    "import matplotlib.pyplot as plt\n",
    "from sklearn.model_selection import validation_curve\n",
    "\n",
    "def plot_validation_curve(model, param_name, param_range, X, y, cv=5, scoring=\"accuracy\", n_jobs=1):\n",
    "    # 计算验证曲线\n",
    "    train_scores, validation_scores = validation_curve(\n",
    "        model, X, y, param_name=param_name, param_range=param_range,\n",
    "        cv=cv, scoring=scoring, n_jobs=n_jobs)\n",
    "\n",
    "    # 计算训练和验证分数的平均值和标准差\n",
    "    train_scores_mean = np.mean(train_scores, axis=1)\n",
    "    train_scores_std = np.std(train_scores, axis=1)\n",
    "    validation_scores_mean = np.mean(validation_scores, axis=1)\n",
    "    validation_scores_std = np.std(validation_scores, axis=1)\n",
    "\n",
    "    # 绘制验证曲线\n",
    "    plt.figure()\n",
    "    plt.title(f\"Validation Curve with {model.__class__.__name__}\")\n",
    "    plt.xlabel(param_name)\n",
    "    plt.ylabel(\"Score\")\n",
    "    plt.ylim(0.8, 1.1)\n",
    "    lw = 2\n",
    "    plt.plot(param_range, train_scores_mean, label=\"Training score\",\n",
    "                 color=\"darkorange\", lw=lw)\n",
    "    plt.fill_between(param_range, train_scores_mean - train_scores_std,\n",
    "                     train_scores_mean + train_scores_std, alpha=0.2,\n",
    "                     color=\"darkorange\", lw=lw)\n",
    "    plt.plot(param_range, validation_scores_mean, label=\"Cross-validation score\",\n",
    "                 color=\"navy\", lw=lw)\n",
    "    plt.fill_between(param_range, validation_scores_mean - validation_scores_std,\n",
    "                     validation_scores_mean + validation_scores_std, alpha=0.2,\n",
    "                     color=\"navy\", lw=lw)\n",
    "    plt.legend(loc=\"best\")\n",
    "    plt.show()"
   ]
  },
  {
   "cell_type": "code",
   "execution_count": 18,
   "id": "024b350d-04d1-4bbc-9022-358bce95a416",
   "metadata": {},
   "outputs": [
    {
     "data": {
      "image/png": "[encoded data removed]",
      "text/plain": [
       "<Figure size 640x480 with 1 Axes>"
      ]
     },
     "metadata": {},
     "output_type": "display_data"
    }
   ],
   "source": [
    "from lightgbm import LGBMClassifier\n",
    "from sklearn.datasets import make_classification\n",
    "\n",
    "# 创建一个分类数据集\n",
    "X, y = make_classification(n_samples=1000, n_features=20, n_informative=2, \n",
    "                           n_redundant=10, random_state=42)\n",
    "\n",
    "# 创建一个LightGBM分类器\n",
    "model = LGBMClassifier()\n",
    "\n",
    "# 要计算验证曲线的参数范围\n",
    "param_range = np.arange(1, 200, 2)\n",
    "\n",
    "# 调用函数\n",
    "plot_validation_curve(model, \"n_estimators\", param_range, X, y)"
   ]
  },
  {
   "cell_type": "markdown",
   "id": "2f9b767d-1390-49e1-9b26-559a4d1758fc",
   "metadata": {},
   "source": [
    "- 学习率"
   ]
  },
  {
   "cell_type": "code",
   "execution_count": 22,
   "id": "4075d9af-a4c1-4e1c-9fec-e02ccc98fac5",
   "metadata": {
    "collapsed": true,
    "jupyter": {
     "outputs_hidden": true
    },
    "tags": []
   },
   "outputs": [
    {
     "data": {
      "text/plain": [
       "array([0.01      , 0.01494949, 0.01989899, 0.02484848, 0.02979798,\n",
       "       0.03474747, 0.03969697, 0.04464646, 0.04959596, 0.05454545,\n",
       "       0.05949495, 0.06444444, 0.06939394, 0.07434343, 0.07929293,\n",
       "       0.08424242, 0.08919192, 0.09414141, 0.09909091, 0.1040404 ,\n",
       "       0.1089899 , 0.11393939, 0.11888889, 0.12383838, 0.12878788,\n",
       "       0.13373737, 0.13868687, 0.14363636, 0.14858586, 0.15353535,\n",
       "       0.15848485, 0.16343434, 0.16838384, 0.17333333, 0.17828283,\n",
       "       0.18323232, 0.18818182, 0.19313131, 0.19808081, 0.2030303 ,\n",
       "       0.2079798 , 0.21292929, 0.21787879, 0.22282828, 0.22777778,\n",
       "       0.23272727, 0.23767677, 0.24262626, 0.24757576, 0.25252525,\n",
       "       0.25747475, 0.26242424, 0.26737374, 0.27232323, 0.27727273,\n",
       "       0.28222222, 0.28717172, 0.29212121, 0.29707071, 0.3020202 ,\n",
       "       0.3069697 , 0.31191919, 0.31686869, 0.32181818, 0.32676768,\n",
       "       0.33171717, 0.33666667, 0.34161616, 0.34656566, 0.35151515,\n",
       "       0.35646465, 0.36141414, 0.36636364, 0.37131313, 0.37626263,\n",
       "       0.38121212, 0.38616162, 0.39111111, 0.39606061, 0.4010101 ,\n",
       "       0.4059596 , 0.41090909, 0.41585859, 0.42080808, 0.42575758,\n",
       "       0.43070707, 0.43565657, 0.44060606, 0.44555556, 0.45050505,\n",
       "       0.45545455, 0.46040404, 0.46535354, 0.47030303, 0.47525253,\n",
       "       0.48020202, 0.48515152, 0.49010101, 0.49505051, 0.5       ])"
      ]
     },
     "execution_count": 22,
     "metadata": {},
     "output_type": "execute_result"
    }
   ],
   "source": [
    "np.linspace(0.01, 0.5, 100)"
   ]
  },
  {
   "cell_type": "code",
   "execution_count": 23,
   "id": "89f3c275-a422-4e1b-9c5c-f894a52bf37a",
   "metadata": {},
   "outputs": [
    {
     "data": {
      "image/png": "[encoded data removed]",
      "text/plain": [
       "<Figure size 640x480 with 1 Axes>"
      ]
     },
     "metadata": {},
     "output_type": "display_data"
    }
   ],
   "source": [
    "# 创建一个LightGBM分类器\n",
    "model = LGBMClassifier()\n",
    "\n",
    "# 要计算验证曲线的参数范围\n",
    "param_range = np.linspace(0.01, 0.5, 100)\n",
    "\n",
    "# 调用函数\n",
    "plot_validation_curve(model, \"learning_rate\", param_range, X, y)"
   ]
  },
  {
   "cell_type": "markdown",
   "id": "ddb3e2fa-2b88-4950-8b29-a6e8f26fff0b",
   "metadata": {},
   "source": [
    "- max_depth最大树深度"
   ]
  },
  {
   "cell_type": "code",
   "execution_count": 26,
   "id": "23f72566-f2bf-4f29-b4be-fc407979a301",
   "metadata": {},
   "outputs": [
    {
     "data": {
      "image/png": "[encoded data removed]",
      "text/plain": [
       "<Figure size 640x480 with 1 Axes>"
      ]
     },
     "metadata": {},
     "output_type": "display_data"
    }
   ],
   "source": [
    "# 创建一个LightGBM分类器\n",
    "model = LGBMClassifier()\n",
    "\n",
    "# 要计算验证曲线的参数范围\n",
    "param_range = np.arange(1, 50, 1)\n",
    "\n",
    "# 调用函数\n",
    "plot_validation_curve(model, \"max_depth\", param_range, X, y)"
   ]
  },
  {
   "cell_type": "markdown",
   "id": "54b66f5a-de9a-45db-b136-be8dbaa2d721",
   "metadata": {},
   "source": [
    "- reg_alpha：L1正则化项"
   ]
  },
  {
   "cell_type": "code",
   "execution_count": 32,
   "id": "a05b8908-8b68-4dd0-b234-62889fb87aa1",
   "metadata": {},
   "outputs": [
    {
     "data": {
      "image/png": "[encoded data removed]",
      "text/plain": [
       "<Figure size 640x480 with 1 Axes>"
      ]
     },
     "metadata": {},
     "output_type": "display_data"
    }
   ],
   "source": [
    "# 创建一个LightGBM分类器\n",
    "model = LGBMClassifier(n_estimators=10)\n",
    "\n",
    "# 要计算验证曲线的参数范围\n",
    "param_range = np.linspace(0.00, 0.5, 100)\n",
    "\n",
    "# 调用函数\n",
    "plot_validation_curve(model, \"reg_alpha\", param_range, X, y)"
   ]
  },
  {
   "cell_type": "markdown",
   "id": "e9edb745-7a70-4cea-a975-dcc51bdea596",
   "metadata": {},
   "source": [
    "- reg_lambda：L2正则化项"
   ]
  },
  {
   "cell_type": "code",
   "execution_count": 33,
   "id": "f4871aca-343e-441b-963d-f6735e2aa97b",
   "metadata": {},
   "outputs": [
    {
     "data": {
      "image/png": "[encoded data removed]",
      "text/plain": [
       "<Figure size 640x480 with 1 Axes>"
      ]
     },
     "metadata": {},
     "output_type": "display_data"
    }
   ],
   "source": [
    "# 创建一个LightGBM分类器\n",
    "model = LGBMClassifier(n_estimators=10)\n",
    "\n",
    "# 要计算验证曲线的参数范围\n",
    "param_range = np.linspace(0.00, 0.5, 100)\n",
    "\n",
    "# 调用函数\n",
    "plot_validation_curve(model, \"reg_lambda\", param_range, X, y)"
   ]
  },
  {
   "cell_type": "markdown",
   "id": "9078db60-d3f9-481b-ac7f-bbdd413b2543",
   "metadata": {},
   "source": [
    "#### 2.4 LGBMClassifier的特征和数据处理类超参数"
   ]
  },
  {
   "cell_type": "markdown",
   "id": "8ebcd1bb-4c7b-47e3-8114-0e96fc249e22",
   "metadata": {},
   "source": [
    "&emsp;&emsp;LGBM中特征和数据处理类超参数主要用于每次迭代时数据和特征的分配，核心作用是控制模型训练过程的随机性，其超参数的基本解释如下："
   ]
  },
  {
   "cell_type": "markdown",
   "id": "3ac348c8-3927-4060-9690-af43037490a1",
   "metadata": {},
   "source": [
    "|Name|Description|      \n",
    "|:--:|:--:| \n",
    "|subsample|模型训练时抽取的样本数量，取值范围为 (0, 1]，表示抽样比例，默认为1.0| \n",
    "|subsample_freq|抽样频率，表示每隔几轮进行一次抽样，默认取值为0，表示不进行随机抽样|\n",
    "|colsample_bytree|在每次迭代（树的构建）时，随机选择特征的比例，取值范围为 (0, 1]，默认为1.0|"
   ]
  },
  {
   "cell_type": "markdown",
   "id": "ffc5eb24-4ca2-42b2-963a-75785aa6a8d2",
   "metadata": {},
   "source": [
    "这里有以下几点需要注意："
   ]
  },
  {
   "cell_type": "markdown",
   "id": "e413bdb2-c167-4a49-b2b7-9efdff0f706e",
   "metadata": {},
   "source": [
    "- subsample和subsample_for_bin之间的关系        \n",
    "&emsp;&emsp;这两个参数尽管从字面理解都是抽样比例，但实际上这两个参数是完全独立的，彼此之间并不影响。其中subsample_for_bin抽样结果用于直方图构建，而subsample抽样结果则是用于模型训练，这两个抽样过程彼此独立，互不影响；"
   ]
  },
  {
   "cell_type": "markdown",
   "id": "7e77d5a6-176b-4e43-9f24-20653a701bbf",
   "metadata": {},
   "source": [
    "- subsample和subsample_freq之间的关系        \n",
    "&emsp;&emsp;更加关键的是subsample_freq参数，如果subsample_freq=0，则无论subsample取值为多少，模型训练时都不会进行随机抽样；换而言之，只有subsample_freq不等于0，且subsample不等于1.0时，才会进行抽样；"
   ]
  },
  {
   "cell_type": "markdown",
   "id": "591cb044-011e-4844-a48f-459461c8e879",
   "metadata": {},
   "source": [
    "- subsample_freq和colsample_bytree之间的关系        \n",
    "&emsp;&emsp;不同于subsample是样本抽样，colsample_bytree是每次迭代（每次构建一颗树时）进行的特征抽样，并且colsample_bytree不受subsample_freq影响，即无论subsample_freq取值为多少，每次建树时都会根据colsample_bytree设置的比例进行列抽样。"
   ]
  },
  {
   "cell_type": "markdown",
   "id": "cd6cb481-69e6-4e5e-ac2e-aefc2648ccbc",
   "metadata": {},
   "source": [
    "- LGBM和RF的不同特征抽样（分配）规则"
   ]
  },
  {
   "cell_type": "markdown",
   "id": "707ffeb5-1c84-4f33-93b5-f80d4c1afa6d",
   "metadata": {},
   "source": [
    "&emsp;&emsp;同时需要注意的是，LGBM和随机森林不同，随机森林是每棵树的每次分裂时都随机分配特征，而LGBM是每次构建一颗树时随机分配一个特征子集，这颗树在成长过程中每次分裂都是依据这个特征子集进行生长。"
   ]
  },
  {
   "cell_type": "markdown",
   "id": "067ced69-3bbd-402b-9dc6-2af40bc06231",
   "metadata": {},
   "source": [
    "#### 2.5 LGBMClassifier的其他超参数"
   ]
  },
  {
   "cell_type": "markdown",
   "id": "feb9894e-f758-4b05-a6a7-7f5697a1b769",
   "metadata": {},
   "source": [
    "&emsp;&emsp;最后则是一些用于辅助建模的超参数，具体超参数及解释如下："
   ]
  },
  {
   "cell_type": "markdown",
   "id": "55bec374-c533-4ff7-a905-7aaa556ea7e7",
   "metadata": {},
   "source": [
    "|Name|Description|      \n",
    "|:--:|:--:| \n",
    "|objective|指定目标函数，默认为None，会自动判断是二分类还是多分类问题，这里我们也可以手动设置 'binary'(用于二分类问题)或'multiclass'(用于多分类问题)| \n",
    "|class_weight|样本权重设置参数|\n",
    "|importance_type|特征重要性计算方式，默认为 'split'，表示使用特征在模型中被选中作为分裂特征的次数，可选 'gain'，表示使用特征在模型中的分裂收益之和作为重要性评估指标|\n",
    "|random_state|随机数种子|\n",
    "|n_jobs|并行的线程数，默认为-1，调用全部可用线程|\n",
    "|silent|是否沉默（不输出日志），默认为'warn'，仅显示警告和报错，可选'info'，用于打印全部信息|"
   ]
  },
  {
   "cell_type": "markdown",
   "id": "60e12ebf-5139-4179-ab29-3f84d449af70",
   "metadata": {},
   "source": [
    "&emsp;&emsp;首先是关于目标函数的设置，对于LGBM的sklearn API来说，objective参数较为简单，只有'binary'和'multiclass'两种，其中'binary'表示逻辑回归损失，也就是二分类交叉熵损失，而'multiclass'则代表多分类交叉熵损失。"
   ]
  },
  {
   "cell_type": "markdown",
   "id": "41fc1acb-784e-4f91-a559-9f88e4f6fed5",
   "metadata": {},
   "source": [
    "> 当然，LGBM也支持softmax损失，只不过无法通过objective传入。softmax损失默认是只有原生API才支持调用，若需要传入sklearn API中，则需要借助\\*\\*kwargs参数，以原生API形式进行传输。"
   ]
  },
  {
   "cell_type": "markdown",
   "id": "8abfa076-1aa2-4fe0-b786-f014d7f86e89",
   "metadata": {},
   "source": [
    "&emsp;&emsp;此外，需要注意用于计算特征重要性的importance_type参数，这也是LGBM算法的特点之一——即提供了两种不同的用于评估特征重要性的方法。很多时候我们在特征工程阶段都会创建海量特征来增强数据表现，并且通过一些数值指标或者模型来进行特征筛选，进而兼顾建模效率和预测效果。考虑到LGBM同时拥有非常高的计算效率，这使得LGBM算法成为筛选特征的最常用的模型之一。"
   ]
  },
  {
   "cell_type": "markdown",
   "id": "1d421fde-13bb-4cad-bae2-ab3f3165d02d",
   "metadata": {},
   "source": [
    "&emsp;&emsp;至此，我们就完整解释了LGBMClassifier的全部超参数。接下来我们继续讨论LGBMRegressor超参数。LGBMRegressor和LGBMClassifier只有两点不同，其一是LGBMRegressor没有class_weight参数，其二则是LGBMRegressor的损失函数和LGBMClassifier完全不同。接下来我们就LGBMRegressor的损失函数选取进行解释。"
   ]
  },
  {
   "cell_type": "markdown",
   "id": "b58c8fdc-6a5e-4722-adae-b37888662220",
   "metadata": {},
   "source": [
    "#### 2.6 LGBMRegressor损失函数"
   ]
  },
  {
   "cell_type": "code",
   "execution_count": 27,
   "id": "a164d00f-1780-4616-9faf-3c5515ec606b",
   "metadata": {},
   "outputs": [],
   "source": [
    "from lightgbm import LGBMRegressor"
   ]
  },
  {
   "cell_type": "code",
   "execution_count": 28,
   "id": "c8892ef0-8c79-4e0c-889e-318079c11647",
   "metadata": {
    "collapsed": true,
    "jupyter": {
     "outputs_hidden": true
    },
    "tags": []
   },
   "outputs": [
    {
     "data": {
      "text/plain": [
       "\u001b[1;31mInit signature:\u001b[0m\n",
       "\u001b[0mLGBMRegressor\u001b[0m\u001b[1;33m(\u001b[0m\u001b[1;33m\n",
       "\u001b[0m    \u001b[0mboosting_type\u001b[0m\u001b[1;33m:\u001b[0m \u001b[0mstr\u001b[0m \u001b[1;33m=\u001b[0m \u001b[1;34m'gbdt'\u001b[0m\u001b[1;33m,\u001b[0m\u001b[1;33m\n",
       "\u001b[0m    \u001b[0mnum_leaves\u001b[0m\u001b[1;33m:\u001b[0m \u001b[0mint\u001b[0m \u001b[1;33m=\u001b[0m \u001b[1;36m31\u001b[0m\u001b[1;33m,\u001b[0m\u001b[1;33m\n",
       "\u001b[0m    \u001b[0mmax_depth\u001b[0m\u001b[1;33m:\u001b[0m \u001b[0mint\u001b[0m \u001b[1;33m=\u001b[0m \u001b[1;33m-\u001b[0m\u001b[1;36m1\u001b[0m\u001b[1;33m,\u001b[0m\u001b[1;33m\n",
       "\u001b[0m    \u001b[0mlearning_rate\u001b[0m\u001b[1;33m:\u001b[0m \u001b[0mfloat\u001b[0m \u001b[1;33m=\u001b[0m \u001b[1;36m0.1\u001b[0m\u001b[1;33m,\u001b[0m\u001b[1;33m\n",
       "\u001b[0m    \u001b[0mn_estimators\u001b[0m\u001b[1;33m:\u001b[0m \u001b[0mint\u001b[0m \u001b[1;33m=\u001b[0m \u001b[1;36m100\u001b[0m\u001b[1;33m,\u001b[0m\u001b[1;33m\n",
       "\u001b[0m    \u001b[0msubsample_for_bin\u001b[0m\u001b[1;33m:\u001b[0m \u001b[0mint\u001b[0m \u001b[1;33m=\u001b[0m \u001b[1;36m200000\u001b[0m\u001b[1;33m,\u001b[0m\u001b[1;33m\n",
       "\u001b[0m    \u001b[0mobjective\u001b[0m\u001b[1;33m:\u001b[0m \u001b[0mUnion\u001b[0m\u001b[1;33m[\u001b[0m\u001b[0mstr\u001b[0m\u001b[1;33m,\u001b[0m \u001b[0mCallable\u001b[0m\u001b[1;33m,\u001b[0m \u001b[0mNoneType\u001b[0m\u001b[1;33m]\u001b[0m \u001b[1;33m=\u001b[0m \u001b[1;32mNone\u001b[0m\u001b[1;33m,\u001b[0m\u001b[1;33m\n",
       "\u001b[0m    \u001b[0mclass_weight\u001b[0m\u001b[1;33m:\u001b[0m \u001b[0mUnion\u001b[0m\u001b[1;33m[\u001b[0m\u001b[0mDict\u001b[0m\u001b[1;33m,\u001b[0m \u001b[0mstr\u001b[0m\u001b[1;33m,\u001b[0m \u001b[0mNoneType\u001b[0m\u001b[1;33m]\u001b[0m \u001b[1;33m=\u001b[0m \u001b[1;32mNone\u001b[0m\u001b[1;33m,\u001b[0m\u001b[1;33m\n",
       "\u001b[0m    \u001b[0mmin_split_gain\u001b[0m\u001b[1;33m:\u001b[0m \u001b[0mfloat\u001b[0m \u001b[1;33m=\u001b[0m \u001b[1;36m0.0\u001b[0m\u001b[1;33m,\u001b[0m\u001b[1;33m\n",
       "\u001b[0m    \u001b[0mmin_child_weight\u001b[0m\u001b[1;33m:\u001b[0m \u001b[0mfloat\u001b[0m \u001b[1;33m=\u001b[0m \u001b[1;36m0.001\u001b[0m\u001b[1;33m,\u001b[0m\u001b[1;33m\n",
       "\u001b[0m    \u001b[0mmin_child_samples\u001b[0m\u001b[1;33m:\u001b[0m \u001b[0mint\u001b[0m \u001b[1;33m=\u001b[0m \u001b[1;36m20\u001b[0m\u001b[1;33m,\u001b[0m\u001b[1;33m\n",
       "\u001b[0m    \u001b[0msubsample\u001b[0m\u001b[1;33m:\u001b[0m \u001b[0mfloat\u001b[0m \u001b[1;33m=\u001b[0m \u001b[1;36m1.0\u001b[0m\u001b[1;33m,\u001b[0m\u001b[1;33m\n",
       "\u001b[0m    \u001b[0msubsample_freq\u001b[0m\u001b[1;33m:\u001b[0m \u001b[0mint\u001b[0m \u001b[1;33m=\u001b[0m \u001b[1;36m0\u001b[0m\u001b[1;33m,\u001b[0m\u001b[1;33m\n",
       "\u001b[0m    \u001b[0mcolsample_bytree\u001b[0m\u001b[1;33m:\u001b[0m \u001b[0mfloat\u001b[0m \u001b[1;33m=\u001b[0m \u001b[1;36m1.0\u001b[0m\u001b[1;33m,\u001b[0m\u001b[1;33m\n",
       "\u001b[0m    \u001b[0mreg_alpha\u001b[0m\u001b[1;33m:\u001b[0m \u001b[0mfloat\u001b[0m \u001b[1;33m=\u001b[0m \u001b[1;36m0.0\u001b[0m\u001b[1;33m,\u001b[0m\u001b[1;33m\n",
       "\u001b[0m    \u001b[0mreg_lambda\u001b[0m\u001b[1;33m:\u001b[0m \u001b[0mfloat\u001b[0m \u001b[1;33m=\u001b[0m \u001b[1;36m0.0\u001b[0m\u001b[1;33m,\u001b[0m\u001b[1;33m\n",
       "\u001b[0m    \u001b[0mrandom_state\u001b[0m\u001b[1;33m:\u001b[0m \u001b[0mUnion\u001b[0m\u001b[1;33m[\u001b[0m\u001b[0mint\u001b[0m\u001b[1;33m,\u001b[0m \u001b[0mnumpy\u001b[0m\u001b[1;33m.\u001b[0m\u001b[0mrandom\u001b[0m\u001b[1;33m.\u001b[0m\u001b[0mmtrand\u001b[0m\u001b[1;33m.\u001b[0m\u001b[0mRandomState\u001b[0m\u001b[1;33m,\u001b[0m \u001b[0mNoneType\u001b[0m\u001b[1;33m]\u001b[0m \u001b[1;33m=\u001b[0m \u001b[1;32mNone\u001b[0m\u001b[1;33m,\u001b[0m\u001b[1;33m\n",
       "\u001b[0m    \u001b[0mn_jobs\u001b[0m\u001b[1;33m:\u001b[0m \u001b[0mint\u001b[0m \u001b[1;33m=\u001b[0m \u001b[1;33m-\u001b[0m\u001b[1;36m1\u001b[0m\u001b[1;33m,\u001b[0m\u001b[1;33m\n",
       "\u001b[0m    \u001b[0msilent\u001b[0m\u001b[1;33m:\u001b[0m \u001b[0mUnion\u001b[0m\u001b[1;33m[\u001b[0m\u001b[0mbool\u001b[0m\u001b[1;33m,\u001b[0m \u001b[0mstr\u001b[0m\u001b[1;33m]\u001b[0m \u001b[1;33m=\u001b[0m \u001b[1;34m'warn'\u001b[0m\u001b[1;33m,\u001b[0m\u001b[1;33m\n",
       "\u001b[0m    \u001b[0mimportance_type\u001b[0m\u001b[1;33m:\u001b[0m \u001b[0mstr\u001b[0m \u001b[1;33m=\u001b[0m \u001b[1;34m'split'\u001b[0m\u001b[1;33m,\u001b[0m\u001b[1;33m\n",
       "\u001b[0m    \u001b[1;33m**\u001b[0m\u001b[0mkwargs\u001b[0m\u001b[1;33m,\u001b[0m\u001b[1;33m\n",
       "\u001b[0m\u001b[1;33m)\u001b[0m\u001b[1;33m\u001b[0m\u001b[1;33m\u001b[0m\u001b[0m\n",
       "\u001b[1;31mDocstring:\u001b[0m      LightGBM regressor.\n",
       "\u001b[1;31mInit docstring:\u001b[0m\n",
       "Construct a gradient boosting model.\n",
       "\n",
       "Parameters\n",
       "----------\n",
       "boosting_type : str, optional (default='gbdt')\n",
       "    'gbdt', traditional Gradient Boosting Decision Tree.\n",
       "    'dart', Dropouts meet Multiple Additive Regression Trees.\n",
       "    'goss', Gradient-based One-Side Sampling.\n",
       "    'rf', Random Forest.\n",
       "num_leaves : int, optional (default=31)\n",
       "    Maximum tree leaves for base learners.\n",
       "max_depth : int, optional (default=-1)\n",
       "    Maximum tree depth for base learners, <=0 means no limit.\n",
       "learning_rate : float, optional (default=0.1)\n",
       "    Boosting learning rate.\n",
       "    You can use ``callbacks`` parameter of ``fit`` method to shrink/adapt learning rate\n",
       "    in training using ``reset_parameter`` callback.\n",
       "    Note, that this will ignore the ``learning_rate`` argument in training.\n",
       "n_estimators : int, optional (default=100)\n",
       "    Number of boosted trees to fit.\n",
       "subsample_for_bin : int, optional (default=200000)\n",
       "    Number of samples for constructing bins.\n",
       "objective : str, callable or None, optional (default=None)\n",
       "    Specify the learning task and the corresponding learning objective or\n",
       "    a custom objective function to be used (see note below).\n",
       "    Default: 'regression' for LGBMRegressor, 'binary' or 'multiclass' for LGBMClassifier, 'lambdarank' for LGBMRanker.\n",
       "class_weight : dict, 'balanced' or None, optional (default=None)\n",
       "    Weights associated with classes in the form ``{class_label: weight}``.\n",
       "    Use this parameter only for multi-class classification task;\n",
       "    for binary classification task you may use ``is_unbalance`` or ``scale_pos_weight`` parameters.\n",
       "    Note, that the usage of all these parameters will result in poor estimates of the individual class probabilities.\n",
       "    You may want to consider performing probability calibration\n",
       "    (https://scikit-learn.org/stable/modules/calibration.html) of your model.\n",
       "    The 'balanced' mode uses the values of y to automatically adjust weights\n",
       "    inversely proportional to class frequencies in the input data as ``n_samples / (n_classes * np.bincount(y))``.\n",
       "    If None, all classes are supposed to have weight one.\n",
       "    Note, that these weights will be multiplied with ``sample_weight`` (passed through the ``fit`` method)\n",
       "    if ``sample_weight`` is specified.\n",
       "min_split_gain : float, optional (default=0.)\n",
       "    Minimum loss reduction required to make a further partition on a leaf node of the tree.\n",
       "min_child_weight : float, optional (default=1e-3)\n",
       "    Minimum sum of instance weight (hessian) needed in a child (leaf).\n",
       "min_child_samples : int, optional (default=20)\n",
       "    Minimum number of data needed in a child (leaf).\n",
       "subsample : float, optional (default=1.)\n",
       "    Subsample ratio of the training instance.\n",
       "subsample_freq : int, optional (default=0)\n",
       "    Frequency of subsample, <=0 means no enable.\n",
       "colsample_bytree : float, optional (default=1.)\n",
       "    Subsample ratio of columns when constructing each tree.\n",
       "reg_alpha : float, optional (default=0.)\n",
       "    L1 regularization term on weights.\n",
       "reg_lambda : float, optional (default=0.)\n",
       "    L2 regularization term on weights.\n",
       "random_state : int, RandomState object or None, optional (default=None)\n",
       "    Random number seed.\n",
       "    If int, this number is used to seed the C++ code.\n",
       "    If RandomState object (numpy), a random integer is picked based on its state to seed the C++ code.\n",
       "    If None, default seeds in C++ code are used.\n",
       "n_jobs : int, optional (default=-1)\n",
       "    Number of parallel threads.\n",
       "silent : bool, optional (default=True)\n",
       "    Whether to print messages while running boosting.\n",
       "importance_type : str, optional (default='split')\n",
       "    The type of feature importance to be filled into ``feature_importances_``.\n",
       "    If 'split', result contains numbers of times the feature is used in a model.\n",
       "    If 'gain', result contains total gains of splits which use the feature.\n",
       "**kwargs\n",
       "    Other parameters for the model.\n",
       "    Check http://lightgbm.readthedocs.io/en/latest/Parameters.html for more parameters.\n",
       "\n",
       "    .. warning::\n",
       "\n",
       "        \\*\\*kwargs is not supported in sklearn, it may cause unexpected issues.\n",
       "\n",
       "Note\n",
       "----\n",
       "A custom objective function can be provided for the ``objective`` parameter.\n",
       "In this case, it should have the signature\n",
       "``objective(y_true, y_pred) -> grad, hess`` or\n",
       "``objective(y_true, y_pred, group) -> grad, hess``:\n",
       "\n",
       "    y_true : array-like of shape = [n_samples]\n",
       "        The target values.\n",
       "    y_pred : array-like of shape = [n_samples] or shape = [n_samples * n_classes] (for multi-class task)\n",
       "        The predicted values.\n",
       "        Predicted values are returned before any transformation,\n",
       "        e.g. they are raw margin instead of probability of positive class for binary task.\n",
       "    group : array-like\n",
       "        Group/query data.\n",
       "        Only used in the learning-to-rank task.\n",
       "        sum(group) = n_samples.\n",
       "        For example, if you have a 100-document dataset with ``group = [10, 20, 40, 10, 10, 10]``, that means that you have 6 groups,\n",
       "        where the first 10 records are in the first group, records 11-30 are in the second group, records 31-70 are in the third group, etc.\n",
       "    grad : array-like of shape = [n_samples] or shape = [n_samples * n_classes] (for multi-class task)\n",
       "        The value of the first order derivative (gradient) of the loss\n",
       "        with respect to the elements of y_pred for each sample point.\n",
       "    hess : array-like of shape = [n_samples] or shape = [n_samples * n_classes] (for multi-class task)\n",
       "        The value of the second order derivative (Hessian) of the loss\n",
       "        with respect to the elements of y_pred for each sample point.\n",
       "\n",
       "For multi-class task, the y_pred is group by class_id first, then group by row_id.\n",
       "If you want to get i-th row y_pred in j-th class, the access way is y_pred[j * num_data + i]\n",
       "and you should group grad and hess in this way as well.\n",
       "\u001b[1;31mFile:\u001b[0m           d:\\anaconda3\\lib\\site-packages\\lightgbm\\sklearn.py\n",
       "\u001b[1;31mType:\u001b[0m           type\n",
       "\u001b[1;31mSubclasses:\u001b[0m     DaskLGBMRegressor\n"
      ]
     },
     "metadata": {},
     "output_type": "display_data"
    }
   ],
   "source": [
    "LGBMRegressor?"
   ]
  },
  {
   "cell_type": "markdown",
   "id": "1fdc8d7b-a191-4247-8d8d-81616ff98291",
   "metadata": {},
   "source": [
    "LGBMRegressor的损失函数包含了GBDT和XGB的各类回归类损失函数，相关计算过程及应用场景此前都有详细讨论，这里只进行简要说明："
   ]
  },
  {
   "cell_type": "markdown",
   "id": "204f5cf8-869a-4aa3-81ab-0ef14a6b5e10",
   "metadata": {},
   "source": [
    "- 均方误差（MSE, Mean Squared Error）：最常用的的损失函数，此时objective='regression' 或 objective='regression_l2'；\n",
    "- 平均绝对误差（MAE, Mean Absolute Error）：通常用于标签存在异常值情况，此时objective='regression_l1'；\n",
    "- Huber损失（Huber Loss）：适用于目标值存在大量异常值或者噪声时。Huber损失在预测误差较小时表现为均方误差，在预测误差较大时表现为平均绝对误差，这使得它对异常值具有更好的鲁棒性。此时objective='quantile'；\n",
    "- Quantile损失（Quantile Loss）：用于分位数回归，最小化预测值与真实值之间的分位数损失，适用于需要对预测分布进行精细控制的场景（例如围绕某种分布进行预测）。此时objective='quantile'；\n",
    "- Poisson损失（Poisson Loss）： 适用于计数问题，即目标值是非负整数且服从泊松分布。此时objective='poisson'\n",
    "- Gamma损失（Gamma Loss）：适用于预测非负实数且服从伽马分布的目标值。此时objective='gamma'\n",
    "- Tweedie损失（Tweedie Loss）：适用于广义线性模型（Generalized Linear Models, GLMs）中的 Tweedie 分布（非对称分布）的数据集。此时objective='tweedie'。"
   ]
  },
  {
   "cell_type": "markdown",
   "id": "a36b64b7-7893-44ce-9cef-73cdc01f3a68",
   "metadata": {},
   "source": [
    "&emsp;&emsp;能够发现，大多数损失函数都是针对标签存在某个具体分布时进行的预测，一般情况下我们都是在均方误差（MSE）、平均绝对误差（MAE）和Huber损失中进行选择，通常情况首选MSE，而当标签存在噪声或者异常点时，MAE会表现出更好的泛化能力。并且由于MAE较为特殊的计算过程，导致其在正常情况数据集下精度不如MSE。而Huber则是二者的综合，适用于标签存在少量异常值的数据集，Huber对异常值较为鲁棒，同时又可以保留较好的精度。"
   ]
  },
  {
   "cell_type": "markdown",
   "id": "f993e5a8-8879-4bf6-b657-e0b722f904ab",
   "metadata": {},
   "source": [
    "---"
   ]
  },
  {
   "cell_type": "markdown",
   "id": "abd6725c-e3ad-4b7d-948b-cc04768547ea",
   "metadata": {},
   "source": [
    "- 课程节选自《机器学习实战训练营》正式课程"
   ]
  },
  {
   "cell_type": "markdown",
   "id": "8ad83067-0327-4b6f-a300-4e975ed66f09",
   "metadata": {},
   "source": [
    "<center><img src=\"https://ml2022.oss-cn-hangzhou.aliyuncs.com/img/1.jpg\" alt=\"1\" style=\"zoom:20%;\" />"
   ]
  },
  {
   "cell_type": "markdown",
   "id": "02045f2c-da4c-49a8-9fc3-35b3e892cfc4",
   "metadata": {},
   "source": [
    "&emsp;&emsp;公开课内容节选自《机器学习实战训练营》正式课程，正式课程相比公开课，额外增加更具深度和LGBM数学原理推导、LGBM原生API使用和优化技巧，以及基于LGBM原生API的企业级实战案例，公开课与付费正课内容对比如下："
   ]
  },
  {
   "cell_type": "markdown",
   "id": "8e4ecebb-13c5-4d11-9d81-b92e9a018aac",
   "metadata": {},
   "source": [
    "<center><img src=\"https://ml2022.oss-cn-hangzhou.aliyuncs.com/img/05b61eb9b6792c10ce8c6c221f7d140.png\" alt=\"05b61eb9b6792c10ce8c6c221f7d140\" style=\"zoom:50%;\" />"
   ]
  },
  {
   "cell_type": "markdown",
   "id": "0b121daf-fed6-49a8-b7b0-28b0f87f0590",
   "metadata": {},
   "source": [
    "&emsp;&emsp;如果同学希望更进一步进行深度、系统的学习LightGBM及其他机器学习算法，欢迎大家报名《机器学习实战训练营（第六期）》付费正课，课程为130+小时完整体系大课，完整涵盖经典机器学习、集成学习、特征工程、模型融合、特征混合增强和企业级之战案例，总共6大模块，零基础直达机器学习算法岗中高级岗位要求，六年教学经验沉淀，千名学员口碑见证，超值体系大课等你来学！"
   ]
  },
  {
   "cell_type": "markdown",
   "id": "caf73cf7-2e6a-46ce-8a1b-952afc319b21",
   "metadata": {},
   "source": [
    "<center><img src=\"http://ml2022.oss-cn-hangzhou.aliyuncs.com/img/image-20230215185442588.png\" alt=\"image-20230215185442588\" style=\"zoom:40%;\" />"
   ]
  },
  {
   "cell_type": "markdown",
   "id": "1e304416-7fdd-415d-a054-52e158842b4b",
   "metadata": {},
   "source": [
    "<center><img src=\"http://ml2022.oss-cn-hangzhou.aliyuncs.com/img/image-20230215185629296.png\" alt=\"image-20230215185629296\" style=\"zoom:42.5%;\" />"
   ]
  },
  {
   "cell_type": "markdown",
   "id": "9bcc5c7b-c52b-41e4-8a2f-1626de9bcc12",
   "metadata": {},
   "source": [
    "&emsp;&emsp;除了《机器学习实战训练营》课程外，我们还开设了《数据分析就业班》和《深度学习实战课》，在此查看详细课程介绍和课程大纲：https://appZe9inzwc2314.h5.xiaoeknow.com："
   ]
  },
  {
   "cell_type": "markdown",
   "id": "bc46f52f-c42d-4cc6-8f38-498525f0dd47",
   "metadata": {},
   "source": [
    "<center><img src=\"http://ml2022.oss-cn-hangzhou.aliyuncs.com/img/image-20230214180459436.png\" alt=\"image-20230214180459436\" style=\"zoom:50%;\" />"
   ]
  },
  {
   "cell_type": "markdown",
   "id": "c29208b1-ea04-4904-bba9-d6c8c7097d66",
   "metadata": {},
   "source": [
    "- **<font color='red'>第六期训练营课程尾单八折特惠进行时！**"
   ]
  },
  {
   "cell_type": "markdown",
   "id": "f0d5f031-87e6-4008-9c1f-695cad656b98",
   "metadata": {},
   "source": [
    "<center><img src=\"https://ml2022.oss-cn-hangzhou.aliyuncs.com/img/2.jpg\" alt=\"2\" style=\"zoom:30%;\" />"
   ]
  },
  {
   "cell_type": "markdown",
   "id": "466c5605-a25c-47d0-ad15-27aeffc25d10",
   "metadata": {},
   "source": [
    "&emsp;&emsp;<font size=3><center>扫码添加客服“小可爱”，或者手动添加客服微信：littlecat_1205       \n",
    "    >>>  <font color='red'>**回复“优惠”**</font>抢<font color='red'>**直播间限定折上折**        \n",
    "    **>>>  限量赠送授课老师亲自答疑服务！**"
   ]
  },
  {
   "cell_type": "markdown",
   "id": "9be8087e-8d1a-459c-9765-1b72e1b0a4e8",
   "metadata": {},
   "source": [
    "<center><img src=\"https://ml2022.oss-cn-hangzhou.aliyuncs.com/img/926380675d5976b65f5784be6db5f35.png\" alt=\"926380675d5976b65f5784be6db5f35\" style=\"zoom:50%;\" />"
   ]
  }
 ],
 "metadata": {
  "kernelspec": {
   "display_name": "Python 3 (ipykernel)",
   "language": "python",
   "name": "python3"
  },
  "language_info": {
   "codemirror_mode": {
    "name": "ipython",
    "version": 3
   },
   "file_extension": ".py",
   "mimetype": "text/x-python",
   "name": "python",
   "nbconvert_exporter": "python",
   "pygments_lexer": "ipython3",
   "version": "3.10.9"
  }
 },
 "nbformat": 4,
 "nbformat_minor": 5
}
