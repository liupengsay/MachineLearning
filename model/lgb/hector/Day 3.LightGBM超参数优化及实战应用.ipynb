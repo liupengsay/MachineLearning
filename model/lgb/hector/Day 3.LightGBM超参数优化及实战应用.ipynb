{
 "cells": [
  {
   "cell_type": "markdown",
   "id": "7599c4f1-5a90-464f-8f36-d255bde18ff8",
   "metadata": {},
   "source": [
    "## 课程说明："
   ]
  },
  {
   "cell_type": "markdown",
   "id": "ec70afa8-2243-4302-bef8-c75af5e13547",
   "metadata": {},
   "source": [
    "&emsp;&emsp;同学们好！欢迎来到《机器学习实战训练营》试学体验课！我是课程主讲老师，九天。        "
   ]
  },
  {
   "cell_type": "markdown",
   "id": "06b1ae8a-6b14-41ba-b041-ab7af9bba2e4",
   "metadata": {},
   "source": [
    "- 本期公开课主题：LightGBM原理与实践"
   ]
  },
  {
   "cell_type": "markdown",
   "id": "449ca2a5-2cff-4f0b-aa4b-e91545940906",
   "metadata": {},
   "source": [
    "<center><img src=\"https://ml2022.oss-cn-hangzhou.aliyuncs.com/img/202304301856951.png\" alt=\"8ef6d1e3b063109eb052bb7021c01bd\" style=\"zoom:33%;\" />"
   ]
  },
  {
   "cell_type": "markdown",
   "id": "51674c49-7e23-4f02-a591-ea5d5b985136",
   "metadata": {},
   "source": [
    "&emsp;&emsp;LightGBM 是一种高效的 Gradient Boosting 算法，由 Microsoft Research Asia 团队开发，早期为Microsoft内部处理海量高维数据的专用算法，并于2017年由Guolin Ke, Qi Meng, Thomas Finley等人通过论文形式正式发布。如果说XGB为GBDT类算法在提升计算精度上做出了里程碑式的突破，那么LGBM则是在计算效率和内存优化上提出了开创性的解决方案，一举将GBDT类算法计算效率提高了近20倍、并且计算内存占用减少了80%，这也最终使得GBDT类算法、这一机器学习领域目前最高精度的预测类算法，能够真正应用于海量数据的建模预测。以下是官网给出的XGB、基于直方图优化的XGB和LGBM算法的在相同计算任务下计算时间的对比："
   ]
  },
  {
   "cell_type": "markdown",
   "id": "de6abf38-74db-4c9e-a32d-1c140dab1c66",
   "metadata": {},
   "source": [
    "<center><img src=\"https://ml2022.oss-cn-hangzhou.aliyuncs.com/img/202304081540395.png\" alt=\"0a747b1752ff4c7c9b368d7415b398c\" style=\"zoom:40%;\" />"
   ]
  },
  {
   "cell_type": "markdown",
   "id": "d3a2330e-6c4c-4ca3-ae24-3a6434376374",
   "metadata": {},
   "source": [
    "而在内存占用方面，LGBM算法的优势也同样非常明显，以下是相同计算任务下不同算法的内存占用对比："
   ]
  },
  {
   "cell_type": "markdown",
   "id": "7252a365-6319-4a39-a5ca-5c9d75e358c9",
   "metadata": {},
   "source": [
    "<center><img src=\"https://ml2022.oss-cn-hangzhou.aliyuncs.com/img/202304081540578.png\" alt=\"a884b5b53ebd9665f526b82d74ca56b\" style=\"zoom:40%;\" />"
   ]
  },
  {
   "cell_type": "markdown",
   "id": "4204cc6e-0121-4e2d-84cd-39e45946211b",
   "metadata": {},
   "source": [
    "而与此同时，LGBM能够保持和XGB几乎一样的预测精度，相同计算任务三种算法计算准确率如下："
   ]
  },
  {
   "cell_type": "markdown",
   "id": "ee558df8-d3df-4d29-85d4-ac5410f91491",
   "metadata": {},
   "source": [
    "<center><img src=\"https://ml2022.oss-cn-hangzhou.aliyuncs.com/img/202304081550947.png\" alt=\"1680940216389\" style=\"zoom:40%;\" />"
   ]
  },
  {
   "cell_type": "markdown",
   "id": "a94688f3-7ac0-45b5-8c97-928c890b407a",
   "metadata": {},
   "source": [
    "不难发现，预测精准而计算过程高效，这也是Light一词的核心精髓，并且经过这么多年的实践验证，可以说目前来看，LightGBM已然成为处理海量数据最高效、最通用的机器学习算法。"
   ]
  },
  {
   "cell_type": "markdown",
   "id": "760c7223-69bb-4a6a-9a24-b9030f357ada",
   "metadata": {},
   "source": [
    "&emsp;&emsp;本期公开课，我们将围绕LightGBM算法的基本原理与实战技巧展开讨论，详细解读LightGBM算法原理，以及sklearn API的超参数优化及建模实战应用等。帮助大家快速了解LGBM算法精准高效的真正原因，并学习和掌握算法建模及优化技巧。"
   ]
  },
  {
   "cell_type": "markdown",
   "id": "03e54908-0fdd-4a50-8e4f-c83ef36a457f",
   "metadata": {},
   "source": [
    "- 课程节选自《机器学习实战训练营》正式课程"
   ]
  },
  {
   "cell_type": "markdown",
   "id": "ab7ecbeb-95ef-4ea1-a5bc-f6d09e1fd60f",
   "metadata": {},
   "source": [
    "<center><img src=\"https://ml2022.oss-cn-hangzhou.aliyuncs.com/img/1.jpg\" alt=\"1\" style=\"zoom:20%;\" />"
   ]
  },
  {
   "cell_type": "markdown",
   "id": "b2275b9e-623e-4bdf-acf7-3a2908d3ae83",
   "metadata": {},
   "source": [
    "&emsp;&emsp;公开课内容节选自《机器学习实战训练营》正式课程，正式课程相比公开课，额外增加更具深度和LGBM数学原理推导、LGBM原生API使用和优化技巧，以及基于LGBM原生API的企业级实战案例，公开课与付费正课内容对比如下："
   ]
  },
  {
   "cell_type": "markdown",
   "id": "095efaf6-ef63-4607-a494-759c114f76dc",
   "metadata": {},
   "source": [
    "<center><img src=\"https://ml2022.oss-cn-hangzhou.aliyuncs.com/img/05b61eb9b6792c10ce8c6c221f7d140.png\" alt=\"05b61eb9b6792c10ce8c6c221f7d140\" style=\"zoom:50%;\" />"
   ]
  },
  {
   "cell_type": "markdown",
   "id": "bf9d9ffe-38dc-4e47-b6ef-584c7f7bbf66",
   "metadata": {},
   "source": [
    "&emsp;&emsp;如果同学希望更进一步进行深度、系统的学习LightGBM及其他机器学习算法，欢迎大家报名《机器学习实战训练营（第六期）》付费正课，课程为130+小时完整体系大课，完整涵盖经典机器学习、集成学习、特征工程、模型融合、特征混合增强和企业级之战案例，总共6大模块，零基础直达机器学习算法岗中高级岗位要求，六年教学经验沉淀，千名学员口碑见证，超值体系大课等你来学！"
   ]
  },
  {
   "cell_type": "markdown",
   "id": "07c9f304-ff2b-4957-95ba-67fe145808ef",
   "metadata": {},
   "source": [
    "<center><img src=\"http://ml2022.oss-cn-hangzhou.aliyuncs.com/img/image-20230215185442588.png\" alt=\"image-20230215185442588\" style=\"zoom:40%;\" />"
   ]
  },
  {
   "cell_type": "markdown",
   "id": "5a72e394-a12a-48f5-8450-11f50428d89a",
   "metadata": {},
   "source": [
    "<center><img src=\"http://ml2022.oss-cn-hangzhou.aliyuncs.com/img/image-20230215185629296.png\" alt=\"image-20230215185629296\" style=\"zoom:42.5%;\" />"
   ]
  },
  {
   "cell_type": "markdown",
   "id": "86d94f71-1076-4a08-856b-5e5afdb8c64f",
   "metadata": {},
   "source": [
    "&emsp;&emsp;除了《机器学习实战训练营》课程外，我们还开设了《数据分析就业班》和《深度学习实战课》，在此查看详细课程介绍和课程大纲：https://appZe9inzwc2314.h5.xiaoeknow.com："
   ]
  },
  {
   "cell_type": "markdown",
   "id": "91659b78-cf8a-4447-96dd-e193db681608",
   "metadata": {},
   "source": [
    "<center><img src=\"http://ml2022.oss-cn-hangzhou.aliyuncs.com/img/image-20230214180459436.png\" alt=\"image-20230214180459436\" style=\"zoom:50%;\" />"
   ]
  },
  {
   "cell_type": "markdown",
   "id": "1d2c6059-d494-438f-8c08-384148f52c8f",
   "metadata": {},
   "source": [
    "- **<font color='red'>第六期训练营课程尾单八折特惠进行时！**"
   ]
  },
  {
   "cell_type": "markdown",
   "id": "ed669571-43f3-4412-9392-296a099279d0",
   "metadata": {},
   "source": [
    "<center><img src=\"https://ml2022.oss-cn-hangzhou.aliyuncs.com/img/2.jpg\" alt=\"2\" style=\"zoom:30%;\" />"
   ]
  },
  {
   "cell_type": "markdown",
   "id": "30fe299d-b190-4ae4-8fbb-e10cf371e351",
   "metadata": {},
   "source": [
    "&emsp;&emsp;<font size=3><center>扫码添加客服“小可爱”，或者手动添加客服微信：littlecat_1205       \n",
    "    >>>  <font color='red'>**回复“优惠”**</font>抢<font color='red'>**直播间限定折上折**        \n",
    "    **>>>  限量赠送授课老师亲自答疑服务！**"
   ]
  },
  {
   "cell_type": "markdown",
   "id": "39ab5e35-7cb4-4ea3-b464-dc816d58bc30",
   "metadata": {},
   "source": [
    "<center><img src=\"https://ml2022.oss-cn-hangzhou.aliyuncs.com/img/926380675d5976b65f5784be6db5f35.png\" alt=\"926380675d5976b65f5784be6db5f35\" style=\"zoom:50%;\" />"
   ]
  },
  {
   "cell_type": "markdown",
   "id": "31bd8201-c007-4d5d-97ac-dccc9ea2e592",
   "metadata": {},
   "source": [
    "---"
   ]
  },
  {
   "cell_type": "markdown",
   "id": "8ee83bd5-7c58-4f54-8139-af8f91e97b88",
   "metadata": {},
   "source": [
    "# <center> LightGBM原理与实践"
   ]
  },
  {
   "cell_type": "markdown",
   "id": "004fbd55-b5fd-4282-9fe1-d83f54078b6d",
   "metadata": {
    "tags": []
   },
   "source": [
    "# <center>Day 3.LightGBM超参数优化与实战技巧"
   ]
  },
  {
   "cell_type": "markdown",
   "id": "894ea0d0-78ec-4c42-a1d1-b65f6d0ae723",
   "metadata": {},
   "source": [
    "### 一、机器学习超参数优化器介绍"
   ]
  },
  {
   "cell_type": "markdown",
   "id": "9d6605ce-5f37-494b-82e5-f3e405d8f591",
   "metadata": {},
   "source": [
    "- 基于网格搜索的超参数优化"
   ]
  },
  {
   "cell_type": "markdown",
   "id": "6427465f-cf85-4d66-b983-8dad7da1d6de",
   "metadata": {},
   "source": [
    "&emsp;&emsp;目前来说sklearn中超参数优化器有四种，分别是GridSearchCV（网格搜索）、RandomizedSearchCV（随机网格搜索）、HalvingSearchCV（对半网格搜索）和HalvingRandomizedSearchCV（对半随机网格搜索）。其中网格搜索是通过枚举搜索出一组最优超参数，枚举的精度最高但效率最低，也就是网格搜索其实是精度最高的搜索算法，但往往伴随着巨大的计算量；而加入了随机网格搜索，则是随机选取了原始参数空间的子空间，然后在这个子空间内进行枚举，尽管还是枚举，但由于参数空间的缩小，计算量也会随之减少，并且伴随着这个参数子空间不断扩大（可人工修改参数），随机网格搜索的计算量和精度都将逼近网格搜索，简而言之随机网格搜索是一种牺牲精度换效率的搜索方式；相比随机网格搜索，对半网格搜索采用了类似锦标赛的筛选机制进行多轮的参数搜索，每一轮输入原始数据一部分数据进行模型训练，并且剔除一半的备选超参数。由于每一轮都只输入了一部分数据，因此不同备选超参数组的评估可能存在一定的误差，但由于每一轮都只剔除一半的超参数组而不是直接选出最优的超参数组，因此也拥有一定的容错性。不难发现，这个过程也像极了RFE过程——每一轮用一个精度不是最高的模型剔除一个最不重要的特征，即保证了执行效率、同时又保证了执行精度。"
   ]
  },
  {
   "cell_type": "markdown",
   "id": "dcd70670-ad75-4d2c-a3c8-81d331f8b116",
   "metadata": {},
   "source": [
    "&emsp;&emsp;如果从一个宏观视角来看，随机网格搜索是通过减少备选参数组来减少计算量，而对半网格搜索则是减少带入的数据量，来减少计算量。二者其实都能一定程度提升超参数的搜索效率，但也存在损失精度的风险。当然，如果还想更进一步提高搜索效率，则可以考虑对半搜索和随机搜索的组合——对半随机网格搜索，这种搜索策略实际上就是对半搜索的思路+随机网格搜索的超参数空间，即在一个超参数子空间内进行多轮筛选，每一轮剔除一半的备选超参数组。这种方法的搜索效率是最高的，但同时精度也相对较差。"
   ]
  },
  {
   "cell_type": "markdown",
   "id": "5f66bdf2-cf89-49b5-8353-9dac54b235eb",
   "metadata": {},
   "source": [
    "- 基于贝叶斯优化器的超参数优化"
   ]
  },
  {
   "cell_type": "markdown",
   "id": "4272ade2-389d-43d3-b150-3543cd278ac9",
   "metadata": {},
   "source": [
    "&emsp;&emsp;贝叶斯优化方法是当前超参数优化领域的SOTA手段（State of the Art），可以被认为是当前最为先进的优化框架，它可以被应用于AutoML的各大领域，不止限于超参数搜索HPO的领域，更是可以被用于神经网络架构搜索NAS以及元学习等先进的领域。现代几乎所有在效率和效果上取得优异成果的超参数优化方法都是基于贝叶斯优化的基本理念而形成的，因此贝叶斯优化是整个AutoML中学习的重点。"
   ]
  },
  {
   "cell_type": "markdown",
   "id": "0ecc3138-1c8c-4ef8-a64a-bdad8b42e3b3",
   "metadata": {},
   "source": [
    "- 数据集准备"
   ]
  },
  {
   "cell_type": "code",
   "execution_count": 12,
   "id": "620d952a-7af4-4fdb-84e5-edbea5bab1b8",
   "metadata": {
    "tags": []
   },
   "outputs": [],
   "source": [
    "# 基础数据科学运算库\n",
    "import numpy as np\n",
    "import pandas as pd\n",
    "\n",
    "# 可视化库\n",
    "import seaborn as sns\n",
    "import matplotlib.pyplot as plt\n",
    "\n",
    "# 时间模块\n",
    "import time\n",
    "\n",
    "import warnings\n",
    "warnings.filterwarnings('ignore')\n",
    "\n",
    "# sklearn库\n",
    "# 数据预处理\n",
    "from sklearn import preprocessing\n",
    "from sklearn.compose import ColumnTransformer\n",
    "from sklearn.preprocessing import OrdinalEncoder\n",
    "from sklearn.preprocessing import OneHotEncoder\n",
    "\n",
    "# 实用函数\n",
    "from sklearn.metrics import accuracy_score, recall_score, precision_score, f1_score, roc_auc_score\n",
    "from sklearn.model_selection import train_test_split\n",
    "\n",
    "# 常用评估器\n",
    "from sklearn.pipeline import make_pipeline\n",
    "from sklearn.linear_model import LogisticRegression\n",
    "from sklearn import tree\n",
    "from sklearn.tree import DecisionTreeClassifier\n",
    "from sklearn.ensemble import RandomForestClassifier\n",
    "\n",
    "# 网格搜索\n",
    "from sklearn.model_selection import GridSearchCV\n",
    "\n",
    "# 自定义评估器支持模块\n",
    "from sklearn.base import BaseEstimator, TransformerMixin\n",
    "\n",
    "# re模块相关\n",
    "import inspect, re\n",
    "\n",
    "# 其他模块\n",
    "from tqdm import tqdm\n",
    "import gc\n",
    "import lightgbm as lgb"
   ]
  },
  {
   "cell_type": "code",
   "execution_count": 132,
   "id": "a4795cbe-fe20-462a-87ab-cae14b57d253",
   "metadata": {},
   "outputs": [],
   "source": [
    "# 读取数据\n",
    "tcc = pd.read_csv('WA_Fn-UseC_-Telco-Customer-Churn.csv')\n",
    "\n",
    "# 标注连续/离散字段\n",
    "# 离散字段\n",
    "category_cols = ['gender', 'SeniorCitizen', 'Partner', 'Dependents',\n",
    "                'PhoneService', 'MultipleLines', 'InternetService', 'OnlineSecurity', 'OnlineBackup', \n",
    "                'DeviceProtection', 'TechSupport', 'StreamingTV', 'StreamingMovies', 'Contract', 'PaperlessBilling',\n",
    "                'PaymentMethod']\n",
    "\n",
    "# 连续字段\n",
    "numeric_cols = ['tenure', 'MonthlyCharges', 'TotalCharges']\n",
    " \n",
    "# 标签\n",
    "target = 'Churn'\n",
    "\n",
    "# ID列\n",
    "ID_col = 'customerID'\n",
    "\n",
    "# 验证是否划分能完全\n",
    "assert len(category_cols) + len(numeric_cols) + 2 == tcc.shape[1]\n",
    "\n",
    "# 连续字段转化\n",
    "tcc['TotalCharges']= tcc['TotalCharges'].apply(lambda x: x if x!= ' ' else np.nan).astype(float)\n",
    "tcc['MonthlyCharges'] = tcc['MonthlyCharges'].astype(float)\n",
    "\n",
    "# 缺失值填补\n",
    "tcc['TotalCharges'] = tcc['TotalCharges'].fillna(0)\n",
    "\n",
    "# 标签值手动转化 \n",
    "tcc['Churn'].replace(to_replace='Yes', value=1, inplace=True)\n",
    "tcc['Churn'].replace(to_replace='No',  value=0, inplace=True)"
   ]
  },
  {
   "cell_type": "code",
   "execution_count": 133,
   "id": "3b71dd80-637f-4382-a13a-fef24a1760be",
   "metadata": {},
   "outputs": [],
   "source": [
    "features = tcc.drop(columns=[ID_col, target]).copy()\n",
    "labels = tcc['Churn'].copy()"
   ]
  },
  {
   "cell_type": "markdown",
   "id": "758111cc-437e-4452-8bac-2bbc81b415bb",
   "metadata": {},
   "source": [
    "&emsp;&emsp;同时，创建自然编码后的数据集以及经过时序特征衍生的数据集："
   ]
  },
  {
   "cell_type": "code",
   "execution_count": 134,
   "id": "7885f830-34f6-4bac-9da5-bc600280afaf",
   "metadata": {},
   "outputs": [],
   "source": [
    "# 划分训练集和测试集\n",
    "train, test = train_test_split(tcc, random_state=22)\n",
    "\n",
    "X_train = train.drop(columns=[ID_col, target]).copy()\n",
    "X_test = test.drop(columns=[ID_col, target]).copy()\n",
    "\n",
    "y_train = train['Churn'].copy()\n",
    "y_test = test['Churn'].copy()\n",
    "\n",
    "X_train_seq = pd.DataFrame()\n",
    "X_test_seq = pd.DataFrame()\n",
    "\n",
    "# 年份衍生\n",
    "X_train_seq['tenure_year'] = ((72 - X_train['tenure']) // 12) + 2014\n",
    "X_test_seq['tenure_year'] = ((72 - X_test['tenure']) // 12) + 2014\n",
    "\n",
    "# 月份衍生\n",
    "X_train_seq['tenure_month'] = (72 - X_train['tenure']) % 12 + 1\n",
    "X_test_seq['tenure_month'] = (72 - X_test['tenure']) % 12 + 1\n",
    "\n",
    "# 季度衍生\n",
    "X_train_seq['tenure_quarter'] = ((X_train_seq['tenure_month']-1) // 3) + 1\n",
    "X_test_seq['tenure_quarter'] = ((X_test_seq['tenure_month']-1) // 3) + 1\n",
    "\n",
    "# 独热编码\n",
    "enc = preprocessing.OneHotEncoder()\n",
    "enc.fit(X_train_seq)\n",
    "\n",
    "seq_new = list(X_train_seq.columns)\n",
    "\n",
    "# 创建带有列名称的独热编码之后的df\n",
    "X_train_seq = pd.DataFrame(enc.transform(X_train_seq).toarray(), \n",
    "                           columns = cate_colName(enc, seq_new, drop=None))\n",
    "\n",
    "X_test_seq = pd.DataFrame(enc.transform(X_test_seq).toarray(), \n",
    "                          columns = cate_colName(enc, seq_new, drop=None))\n",
    "\n",
    "# 调整index\n",
    "X_train_seq.index = X_train.index\n",
    "X_test_seq.index = X_test.index"
   ]
  },
  {
   "cell_type": "code",
   "execution_count": 135,
   "id": "c10e5f76-bc8e-4ddf-829f-be34ba49aba5",
   "metadata": {},
   "outputs": [],
   "source": [
    "ord_enc = OrdinalEncoder()\n",
    "ord_enc.fit(X_train[category_cols])\n",
    "\n",
    "X_train_OE = pd.DataFrame(ord_enc.transform(X_train[category_cols]), columns=category_cols)\n",
    "X_train_OE.index = X_train.index\n",
    "X_train_OE = pd.concat([X_train_OE, X_train[numeric_cols]], axis=1)\n",
    "\n",
    "X_test_OE = pd.DataFrame(ord_enc.transform(X_test[category_cols]), columns=category_cols)\n",
    "X_test_OE.index = X_test.index\n",
    "X_test_OE = pd.concat([X_test_OE, X_test[numeric_cols]], axis=1)"
   ]
  },
  {
   "cell_type": "code",
   "execution_count": 136,
   "id": "c551f0fb-d880-49d7-b3df-62f365ceb842",
   "metadata": {},
   "outputs": [],
   "source": [
    "X_train_OE = X_train_OE.reset_index(drop=True)\n",
    "y_train = y_train.reset_index(drop=True)\n",
    "X_test_OE = X_test_OE.reset_index(drop=True)\n",
    "y_test = y_test.reset_index(drop=True)"
   ]
  },
  {
   "cell_type": "code",
   "execution_count": 137,
   "id": "db22c092-cf39-4bff-8128-ee174fdaa9ec",
   "metadata": {},
   "outputs": [
    {
     "data": {
      "text/html": [
       "<div>\n",
       "<style scoped>\n",
       "    .dataframe tbody tr th:only-of-type {\n",
       "        vertical-align: middle;\n",
       "    }\n",
       "\n",
       "    .dataframe tbody tr th {\n",
       "        vertical-align: top;\n",
       "    }\n",
       "\n",
       "    .dataframe thead th {\n",
       "        text-align: right;\n",
       "    }\n",
       "</style>\n",
       "<table border=\"1\" class=\"dataframe\">\n",
       "  <thead>\n",
       "    <tr style=\"text-align: right;\">\n",
       "      <th></th>\n",
       "      <th>gender</th>\n",
       "      <th>SeniorCitizen</th>\n",
       "      <th>Partner</th>\n",
       "      <th>Dependents</th>\n",
       "      <th>PhoneService</th>\n",
       "      <th>MultipleLines</th>\n",
       "      <th>InternetService</th>\n",
       "      <th>OnlineSecurity</th>\n",
       "      <th>OnlineBackup</th>\n",
       "      <th>DeviceProtection</th>\n",
       "      <th>TechSupport</th>\n",
       "      <th>StreamingTV</th>\n",
       "      <th>StreamingMovies</th>\n",
       "      <th>Contract</th>\n",
       "      <th>PaperlessBilling</th>\n",
       "      <th>PaymentMethod</th>\n",
       "      <th>tenure</th>\n",
       "      <th>MonthlyCharges</th>\n",
       "      <th>TotalCharges</th>\n",
       "    </tr>\n",
       "  </thead>\n",
       "  <tbody>\n",
       "    <tr>\n",
       "      <th>0</th>\n",
       "      <td>0.0</td>\n",
       "      <td>0.0</td>\n",
       "      <td>1.0</td>\n",
       "      <td>0.0</td>\n",
       "      <td>1.0</td>\n",
       "      <td>0.0</td>\n",
       "      <td>0.0</td>\n",
       "      <td>2.0</td>\n",
       "      <td>2.0</td>\n",
       "      <td>0.0</td>\n",
       "      <td>2.0</td>\n",
       "      <td>2.0</td>\n",
       "      <td>2.0</td>\n",
       "      <td>2.0</td>\n",
       "      <td>1.0</td>\n",
       "      <td>0.0</td>\n",
       "      <td>68</td>\n",
       "      <td>79.60</td>\n",
       "      <td>5515.80</td>\n",
       "    </tr>\n",
       "    <tr>\n",
       "      <th>1</th>\n",
       "      <td>0.0</td>\n",
       "      <td>0.0</td>\n",
       "      <td>1.0</td>\n",
       "      <td>1.0</td>\n",
       "      <td>1.0</td>\n",
       "      <td>0.0</td>\n",
       "      <td>1.0</td>\n",
       "      <td>0.0</td>\n",
       "      <td>2.0</td>\n",
       "      <td>0.0</td>\n",
       "      <td>2.0</td>\n",
       "      <td>0.0</td>\n",
       "      <td>0.0</td>\n",
       "      <td>0.0</td>\n",
       "      <td>1.0</td>\n",
       "      <td>2.0</td>\n",
       "      <td>3</td>\n",
       "      <td>80.00</td>\n",
       "      <td>241.30</td>\n",
       "    </tr>\n",
       "    <tr>\n",
       "      <th>2</th>\n",
       "      <td>1.0</td>\n",
       "      <td>0.0</td>\n",
       "      <td>0.0</td>\n",
       "      <td>0.0</td>\n",
       "      <td>1.0</td>\n",
       "      <td>0.0</td>\n",
       "      <td>2.0</td>\n",
       "      <td>1.0</td>\n",
       "      <td>1.0</td>\n",
       "      <td>1.0</td>\n",
       "      <td>1.0</td>\n",
       "      <td>1.0</td>\n",
       "      <td>1.0</td>\n",
       "      <td>0.0</td>\n",
       "      <td>0.0</td>\n",
       "      <td>3.0</td>\n",
       "      <td>4</td>\n",
       "      <td>19.00</td>\n",
       "      <td>73.45</td>\n",
       "    </tr>\n",
       "    <tr>\n",
       "      <th>3</th>\n",
       "      <td>0.0</td>\n",
       "      <td>0.0</td>\n",
       "      <td>1.0</td>\n",
       "      <td>1.0</td>\n",
       "      <td>1.0</td>\n",
       "      <td>0.0</td>\n",
       "      <td>0.0</td>\n",
       "      <td>0.0</td>\n",
       "      <td>2.0</td>\n",
       "      <td>2.0</td>\n",
       "      <td>0.0</td>\n",
       "      <td>0.0</td>\n",
       "      <td>0.0</td>\n",
       "      <td>0.0</td>\n",
       "      <td>1.0</td>\n",
       "      <td>3.0</td>\n",
       "      <td>10</td>\n",
       "      <td>55.55</td>\n",
       "      <td>551.30</td>\n",
       "    </tr>\n",
       "    <tr>\n",
       "      <th>4</th>\n",
       "      <td>0.0</td>\n",
       "      <td>1.0</td>\n",
       "      <td>0.0</td>\n",
       "      <td>0.0</td>\n",
       "      <td>1.0</td>\n",
       "      <td>0.0</td>\n",
       "      <td>2.0</td>\n",
       "      <td>1.0</td>\n",
       "      <td>1.0</td>\n",
       "      <td>1.0</td>\n",
       "      <td>1.0</td>\n",
       "      <td>1.0</td>\n",
       "      <td>1.0</td>\n",
       "      <td>0.0</td>\n",
       "      <td>0.0</td>\n",
       "      <td>3.0</td>\n",
       "      <td>4</td>\n",
       "      <td>20.05</td>\n",
       "      <td>91.45</td>\n",
       "    </tr>\n",
       "    <tr>\n",
       "      <th>...</th>\n",
       "      <td>...</td>\n",
       "      <td>...</td>\n",
       "      <td>...</td>\n",
       "      <td>...</td>\n",
       "      <td>...</td>\n",
       "      <td>...</td>\n",
       "      <td>...</td>\n",
       "      <td>...</td>\n",
       "      <td>...</td>\n",
       "      <td>...</td>\n",
       "      <td>...</td>\n",
       "      <td>...</td>\n",
       "      <td>...</td>\n",
       "      <td>...</td>\n",
       "      <td>...</td>\n",
       "      <td>...</td>\n",
       "      <td>...</td>\n",
       "      <td>...</td>\n",
       "      <td>...</td>\n",
       "    </tr>\n",
       "    <tr>\n",
       "      <th>5277</th>\n",
       "      <td>1.0</td>\n",
       "      <td>0.0</td>\n",
       "      <td>1.0</td>\n",
       "      <td>0.0</td>\n",
       "      <td>1.0</td>\n",
       "      <td>0.0</td>\n",
       "      <td>1.0</td>\n",
       "      <td>2.0</td>\n",
       "      <td>2.0</td>\n",
       "      <td>2.0</td>\n",
       "      <td>2.0</td>\n",
       "      <td>2.0</td>\n",
       "      <td>2.0</td>\n",
       "      <td>2.0</td>\n",
       "      <td>1.0</td>\n",
       "      <td>2.0</td>\n",
       "      <td>52</td>\n",
       "      <td>106.30</td>\n",
       "      <td>5487.00</td>\n",
       "    </tr>\n",
       "    <tr>\n",
       "      <th>5278</th>\n",
       "      <td>0.0</td>\n",
       "      <td>1.0</td>\n",
       "      <td>0.0</td>\n",
       "      <td>0.0</td>\n",
       "      <td>1.0</td>\n",
       "      <td>2.0</td>\n",
       "      <td>0.0</td>\n",
       "      <td>2.0</td>\n",
       "      <td>0.0</td>\n",
       "      <td>0.0</td>\n",
       "      <td>0.0</td>\n",
       "      <td>0.0</td>\n",
       "      <td>0.0</td>\n",
       "      <td>0.0</td>\n",
       "      <td>1.0</td>\n",
       "      <td>2.0</td>\n",
       "      <td>16</td>\n",
       "      <td>54.10</td>\n",
       "      <td>889.00</td>\n",
       "    </tr>\n",
       "    <tr>\n",
       "      <th>5279</th>\n",
       "      <td>0.0</td>\n",
       "      <td>1.0</td>\n",
       "      <td>0.0</td>\n",
       "      <td>0.0</td>\n",
       "      <td>1.0</td>\n",
       "      <td>2.0</td>\n",
       "      <td>1.0</td>\n",
       "      <td>0.0</td>\n",
       "      <td>2.0</td>\n",
       "      <td>2.0</td>\n",
       "      <td>0.0</td>\n",
       "      <td>2.0</td>\n",
       "      <td>2.0</td>\n",
       "      <td>0.0</td>\n",
       "      <td>1.0</td>\n",
       "      <td>2.0</td>\n",
       "      <td>28</td>\n",
       "      <td>106.15</td>\n",
       "      <td>3152.50</td>\n",
       "    </tr>\n",
       "    <tr>\n",
       "      <th>5280</th>\n",
       "      <td>0.0</td>\n",
       "      <td>0.0</td>\n",
       "      <td>1.0</td>\n",
       "      <td>1.0</td>\n",
       "      <td>1.0</td>\n",
       "      <td>0.0</td>\n",
       "      <td>2.0</td>\n",
       "      <td>1.0</td>\n",
       "      <td>1.0</td>\n",
       "      <td>1.0</td>\n",
       "      <td>1.0</td>\n",
       "      <td>1.0</td>\n",
       "      <td>1.0</td>\n",
       "      <td>1.0</td>\n",
       "      <td>0.0</td>\n",
       "      <td>1.0</td>\n",
       "      <td>15</td>\n",
       "      <td>20.35</td>\n",
       "      <td>335.95</td>\n",
       "    </tr>\n",
       "    <tr>\n",
       "      <th>5281</th>\n",
       "      <td>1.0</td>\n",
       "      <td>0.0</td>\n",
       "      <td>1.0</td>\n",
       "      <td>1.0</td>\n",
       "      <td>1.0</td>\n",
       "      <td>2.0</td>\n",
       "      <td>2.0</td>\n",
       "      <td>1.0</td>\n",
       "      <td>1.0</td>\n",
       "      <td>1.0</td>\n",
       "      <td>1.0</td>\n",
       "      <td>1.0</td>\n",
       "      <td>1.0</td>\n",
       "      <td>2.0</td>\n",
       "      <td>1.0</td>\n",
       "      <td>0.0</td>\n",
       "      <td>68</td>\n",
       "      <td>24.00</td>\n",
       "      <td>1664.30</td>\n",
       "    </tr>\n",
       "  </tbody>\n",
       "</table>\n",
       "<p>5282 rows × 19 columns</p>\n",
       "</div>"
      ],
      "text/plain": [
       "      gender  SeniorCitizen  Partner  Dependents  PhoneService  MultipleLines  \\\n",
       "0        0.0            0.0      1.0         0.0           1.0            0.0   \n",
       "1        0.0            0.0      1.0         1.0           1.0            0.0   \n",
       "2        1.0            0.0      0.0         0.0           1.0            0.0   \n",
       "3        0.0            0.0      1.0         1.0           1.0            0.0   \n",
       "4        0.0            1.0      0.0         0.0           1.0            0.0   \n",
       "...      ...            ...      ...         ...           ...            ...   \n",
       "5277     1.0            0.0      1.0         0.0           1.0            0.0   \n",
       "5278     0.0            1.0      0.0         0.0           1.0            2.0   \n",
       "5279     0.0            1.0      0.0         0.0           1.0            2.0   \n",
       "5280     0.0            0.0      1.0         1.0           1.0            0.0   \n",
       "5281     1.0            0.0      1.0         1.0           1.0            2.0   \n",
       "\n",
       "      InternetService  OnlineSecurity  OnlineBackup  DeviceProtection  \\\n",
       "0                 0.0             2.0           2.0               0.0   \n",
       "1                 1.0             0.0           2.0               0.0   \n",
       "2                 2.0             1.0           1.0               1.0   \n",
       "3                 0.0             0.0           2.0               2.0   \n",
       "4                 2.0             1.0           1.0               1.0   \n",
       "...               ...             ...           ...               ...   \n",
       "5277              1.0             2.0           2.0               2.0   \n",
       "5278              0.0             2.0           0.0               0.0   \n",
       "5279              1.0             0.0           2.0               2.0   \n",
       "5280              2.0             1.0           1.0               1.0   \n",
       "5281              2.0             1.0           1.0               1.0   \n",
       "\n",
       "      TechSupport  StreamingTV  StreamingMovies  Contract  PaperlessBilling  \\\n",
       "0             2.0          2.0              2.0       2.0               1.0   \n",
       "1             2.0          0.0              0.0       0.0               1.0   \n",
       "2             1.0          1.0              1.0       0.0               0.0   \n",
       "3             0.0          0.0              0.0       0.0               1.0   \n",
       "4             1.0          1.0              1.0       0.0               0.0   \n",
       "...           ...          ...              ...       ...               ...   \n",
       "5277          2.0          2.0              2.0       2.0               1.0   \n",
       "5278          0.0          0.0              0.0       0.0               1.0   \n",
       "5279          0.0          2.0              2.0       0.0               1.0   \n",
       "5280          1.0          1.0              1.0       1.0               0.0   \n",
       "5281          1.0          1.0              1.0       2.0               1.0   \n",
       "\n",
       "      PaymentMethod  tenure  MonthlyCharges  TotalCharges  \n",
       "0               0.0      68           79.60       5515.80  \n",
       "1               2.0       3           80.00        241.30  \n",
       "2               3.0       4           19.00         73.45  \n",
       "3               3.0      10           55.55        551.30  \n",
       "4               3.0       4           20.05         91.45  \n",
       "...             ...     ...             ...           ...  \n",
       "5277            2.0      52          106.30       5487.00  \n",
       "5278            2.0      16           54.10        889.00  \n",
       "5279            2.0      28          106.15       3152.50  \n",
       "5280            1.0      15           20.35        335.95  \n",
       "5281            0.0      68           24.00       1664.30  \n",
       "\n",
       "[5282 rows x 19 columns]"
      ]
     },
     "execution_count": 137,
     "metadata": {},
     "output_type": "execute_result"
    }
   ],
   "source": [
    "X_train_OE"
   ]
  },
  {
   "cell_type": "code",
   "execution_count": 138,
   "id": "31bf44a6-3bf6-43b0-9675-9749f9fa22c5",
   "metadata": {},
   "outputs": [
    {
     "data": {
      "text/html": [
       "<div>\n",
       "<style scoped>\n",
       "    .dataframe tbody tr th:only-of-type {\n",
       "        vertical-align: middle;\n",
       "    }\n",
       "\n",
       "    .dataframe tbody tr th {\n",
       "        vertical-align: top;\n",
       "    }\n",
       "\n",
       "    .dataframe thead th {\n",
       "        text-align: right;\n",
       "    }\n",
       "</style>\n",
       "<table border=\"1\" class=\"dataframe\">\n",
       "  <thead>\n",
       "    <tr style=\"text-align: right;\">\n",
       "      <th></th>\n",
       "      <th>gender</th>\n",
       "      <th>SeniorCitizen</th>\n",
       "      <th>Partner</th>\n",
       "      <th>Dependents</th>\n",
       "      <th>PhoneService</th>\n",
       "      <th>MultipleLines</th>\n",
       "      <th>InternetService</th>\n",
       "      <th>OnlineSecurity</th>\n",
       "      <th>OnlineBackup</th>\n",
       "      <th>DeviceProtection</th>\n",
       "      <th>TechSupport</th>\n",
       "      <th>StreamingTV</th>\n",
       "      <th>StreamingMovies</th>\n",
       "      <th>Contract</th>\n",
       "      <th>PaperlessBilling</th>\n",
       "      <th>PaymentMethod</th>\n",
       "      <th>tenure</th>\n",
       "      <th>MonthlyCharges</th>\n",
       "      <th>TotalCharges</th>\n",
       "    </tr>\n",
       "  </thead>\n",
       "  <tbody>\n",
       "    <tr>\n",
       "      <th>0</th>\n",
       "      <td>1.0</td>\n",
       "      <td>0.0</td>\n",
       "      <td>1.0</td>\n",
       "      <td>1.0</td>\n",
       "      <td>1.0</td>\n",
       "      <td>0.0</td>\n",
       "      <td>2.0</td>\n",
       "      <td>1.0</td>\n",
       "      <td>1.0</td>\n",
       "      <td>1.0</td>\n",
       "      <td>1.0</td>\n",
       "      <td>1.0</td>\n",
       "      <td>1.0</td>\n",
       "      <td>2.0</td>\n",
       "      <td>0.0</td>\n",
       "      <td>3.0</td>\n",
       "      <td>8</td>\n",
       "      <td>20.15</td>\n",
       "      <td>165.50</td>\n",
       "    </tr>\n",
       "    <tr>\n",
       "      <th>1</th>\n",
       "      <td>1.0</td>\n",
       "      <td>0.0</td>\n",
       "      <td>0.0</td>\n",
       "      <td>0.0</td>\n",
       "      <td>1.0</td>\n",
       "      <td>2.0</td>\n",
       "      <td>1.0</td>\n",
       "      <td>0.0</td>\n",
       "      <td>0.0</td>\n",
       "      <td>2.0</td>\n",
       "      <td>2.0</td>\n",
       "      <td>2.0</td>\n",
       "      <td>2.0</td>\n",
       "      <td>1.0</td>\n",
       "      <td>1.0</td>\n",
       "      <td>2.0</td>\n",
       "      <td>58</td>\n",
       "      <td>104.65</td>\n",
       "      <td>6219.60</td>\n",
       "    </tr>\n",
       "    <tr>\n",
       "      <th>2</th>\n",
       "      <td>0.0</td>\n",
       "      <td>0.0</td>\n",
       "      <td>1.0</td>\n",
       "      <td>1.0</td>\n",
       "      <td>1.0</td>\n",
       "      <td>2.0</td>\n",
       "      <td>2.0</td>\n",
       "      <td>1.0</td>\n",
       "      <td>1.0</td>\n",
       "      <td>1.0</td>\n",
       "      <td>1.0</td>\n",
       "      <td>1.0</td>\n",
       "      <td>1.0</td>\n",
       "      <td>2.0</td>\n",
       "      <td>1.0</td>\n",
       "      <td>0.0</td>\n",
       "      <td>65</td>\n",
       "      <td>25.30</td>\n",
       "      <td>1748.55</td>\n",
       "    </tr>\n",
       "    <tr>\n",
       "      <th>3</th>\n",
       "      <td>0.0</td>\n",
       "      <td>0.0</td>\n",
       "      <td>0.0</td>\n",
       "      <td>0.0</td>\n",
       "      <td>1.0</td>\n",
       "      <td>0.0</td>\n",
       "      <td>2.0</td>\n",
       "      <td>1.0</td>\n",
       "      <td>1.0</td>\n",
       "      <td>1.0</td>\n",
       "      <td>1.0</td>\n",
       "      <td>1.0</td>\n",
       "      <td>1.0</td>\n",
       "      <td>2.0</td>\n",
       "      <td>0.0</td>\n",
       "      <td>3.0</td>\n",
       "      <td>15</td>\n",
       "      <td>19.60</td>\n",
       "      <td>331.60</td>\n",
       "    </tr>\n",
       "    <tr>\n",
       "      <th>4</th>\n",
       "      <td>1.0</td>\n",
       "      <td>0.0</td>\n",
       "      <td>0.0</td>\n",
       "      <td>0.0</td>\n",
       "      <td>1.0</td>\n",
       "      <td>2.0</td>\n",
       "      <td>2.0</td>\n",
       "      <td>1.0</td>\n",
       "      <td>1.0</td>\n",
       "      <td>1.0</td>\n",
       "      <td>1.0</td>\n",
       "      <td>1.0</td>\n",
       "      <td>1.0</td>\n",
       "      <td>1.0</td>\n",
       "      <td>0.0</td>\n",
       "      <td>3.0</td>\n",
       "      <td>18</td>\n",
       "      <td>23.75</td>\n",
       "      <td>424.50</td>\n",
       "    </tr>\n",
       "    <tr>\n",
       "      <th>...</th>\n",
       "      <td>...</td>\n",
       "      <td>...</td>\n",
       "      <td>...</td>\n",
       "      <td>...</td>\n",
       "      <td>...</td>\n",
       "      <td>...</td>\n",
       "      <td>...</td>\n",
       "      <td>...</td>\n",
       "      <td>...</td>\n",
       "      <td>...</td>\n",
       "      <td>...</td>\n",
       "      <td>...</td>\n",
       "      <td>...</td>\n",
       "      <td>...</td>\n",
       "      <td>...</td>\n",
       "      <td>...</td>\n",
       "      <td>...</td>\n",
       "      <td>...</td>\n",
       "      <td>...</td>\n",
       "    </tr>\n",
       "    <tr>\n",
       "      <th>1756</th>\n",
       "      <td>0.0</td>\n",
       "      <td>0.0</td>\n",
       "      <td>1.0</td>\n",
       "      <td>1.0</td>\n",
       "      <td>1.0</td>\n",
       "      <td>2.0</td>\n",
       "      <td>1.0</td>\n",
       "      <td>2.0</td>\n",
       "      <td>0.0</td>\n",
       "      <td>2.0</td>\n",
       "      <td>2.0</td>\n",
       "      <td>2.0</td>\n",
       "      <td>2.0</td>\n",
       "      <td>0.0</td>\n",
       "      <td>1.0</td>\n",
       "      <td>3.0</td>\n",
       "      <td>56</td>\n",
       "      <td>109.60</td>\n",
       "      <td>5953.00</td>\n",
       "    </tr>\n",
       "    <tr>\n",
       "      <th>1757</th>\n",
       "      <td>0.0</td>\n",
       "      <td>0.0</td>\n",
       "      <td>1.0</td>\n",
       "      <td>1.0</td>\n",
       "      <td>1.0</td>\n",
       "      <td>0.0</td>\n",
       "      <td>2.0</td>\n",
       "      <td>1.0</td>\n",
       "      <td>1.0</td>\n",
       "      <td>1.0</td>\n",
       "      <td>1.0</td>\n",
       "      <td>1.0</td>\n",
       "      <td>1.0</td>\n",
       "      <td>2.0</td>\n",
       "      <td>0.0</td>\n",
       "      <td>0.0</td>\n",
       "      <td>12</td>\n",
       "      <td>20.30</td>\n",
       "      <td>224.50</td>\n",
       "    </tr>\n",
       "    <tr>\n",
       "      <th>1758</th>\n",
       "      <td>0.0</td>\n",
       "      <td>0.0</td>\n",
       "      <td>0.0</td>\n",
       "      <td>0.0</td>\n",
       "      <td>1.0</td>\n",
       "      <td>2.0</td>\n",
       "      <td>1.0</td>\n",
       "      <td>0.0</td>\n",
       "      <td>2.0</td>\n",
       "      <td>0.0</td>\n",
       "      <td>2.0</td>\n",
       "      <td>0.0</td>\n",
       "      <td>2.0</td>\n",
       "      <td>1.0</td>\n",
       "      <td>0.0</td>\n",
       "      <td>2.0</td>\n",
       "      <td>57</td>\n",
       "      <td>94.70</td>\n",
       "      <td>5468.95</td>\n",
       "    </tr>\n",
       "    <tr>\n",
       "      <th>1759</th>\n",
       "      <td>0.0</td>\n",
       "      <td>1.0</td>\n",
       "      <td>1.0</td>\n",
       "      <td>0.0</td>\n",
       "      <td>1.0</td>\n",
       "      <td>2.0</td>\n",
       "      <td>1.0</td>\n",
       "      <td>0.0</td>\n",
       "      <td>0.0</td>\n",
       "      <td>0.0</td>\n",
       "      <td>0.0</td>\n",
       "      <td>0.0</td>\n",
       "      <td>0.0</td>\n",
       "      <td>0.0</td>\n",
       "      <td>1.0</td>\n",
       "      <td>2.0</td>\n",
       "      <td>37</td>\n",
       "      <td>76.50</td>\n",
       "      <td>2868.15</td>\n",
       "    </tr>\n",
       "    <tr>\n",
       "      <th>1760</th>\n",
       "      <td>0.0</td>\n",
       "      <td>0.0</td>\n",
       "      <td>0.0</td>\n",
       "      <td>0.0</td>\n",
       "      <td>1.0</td>\n",
       "      <td>2.0</td>\n",
       "      <td>1.0</td>\n",
       "      <td>2.0</td>\n",
       "      <td>2.0</td>\n",
       "      <td>2.0</td>\n",
       "      <td>2.0</td>\n",
       "      <td>2.0</td>\n",
       "      <td>0.0</td>\n",
       "      <td>1.0</td>\n",
       "      <td>1.0</td>\n",
       "      <td>0.0</td>\n",
       "      <td>66</td>\n",
       "      <td>104.55</td>\n",
       "      <td>6779.05</td>\n",
       "    </tr>\n",
       "  </tbody>\n",
       "</table>\n",
       "<p>1761 rows × 19 columns</p>\n",
       "</div>"
      ],
      "text/plain": [
       "      gender  SeniorCitizen  Partner  Dependents  PhoneService  MultipleLines  \\\n",
       "0        1.0            0.0      1.0         1.0           1.0            0.0   \n",
       "1        1.0            0.0      0.0         0.0           1.0            2.0   \n",
       "2        0.0            0.0      1.0         1.0           1.0            2.0   \n",
       "3        0.0            0.0      0.0         0.0           1.0            0.0   \n",
       "4        1.0            0.0      0.0         0.0           1.0            2.0   \n",
       "...      ...            ...      ...         ...           ...            ...   \n",
       "1756     0.0            0.0      1.0         1.0           1.0            2.0   \n",
       "1757     0.0            0.0      1.0         1.0           1.0            0.0   \n",
       "1758     0.0            0.0      0.0         0.0           1.0            2.0   \n",
       "1759     0.0            1.0      1.0         0.0           1.0            2.0   \n",
       "1760     0.0            0.0      0.0         0.0           1.0            2.0   \n",
       "\n",
       "      InternetService  OnlineSecurity  OnlineBackup  DeviceProtection  \\\n",
       "0                 2.0             1.0           1.0               1.0   \n",
       "1                 1.0             0.0           0.0               2.0   \n",
       "2                 2.0             1.0           1.0               1.0   \n",
       "3                 2.0             1.0           1.0               1.0   \n",
       "4                 2.0             1.0           1.0               1.0   \n",
       "...               ...             ...           ...               ...   \n",
       "1756              1.0             2.0           0.0               2.0   \n",
       "1757              2.0             1.0           1.0               1.0   \n",
       "1758              1.0             0.0           2.0               0.0   \n",
       "1759              1.0             0.0           0.0               0.0   \n",
       "1760              1.0             2.0           2.0               2.0   \n",
       "\n",
       "      TechSupport  StreamingTV  StreamingMovies  Contract  PaperlessBilling  \\\n",
       "0             1.0          1.0              1.0       2.0               0.0   \n",
       "1             2.0          2.0              2.0       1.0               1.0   \n",
       "2             1.0          1.0              1.0       2.0               1.0   \n",
       "3             1.0          1.0              1.0       2.0               0.0   \n",
       "4             1.0          1.0              1.0       1.0               0.0   \n",
       "...           ...          ...              ...       ...               ...   \n",
       "1756          2.0          2.0              2.0       0.0               1.0   \n",
       "1757          1.0          1.0              1.0       2.0               0.0   \n",
       "1758          2.0          0.0              2.0       1.0               0.0   \n",
       "1759          0.0          0.0              0.0       0.0               1.0   \n",
       "1760          2.0          2.0              0.0       1.0               1.0   \n",
       "\n",
       "      PaymentMethod  tenure  MonthlyCharges  TotalCharges  \n",
       "0               3.0       8           20.15        165.50  \n",
       "1               2.0      58          104.65       6219.60  \n",
       "2               0.0      65           25.30       1748.55  \n",
       "3               3.0      15           19.60        331.60  \n",
       "4               3.0      18           23.75        424.50  \n",
       "...             ...     ...             ...           ...  \n",
       "1756            3.0      56          109.60       5953.00  \n",
       "1757            0.0      12           20.30        224.50  \n",
       "1758            2.0      57           94.70       5468.95  \n",
       "1759            2.0      37           76.50       2868.15  \n",
       "1760            0.0      66          104.55       6779.05  \n",
       "\n",
       "[1761 rows x 19 columns]"
      ]
     },
     "execution_count": 138,
     "metadata": {},
     "output_type": "execute_result"
    }
   ],
   "source": [
    "X_test_OE"
   ]
  },
  {
   "cell_type": "code",
   "execution_count": 139,
   "id": "d2e68b75-3cba-4045-b2a8-6f43cdac2e6c",
   "metadata": {},
   "outputs": [
    {
     "data": {
      "text/plain": [
       "0       0\n",
       "1       0\n",
       "2       0\n",
       "3       0\n",
       "4       0\n",
       "       ..\n",
       "5277    0\n",
       "5278    0\n",
       "5279    1\n",
       "5280    0\n",
       "5281    0\n",
       "Name: Churn, Length: 5282, dtype: int64"
      ]
     },
     "execution_count": 139,
     "metadata": {},
     "output_type": "execute_result"
    }
   ],
   "source": [
    "y_train"
   ]
  },
  {
   "cell_type": "markdown",
   "id": "77f2b012-e2a9-489a-91a6-5a9f00ae4ce1",
   "metadata": {},
   "source": [
    "- 不进行超参数优化时模型表现"
   ]
  },
  {
   "cell_type": "code",
   "execution_count": 14,
   "id": "39c9cd22-af64-4e05-b876-32280c01ee8b",
   "metadata": {},
   "outputs": [
    {
     "data": {
      "text/html": [
       "<style>#sk-container-id-2 {color: black;background-color: white;}#sk-container-id-2 pre{padding: 0;}#sk-container-id-2 div.sk-toggleable {background-color: white;}#sk-container-id-2 label.sk-toggleable__label {cursor: pointer;display: block;width: 100%;margin-bottom: 0;padding: 0.3em;box-sizing: border-box;text-align: center;}#sk-container-id-2 label.sk-toggleable__label-arrow:before {content: \"▸\";float: left;margin-right: 0.25em;color: #696969;}#sk-container-id-2 label.sk-toggleable__label-arrow:hover:before {color: black;}#sk-container-id-2 div.sk-estimator:hover label.sk-toggleable__label-arrow:before {color: black;}#sk-container-id-2 div.sk-toggleable__content {max-height: 0;max-width: 0;overflow: hidden;text-align: left;background-color: #f0f8ff;}#sk-container-id-2 div.sk-toggleable__content pre {margin: 0.2em;color: black;border-radius: 0.25em;background-color: #f0f8ff;}#sk-container-id-2 input.sk-toggleable__control:checked~div.sk-toggleable__content {max-height: 200px;max-width: 100%;overflow: auto;}#sk-container-id-2 input.sk-toggleable__control:checked~label.sk-toggleable__label-arrow:before {content: \"▾\";}#sk-container-id-2 div.sk-estimator input.sk-toggleable__control:checked~label.sk-toggleable__label {background-color: #d4ebff;}#sk-container-id-2 div.sk-label input.sk-toggleable__control:checked~label.sk-toggleable__label {background-color: #d4ebff;}#sk-container-id-2 input.sk-hidden--visually {border: 0;clip: rect(1px 1px 1px 1px);clip: rect(1px, 1px, 1px, 1px);height: 1px;margin: -1px;overflow: hidden;padding: 0;position: absolute;width: 1px;}#sk-container-id-2 div.sk-estimator {font-family: monospace;background-color: #f0f8ff;border: 1px dotted black;border-radius: 0.25em;box-sizing: border-box;margin-bottom: 0.5em;}#sk-container-id-2 div.sk-estimator:hover {background-color: #d4ebff;}#sk-container-id-2 div.sk-parallel-item::after {content: \"\";width: 100%;border-bottom: 1px solid gray;flex-grow: 1;}#sk-container-id-2 div.sk-label:hover label.sk-toggleable__label {background-color: #d4ebff;}#sk-container-id-2 div.sk-serial::before {content: \"\";position: absolute;border-left: 1px solid gray;box-sizing: border-box;top: 0;bottom: 0;left: 50%;z-index: 0;}#sk-container-id-2 div.sk-serial {display: flex;flex-direction: column;align-items: center;background-color: white;padding-right: 0.2em;padding-left: 0.2em;position: relative;}#sk-container-id-2 div.sk-item {position: relative;z-index: 1;}#sk-container-id-2 div.sk-parallel {display: flex;align-items: stretch;justify-content: center;background-color: white;position: relative;}#sk-container-id-2 div.sk-item::before, #sk-container-id-2 div.sk-parallel-item::before {content: \"\";position: absolute;border-left: 1px solid gray;box-sizing: border-box;top: 0;bottom: 0;left: 50%;z-index: -1;}#sk-container-id-2 div.sk-parallel-item {display: flex;flex-direction: column;z-index: 1;position: relative;background-color: white;}#sk-container-id-2 div.sk-parallel-item:first-child::after {align-self: flex-end;width: 50%;}#sk-container-id-2 div.sk-parallel-item:last-child::after {align-self: flex-start;width: 50%;}#sk-container-id-2 div.sk-parallel-item:only-child::after {width: 0;}#sk-container-id-2 div.sk-dashed-wrapped {border: 1px dashed gray;margin: 0 0.4em 0.5em 0.4em;box-sizing: border-box;padding-bottom: 0.4em;background-color: white;}#sk-container-id-2 div.sk-label label {font-family: monospace;font-weight: bold;display: inline-block;line-height: 1.2em;}#sk-container-id-2 div.sk-label-container {text-align: center;}#sk-container-id-2 div.sk-container {/* jupyter's `normalize.less` sets `[hidden] { display: none; }` but bootstrap.min.css set `[hidden] { display: none !important; }` so we also need the `!important` here to be able to override the default hidden behavior on the sphinx rendered scikit-learn.org. See: https://github.com/scikit-learn/scikit-learn/issues/21755 */display: inline-block !important;position: relative;}#sk-container-id-2 div.sk-text-repr-fallback {display: none;}</style><div id=\"sk-container-id-2\" class=\"sk-top-container\"><div class=\"sk-text-repr-fallback\"><pre>LGBMClassifier()</pre><b>In a Jupyter environment, please rerun this cell to show the HTML representation or trust the notebook. <br />On GitHub, the HTML representation is unable to render, please try loading this page with nbviewer.org.</b></div><div class=\"sk-container\" hidden><div class=\"sk-item\"><div class=\"sk-estimator sk-toggleable\"><input class=\"sk-toggleable__control sk-hidden--visually\" id=\"sk-estimator-id-2\" type=\"checkbox\" checked><label for=\"sk-estimator-id-2\" class=\"sk-toggleable__label sk-toggleable__label-arrow\">LGBMClassifier</label><div class=\"sk-toggleable__content\"><pre>LGBMClassifier()</pre></div></div></div></div></div>"
      ],
      "text/plain": [
       "LGBMClassifier()"
      ]
     },
     "execution_count": 14,
     "metadata": {},
     "output_type": "execute_result"
    }
   ],
   "source": [
    "gbm = lgb.LGBMClassifier()\n",
    "gbm"
   ]
  },
  {
   "cell_type": "code",
   "execution_count": 79,
   "id": "fc7130eb-22ee-4ee2-96f7-9bde1827ac7a",
   "metadata": {
    "collapsed": true,
    "jupyter": {
     "outputs_hidden": true
    },
    "tags": []
   },
   "outputs": [
    {
     "data": {
      "text/plain": [
       "\u001b[1;31mInit signature:\u001b[0m\n",
       "\u001b[0mLGBMClassifier\u001b[0m\u001b[1;33m(\u001b[0m\u001b[1;33m\n",
       "\u001b[0m    \u001b[0mboosting_type\u001b[0m\u001b[1;33m:\u001b[0m \u001b[0mstr\u001b[0m \u001b[1;33m=\u001b[0m \u001b[1;34m'gbdt'\u001b[0m\u001b[1;33m,\u001b[0m\u001b[1;33m\n",
       "\u001b[0m    \u001b[0mnum_leaves\u001b[0m\u001b[1;33m:\u001b[0m \u001b[0mint\u001b[0m \u001b[1;33m=\u001b[0m \u001b[1;36m31\u001b[0m\u001b[1;33m,\u001b[0m\u001b[1;33m\n",
       "\u001b[0m    \u001b[0mmax_depth\u001b[0m\u001b[1;33m:\u001b[0m \u001b[0mint\u001b[0m \u001b[1;33m=\u001b[0m \u001b[1;33m-\u001b[0m\u001b[1;36m1\u001b[0m\u001b[1;33m,\u001b[0m\u001b[1;33m\n",
       "\u001b[0m    \u001b[0mlearning_rate\u001b[0m\u001b[1;33m:\u001b[0m \u001b[0mfloat\u001b[0m \u001b[1;33m=\u001b[0m \u001b[1;36m0.1\u001b[0m\u001b[1;33m,\u001b[0m\u001b[1;33m\n",
       "\u001b[0m    \u001b[0mn_estimators\u001b[0m\u001b[1;33m:\u001b[0m \u001b[0mint\u001b[0m \u001b[1;33m=\u001b[0m \u001b[1;36m100\u001b[0m\u001b[1;33m,\u001b[0m\u001b[1;33m\n",
       "\u001b[0m    \u001b[0msubsample_for_bin\u001b[0m\u001b[1;33m:\u001b[0m \u001b[0mint\u001b[0m \u001b[1;33m=\u001b[0m \u001b[1;36m200000\u001b[0m\u001b[1;33m,\u001b[0m\u001b[1;33m\n",
       "\u001b[0m    \u001b[0mobjective\u001b[0m\u001b[1;33m:\u001b[0m \u001b[0mUnion\u001b[0m\u001b[1;33m[\u001b[0m\u001b[0mstr\u001b[0m\u001b[1;33m,\u001b[0m \u001b[0mCallable\u001b[0m\u001b[1;33m,\u001b[0m \u001b[0mNoneType\u001b[0m\u001b[1;33m]\u001b[0m \u001b[1;33m=\u001b[0m \u001b[1;32mNone\u001b[0m\u001b[1;33m,\u001b[0m\u001b[1;33m\n",
       "\u001b[0m    \u001b[0mclass_weight\u001b[0m\u001b[1;33m:\u001b[0m \u001b[0mUnion\u001b[0m\u001b[1;33m[\u001b[0m\u001b[0mDict\u001b[0m\u001b[1;33m,\u001b[0m \u001b[0mstr\u001b[0m\u001b[1;33m,\u001b[0m \u001b[0mNoneType\u001b[0m\u001b[1;33m]\u001b[0m \u001b[1;33m=\u001b[0m \u001b[1;32mNone\u001b[0m\u001b[1;33m,\u001b[0m\u001b[1;33m\n",
       "\u001b[0m    \u001b[0mmin_split_gain\u001b[0m\u001b[1;33m:\u001b[0m \u001b[0mfloat\u001b[0m \u001b[1;33m=\u001b[0m \u001b[1;36m0.0\u001b[0m\u001b[1;33m,\u001b[0m\u001b[1;33m\n",
       "\u001b[0m    \u001b[0mmin_child_weight\u001b[0m\u001b[1;33m:\u001b[0m \u001b[0mfloat\u001b[0m \u001b[1;33m=\u001b[0m \u001b[1;36m0.001\u001b[0m\u001b[1;33m,\u001b[0m\u001b[1;33m\n",
       "\u001b[0m    \u001b[0mmin_child_samples\u001b[0m\u001b[1;33m:\u001b[0m \u001b[0mint\u001b[0m \u001b[1;33m=\u001b[0m \u001b[1;36m20\u001b[0m\u001b[1;33m,\u001b[0m\u001b[1;33m\n",
       "\u001b[0m    \u001b[0msubsample\u001b[0m\u001b[1;33m:\u001b[0m \u001b[0mfloat\u001b[0m \u001b[1;33m=\u001b[0m \u001b[1;36m1.0\u001b[0m\u001b[1;33m,\u001b[0m\u001b[1;33m\n",
       "\u001b[0m    \u001b[0msubsample_freq\u001b[0m\u001b[1;33m:\u001b[0m \u001b[0mint\u001b[0m \u001b[1;33m=\u001b[0m \u001b[1;36m0\u001b[0m\u001b[1;33m,\u001b[0m\u001b[1;33m\n",
       "\u001b[0m    \u001b[0mcolsample_bytree\u001b[0m\u001b[1;33m:\u001b[0m \u001b[0mfloat\u001b[0m \u001b[1;33m=\u001b[0m \u001b[1;36m1.0\u001b[0m\u001b[1;33m,\u001b[0m\u001b[1;33m\n",
       "\u001b[0m    \u001b[0mreg_alpha\u001b[0m\u001b[1;33m:\u001b[0m \u001b[0mfloat\u001b[0m \u001b[1;33m=\u001b[0m \u001b[1;36m0.0\u001b[0m\u001b[1;33m,\u001b[0m\u001b[1;33m\n",
       "\u001b[0m    \u001b[0mreg_lambda\u001b[0m\u001b[1;33m:\u001b[0m \u001b[0mfloat\u001b[0m \u001b[1;33m=\u001b[0m \u001b[1;36m0.0\u001b[0m\u001b[1;33m,\u001b[0m\u001b[1;33m\n",
       "\u001b[0m    \u001b[0mrandom_state\u001b[0m\u001b[1;33m:\u001b[0m \u001b[0mUnion\u001b[0m\u001b[1;33m[\u001b[0m\u001b[0mint\u001b[0m\u001b[1;33m,\u001b[0m \u001b[0mnumpy\u001b[0m\u001b[1;33m.\u001b[0m\u001b[0mrandom\u001b[0m\u001b[1;33m.\u001b[0m\u001b[0mmtrand\u001b[0m\u001b[1;33m.\u001b[0m\u001b[0mRandomState\u001b[0m\u001b[1;33m,\u001b[0m \u001b[0mNoneType\u001b[0m\u001b[1;33m]\u001b[0m \u001b[1;33m=\u001b[0m \u001b[1;32mNone\u001b[0m\u001b[1;33m,\u001b[0m\u001b[1;33m\n",
       "\u001b[0m    \u001b[0mn_jobs\u001b[0m\u001b[1;33m:\u001b[0m \u001b[0mint\u001b[0m \u001b[1;33m=\u001b[0m \u001b[1;33m-\u001b[0m\u001b[1;36m1\u001b[0m\u001b[1;33m,\u001b[0m\u001b[1;33m\n",
       "\u001b[0m    \u001b[0msilent\u001b[0m\u001b[1;33m:\u001b[0m \u001b[0mUnion\u001b[0m\u001b[1;33m[\u001b[0m\u001b[0mbool\u001b[0m\u001b[1;33m,\u001b[0m \u001b[0mstr\u001b[0m\u001b[1;33m]\u001b[0m \u001b[1;33m=\u001b[0m \u001b[1;34m'warn'\u001b[0m\u001b[1;33m,\u001b[0m\u001b[1;33m\n",
       "\u001b[0m    \u001b[0mimportance_type\u001b[0m\u001b[1;33m:\u001b[0m \u001b[0mstr\u001b[0m \u001b[1;33m=\u001b[0m \u001b[1;34m'split'\u001b[0m\u001b[1;33m,\u001b[0m\u001b[1;33m\n",
       "\u001b[0m    \u001b[1;33m**\u001b[0m\u001b[0mkwargs\u001b[0m\u001b[1;33m,\u001b[0m\u001b[1;33m\n",
       "\u001b[0m\u001b[1;33m)\u001b[0m\u001b[1;33m\u001b[0m\u001b[1;33m\u001b[0m\u001b[0m\n",
       "\u001b[1;31mDocstring:\u001b[0m      LightGBM classifier.\n",
       "\u001b[1;31mInit docstring:\u001b[0m\n",
       "Construct a gradient boosting model.\n",
       "\n",
       "Parameters\n",
       "----------\n",
       "boosting_type : str, optional (default='gbdt')\n",
       "    'gbdt', traditional Gradient Boosting Decision Tree.\n",
       "    'dart', Dropouts meet Multiple Additive Regression Trees.\n",
       "    'goss', Gradient-based One-Side Sampling.\n",
       "    'rf', Random Forest.\n",
       "num_leaves : int, optional (default=31)\n",
       "    Maximum tree leaves for base learners.\n",
       "max_depth : int, optional (default=-1)\n",
       "    Maximum tree depth for base learners, <=0 means no limit.\n",
       "learning_rate : float, optional (default=0.1)\n",
       "    Boosting learning rate.\n",
       "    You can use ``callbacks`` parameter of ``fit`` method to shrink/adapt learning rate\n",
       "    in training using ``reset_parameter`` callback.\n",
       "    Note, that this will ignore the ``learning_rate`` argument in training.\n",
       "n_estimators : int, optional (default=100)\n",
       "    Number of boosted trees to fit.\n",
       "subsample_for_bin : int, optional (default=200000)\n",
       "    Number of samples for constructing bins.\n",
       "objective : str, callable or None, optional (default=None)\n",
       "    Specify the learning task and the corresponding learning objective or\n",
       "    a custom objective function to be used (see note below).\n",
       "    Default: 'regression' for LGBMRegressor, 'binary' or 'multiclass' for LGBMClassifier, 'lambdarank' for LGBMRanker.\n",
       "class_weight : dict, 'balanced' or None, optional (default=None)\n",
       "    Weights associated with classes in the form ``{class_label: weight}``.\n",
       "    Use this parameter only for multi-class classification task;\n",
       "    for binary classification task you may use ``is_unbalance`` or ``scale_pos_weight`` parameters.\n",
       "    Note, that the usage of all these parameters will result in poor estimates of the individual class probabilities.\n",
       "    You may want to consider performing probability calibration\n",
       "    (https://scikit-learn.org/stable/modules/calibration.html) of your model.\n",
       "    The 'balanced' mode uses the values of y to automatically adjust weights\n",
       "    inversely proportional to class frequencies in the input data as ``n_samples / (n_classes * np.bincount(y))``.\n",
       "    If None, all classes are supposed to have weight one.\n",
       "    Note, that these weights will be multiplied with ``sample_weight`` (passed through the ``fit`` method)\n",
       "    if ``sample_weight`` is specified.\n",
       "min_split_gain : float, optional (default=0.)\n",
       "    Minimum loss reduction required to make a further partition on a leaf node of the tree.\n",
       "min_child_weight : float, optional (default=1e-3)\n",
       "    Minimum sum of instance weight (hessian) needed in a child (leaf).\n",
       "min_child_samples : int, optional (default=20)\n",
       "    Minimum number of data needed in a child (leaf).\n",
       "subsample : float, optional (default=1.)\n",
       "    Subsample ratio of the training instance.\n",
       "subsample_freq : int, optional (default=0)\n",
       "    Frequency of subsample, <=0 means no enable.\n",
       "colsample_bytree : float, optional (default=1.)\n",
       "    Subsample ratio of columns when constructing each tree.\n",
       "reg_alpha : float, optional (default=0.)\n",
       "    L1 regularization term on weights.\n",
       "reg_lambda : float, optional (default=0.)\n",
       "    L2 regularization term on weights.\n",
       "random_state : int, RandomState object or None, optional (default=None)\n",
       "    Random number seed.\n",
       "    If int, this number is used to seed the C++ code.\n",
       "    If RandomState object (numpy), a random integer is picked based on its state to seed the C++ code.\n",
       "    If None, default seeds in C++ code are used.\n",
       "n_jobs : int, optional (default=-1)\n",
       "    Number of parallel threads.\n",
       "silent : bool, optional (default=True)\n",
       "    Whether to print messages while running boosting.\n",
       "importance_type : str, optional (default='split')\n",
       "    The type of feature importance to be filled into ``feature_importances_``.\n",
       "    If 'split', result contains numbers of times the feature is used in a model.\n",
       "    If 'gain', result contains total gains of splits which use the feature.\n",
       "**kwargs\n",
       "    Other parameters for the model.\n",
       "    Check http://lightgbm.readthedocs.io/en/latest/Parameters.html for more parameters.\n",
       "\n",
       "    .. warning::\n",
       "\n",
       "        \\*\\*kwargs is not supported in sklearn, it may cause unexpected issues.\n",
       "\n",
       "Note\n",
       "----\n",
       "A custom objective function can be provided for the ``objective`` parameter.\n",
       "In this case, it should have the signature\n",
       "``objective(y_true, y_pred) -> grad, hess`` or\n",
       "``objective(y_true, y_pred, group) -> grad, hess``:\n",
       "\n",
       "    y_true : array-like of shape = [n_samples]\n",
       "        The target values.\n",
       "    y_pred : array-like of shape = [n_samples] or shape = [n_samples * n_classes] (for multi-class task)\n",
       "        The predicted values.\n",
       "        Predicted values are returned before any transformation,\n",
       "        e.g. they are raw margin instead of probability of positive class for binary task.\n",
       "    group : array-like\n",
       "        Group/query data.\n",
       "        Only used in the learning-to-rank task.\n",
       "        sum(group) = n_samples.\n",
       "        For example, if you have a 100-document dataset with ``group = [10, 20, 40, 10, 10, 10]``, that means that you have 6 groups,\n",
       "        where the first 10 records are in the first group, records 11-30 are in the second group, records 31-70 are in the third group, etc.\n",
       "    grad : array-like of shape = [n_samples] or shape = [n_samples * n_classes] (for multi-class task)\n",
       "        The value of the first order derivative (gradient) of the loss\n",
       "        with respect to the elements of y_pred for each sample point.\n",
       "    hess : array-like of shape = [n_samples] or shape = [n_samples * n_classes] (for multi-class task)\n",
       "        The value of the second order derivative (Hessian) of the loss\n",
       "        with respect to the elements of y_pred for each sample point.\n",
       "\n",
       "For multi-class task, the y_pred is group by class_id first, then group by row_id.\n",
       "If you want to get i-th row y_pred in j-th class, the access way is y_pred[j * num_data + i]\n",
       "and you should group grad and hess in this way as well.\n",
       "\u001b[1;31mFile:\u001b[0m           d:\\anaconda3\\lib\\site-packages\\lightgbm\\sklearn.py\n",
       "\u001b[1;31mType:\u001b[0m           type\n",
       "\u001b[1;31mSubclasses:\u001b[0m     DaskLGBMClassifier\n"
      ]
     },
     "metadata": {},
     "output_type": "display_data"
    }
   ],
   "source": [
    "LGBMClassifier?"
   ]
  },
  {
   "cell_type": "markdown",
   "id": "13656b53-945d-47e5-bdaa-087fbb618daf",
   "metadata": {},
   "source": [
    "具体的模型训练过程和sklearn中其他模型一样，通过fit进行训练，并利用predict进行结果输出："
   ]
  },
  {
   "cell_type": "code",
   "execution_count": 17,
   "id": "5f85c4e2-9799-4ad0-8cd0-ea2b4a9e48b0",
   "metadata": {},
   "outputs": [
    {
     "data": {
      "text/html": [
       "<style>#sk-container-id-4 {color: black;background-color: white;}#sk-container-id-4 pre{padding: 0;}#sk-container-id-4 div.sk-toggleable {background-color: white;}#sk-container-id-4 label.sk-toggleable__label {cursor: pointer;display: block;width: 100%;margin-bottom: 0;padding: 0.3em;box-sizing: border-box;text-align: center;}#sk-container-id-4 label.sk-toggleable__label-arrow:before {content: \"▸\";float: left;margin-right: 0.25em;color: #696969;}#sk-container-id-4 label.sk-toggleable__label-arrow:hover:before {color: black;}#sk-container-id-4 div.sk-estimator:hover label.sk-toggleable__label-arrow:before {color: black;}#sk-container-id-4 div.sk-toggleable__content {max-height: 0;max-width: 0;overflow: hidden;text-align: left;background-color: #f0f8ff;}#sk-container-id-4 div.sk-toggleable__content pre {margin: 0.2em;color: black;border-radius: 0.25em;background-color: #f0f8ff;}#sk-container-id-4 input.sk-toggleable__control:checked~div.sk-toggleable__content {max-height: 200px;max-width: 100%;overflow: auto;}#sk-container-id-4 input.sk-toggleable__control:checked~label.sk-toggleable__label-arrow:before {content: \"▾\";}#sk-container-id-4 div.sk-estimator input.sk-toggleable__control:checked~label.sk-toggleable__label {background-color: #d4ebff;}#sk-container-id-4 div.sk-label input.sk-toggleable__control:checked~label.sk-toggleable__label {background-color: #d4ebff;}#sk-container-id-4 input.sk-hidden--visually {border: 0;clip: rect(1px 1px 1px 1px);clip: rect(1px, 1px, 1px, 1px);height: 1px;margin: -1px;overflow: hidden;padding: 0;position: absolute;width: 1px;}#sk-container-id-4 div.sk-estimator {font-family: monospace;background-color: #f0f8ff;border: 1px dotted black;border-radius: 0.25em;box-sizing: border-box;margin-bottom: 0.5em;}#sk-container-id-4 div.sk-estimator:hover {background-color: #d4ebff;}#sk-container-id-4 div.sk-parallel-item::after {content: \"\";width: 100%;border-bottom: 1px solid gray;flex-grow: 1;}#sk-container-id-4 div.sk-label:hover label.sk-toggleable__label {background-color: #d4ebff;}#sk-container-id-4 div.sk-serial::before {content: \"\";position: absolute;border-left: 1px solid gray;box-sizing: border-box;top: 0;bottom: 0;left: 50%;z-index: 0;}#sk-container-id-4 div.sk-serial {display: flex;flex-direction: column;align-items: center;background-color: white;padding-right: 0.2em;padding-left: 0.2em;position: relative;}#sk-container-id-4 div.sk-item {position: relative;z-index: 1;}#sk-container-id-4 div.sk-parallel {display: flex;align-items: stretch;justify-content: center;background-color: white;position: relative;}#sk-container-id-4 div.sk-item::before, #sk-container-id-4 div.sk-parallel-item::before {content: \"\";position: absolute;border-left: 1px solid gray;box-sizing: border-box;top: 0;bottom: 0;left: 50%;z-index: -1;}#sk-container-id-4 div.sk-parallel-item {display: flex;flex-direction: column;z-index: 1;position: relative;background-color: white;}#sk-container-id-4 div.sk-parallel-item:first-child::after {align-self: flex-end;width: 50%;}#sk-container-id-4 div.sk-parallel-item:last-child::after {align-self: flex-start;width: 50%;}#sk-container-id-4 div.sk-parallel-item:only-child::after {width: 0;}#sk-container-id-4 div.sk-dashed-wrapped {border: 1px dashed gray;margin: 0 0.4em 0.5em 0.4em;box-sizing: border-box;padding-bottom: 0.4em;background-color: white;}#sk-container-id-4 div.sk-label label {font-family: monospace;font-weight: bold;display: inline-block;line-height: 1.2em;}#sk-container-id-4 div.sk-label-container {text-align: center;}#sk-container-id-4 div.sk-container {/* jupyter's `normalize.less` sets `[hidden] { display: none; }` but bootstrap.min.css set `[hidden] { display: none !important; }` so we also need the `!important` here to be able to override the default hidden behavior on the sphinx rendered scikit-learn.org. See: https://github.com/scikit-learn/scikit-learn/issues/21755 */display: inline-block !important;position: relative;}#sk-container-id-4 div.sk-text-repr-fallback {display: none;}</style><div id=\"sk-container-id-4\" class=\"sk-top-container\"><div class=\"sk-text-repr-fallback\"><pre>LGBMClassifier()</pre><b>In a Jupyter environment, please rerun this cell to show the HTML representation or trust the notebook. <br />On GitHub, the HTML representation is unable to render, please try loading this page with nbviewer.org.</b></div><div class=\"sk-container\" hidden><div class=\"sk-item\"><div class=\"sk-estimator sk-toggleable\"><input class=\"sk-toggleable__control sk-hidden--visually\" id=\"sk-estimator-id-4\" type=\"checkbox\" checked><label for=\"sk-estimator-id-4\" class=\"sk-toggleable__label sk-toggleable__label-arrow\">LGBMClassifier</label><div class=\"sk-toggleable__content\"><pre>LGBMClassifier()</pre></div></div></div></div></div>"
      ],
      "text/plain": [
       "LGBMClassifier()"
      ]
     },
     "execution_count": 17,
     "metadata": {},
     "output_type": "execute_result"
    }
   ],
   "source": [
    "# 训练模型\n",
    "gbm.fit(X_train_OE, y_train)"
   ]
  },
  {
   "cell_type": "markdown",
   "id": "4b75362c-7c54-4acd-b855-391fb08bcc95",
   "metadata": {},
   "source": [
    "然后输出预测结果，同样可以输出类别结果和概率预测结果："
   ]
  },
  {
   "cell_type": "code",
   "execution_count": 19,
   "id": "efa0d752-577d-41ab-a9cc-bb44134908a9",
   "metadata": {},
   "outputs": [
    {
     "data": {
      "text/plain": [
       "array([0, 0, 0, ..., 0, 1, 0], dtype=int64)"
      ]
     },
     "execution_count": 19,
     "metadata": {},
     "output_type": "execute_result"
    }
   ],
   "source": [
    "gbm.predict(X_test_OE)"
   ]
  },
  {
   "cell_type": "code",
   "execution_count": 27,
   "id": "38f54a24-4775-4cdb-85db-6eed4b3129ce",
   "metadata": {},
   "outputs": [
    {
     "data": {
      "text/plain": [
       "0.8905717531238168"
      ]
     },
     "execution_count": 27,
     "metadata": {},
     "output_type": "execute_result"
    }
   ],
   "source": [
    "gbm.score(X_train_OE, y_train)"
   ]
  },
  {
   "cell_type": "code",
   "execution_count": 28,
   "id": "2989fb1f-3de5-411f-acf5-1f618a624b59",
   "metadata": {},
   "outputs": [
    {
     "data": {
      "text/plain": [
       "0.787052810902896"
      ]
     },
     "execution_count": 28,
     "metadata": {},
     "output_type": "execute_result"
    }
   ],
   "source": [
    "gbm.score(X_test_OE, y_test)"
   ]
  },
  {
   "cell_type": "markdown",
   "id": "9ff29efb-888d-4887-8ad0-375bc99dc1f0",
   "metadata": {},
   "source": [
    "|准确率|训练集|测试集|\n",
    "|:--:|:--:|:--:|\n",
    "|LGBM原始模型|0.8905|0.7870|"
   ]
  },
  {
   "cell_type": "markdown",
   "id": "0565fcee-1390-4e63-96cf-945b131f23f9",
   "metadata": {},
   "source": [
    "- 确定优化参数"
   ]
  },
  {
   "cell_type": "markdown",
   "id": "591213df-ff01-4b50-b338-ab752121d456",
   "metadata": {},
   "source": [
    "|Name|Description|      \n",
    "|:--:|:--:| \n",
    "|num_leaves|一棵树上的叶子节点数，默认为 31| \n",
    "|max_depth|树的最大深度，默认值为 -1，表示无限制|\n",
    "|min_split_gain|相当于min_impurity_decrease，再分裂所需最小增益。默认值为 0，表示无限制|\n",
    "|min_child_weight|子节点的最小权重和。默认值为 1e-3。较大的 min_child_weight 可以防止过拟合| \n",
    "|min_child_samples|相当于min_samples_leaf，单个叶子节点上的最小样本数量。默认值为 20。较大的 min_child_samples 可以防止过拟合| \n",
    "|boosting_type| 使用的梯度提升算法类型，默认为GBDT|\n",
    "|subsample_for_bin|该参数表示对连续变量进行分箱时（直方图优化过程）抽取样本的个数，默认取值为200000|\n",
    "|learning_rate|学习率，即每次迭代中梯度提升的步长，默认值为 0.1| \n",
    "|n_estimators|迭代次数，即生成的基学习器的数量，默认值为 100|\n",
    "|reg_alpha| L1 正则化系数，默认值为 0|\n",
    "|reg_lambda| L2 正则化系数。默认值为 0|\n",
    "|subsample|模型训练时抽取的样本数量，取值范围为 (0, 1]，表示抽样比例，默认为1.0| \n",
    "|subsample_freq|抽样频率，表示每隔几轮进行一次抽样，默认取值为0，表示不进行随机抽样|\n",
    "|colsample_bytree|在每次迭代（树的构建）时，随机选择特征的比例，取值范围为 (0, 1]，默认为1.0|"
   ]
  },
  {
   "cell_type": "markdown",
   "id": "46a3fc4b-bdfb-46d0-aab4-fba18df9bcef",
   "metadata": {},
   "source": [
    "设计参数空间时面临的“舍罕王赏麦”问题："
   ]
  },
  {
   "cell_type": "markdown",
   "id": "6e6502c5-a0a8-4832-b74f-b861116cff43",
   "metadata": {},
   "source": [
    "<font face=\"仿宋\">“传说国际象棋的发明者是古印度的西萨·班·达依尔。那时的国王是舍罕，世人称为舍罕王。国王想奖励他便问宰相需要得到什么赏赐。宰相开口说道：“请您在棋盘的第一个格子上放1粒麦子，第二个格子上放2粒，第三个格子上放4粒，第四个格子放8粒...即每一个次序在后的格子上放的麦粒必须是前一个格子麦粒数的倍数，直到最后一个格子即第64格放满为止，这样我就十分满足了。”国王哈哈大笑，慷慨地答应了宰相的这个谦卑的请求。这位聪明的宰相到底要求的是多少麦粒呢？”      --《舍罕王赏麦》"
   ]
  },
  {
   "cell_type": "markdown",
   "id": "3b694a9b-043c-4c05-bedb-c0f4fd414ac0",
   "metadata": {},
   "source": [
    "|params|经验最优范围|\n",
    "|:--:|:--:|\n",
    "|num_leaves|range(20, 51, 2)|\n",
    "|max_depth|range(5, 15, 2))| \n",
    "|learning_rate|np.linspace(0.01, 0.2, 5)|\n",
    "|n_estimators|range(10, 160, 70)|\n",
    "|boosting_type|['gbdt', 'goss']|\n",
    "|colsample_bytree|[0.6, 0.8, 1.0]|\n",
    "|reg_alpha|np.linspace(0.01, 0.1, 2)|\n",
    "|reg_lambda|np.linspace(0.01, 0.1, 2)|"
   ]
  },
  {
   "cell_type": "markdown",
   "id": "3c1b90d7-91be-407d-a304-a959843266ab",
   "metadata": {},
   "source": [
    "&emsp;&emsp;在确定了要调优哪些参数后，接下来就需要确定每个参数的搜索空间了，这一步也是直接关系到参数搜索效率的关键步骤。首先我们需要对参数搜索需要耗费的时间有基本的判断，才好进行进一步搜索策略的制定，否则极容易出现“仿佛永远等不到搜索停止”的情况出现。"
   ]
  },
  {
   "cell_type": "markdown",
   "id": "2b8143fb-0ff1-4abe-a4fb-5432b23b3d52",
   "metadata": {},
   "source": [
    "> <font face=\"仿宋\">舍罕王赏麦后续：国王哪有这么多麦子呢？他的一句慷慨之言，成了他欠宰相西萨·班·达依尔的一笔永远也无法还清的债。正当国王一筹莫展之际，王太子的数学老师知道了这件事，他笑着对国王说：“陛下，这个问题很简单啊，就像1+1=2一样容易，您怎么会被它难倒？”国王大怒：“难道你要我把全世界所有的小麦都给他？”年轻的教师说：“没有必要啊，陛下，其实，您只要让宰相大人到粮仓去，自己数出那些麦子就可以了，假如宰相大人一秒钟数一粒，数完所有的麦子所需要的时间，大约是5800亿年，就算宰相大人日夜不停地数，数到他魂归极乐，也只是数出那些麦粒中极小的一部分，这样的话，就不是陛下无法支付赏赐，而是宰相大人自己没有能力取走赏赐。”国王恍然大悟，当下就召来宰相，将教师的方法告诉了他。西萨·班·达依尔沉思片刻后笑道：“陛下啊，您的智慧超过了我，那些赏赐，我也只好不要了！”"
   ]
  },
  {
   "cell_type": "markdown",
   "id": "7ce22b90-a4a3-41a5-8489-ea7912366f16",
   "metadata": {},
   "source": [
    "### 二、基于贝叶斯优化器的超参数优化"
   ]
  },
  {
   "cell_type": "markdown",
   "id": "a661d7ff-9052-4553-bb91-f043def16eb8",
   "metadata": {},
   "source": [
    "#### 1.HyperOPT搜索基本流程"
   ]
  },
  {
   "cell_type": "code",
   "execution_count": 175,
   "id": "1f1a427a-7e2f-477b-a3c0-0987f086e81a",
   "metadata": {},
   "outputs": [],
   "source": [
    "import hyperopt\n",
    "from hyperopt import hp, fmin, tpe, Trials, partial\n",
    "from hyperopt.early_stop import no_progress_loss"
   ]
  },
  {
   "cell_type": "code",
   "execution_count": 176,
   "id": "0526a008-a866-4733-89cc-4794781c8972",
   "metadata": {},
   "outputs": [
    {
     "name": "stdout",
     "output_type": "stream",
     "text": [
      "0.2.7\n"
     ]
    }
   ],
   "source": [
    "print(hyperopt.__version__)"
   ]
  },
  {
   "cell_type": "markdown",
   "id": "76c14c32-3b28-4668-b13b-ce7f42a01ba1",
   "metadata": {},
   "source": [
    "- 定义超参数搜索空间"
   ]
  },
  {
   "cell_type": "markdown",
   "id": "b9db4cb2-ef3f-409f-8a02-083e5964c7eb",
   "metadata": {},
   "source": [
    "在任意超参数优化器中，优化器会将参数空格中的超参数组合作为备选组合，一组一组输入到算法中进行训练。在贝叶斯优化中，超参数组合会被输入我们定义好的目标函数$f(x)$中。\n",
    "\n",
    "在hyperopt中，我们使用特殊的字典形式来定义参数空间，其中键值对上的键可以任意设置，只要与目标函数中索引参数的键一致即可，键值对的值则是hyperopt独有的hp函数，包括了：\n",
    "\n",
    "> **hp.quniform(\"参数名称\", 下界, 上界, 步长)** - 适用于均匀分布的浮点数<br><br>\n",
    "> **hp.uniform(\"参数名称\",下界, 上界)** - 适用于随机分布的浮点数<br><br>\n",
    "> **hp.randint(\"参数名称\",上界)** - 适用于[0,上界)的整数，区间为前闭后开<br><br>\n",
    "> **hp.choice(\"参数名称\",[\"字符串1\",\"字符串2\",...])** - 适用于字符串类型，最优参数由索引表示<br><br>\n",
    "> **hp.choice(\"参数名称\",[\\*range(下界，上界，步长)])** - 适用于整数型，最优参数由索引表示<br><br>\n",
    "> **hp.choice(\"参数名称\",[整数1,整数2,整数3,...])** - 适用于整数型，最优参数由索引表示<br><br>\n",
    "> **hp.choice(\"参数名称\",[\"字符串1\",整数1,...])** - 适用于字符与整数混合，最优参数由索引表示\n",
    "\n",
    "在hyperopt的说明当中，并未明确参数取值范围空间的开闭，根据实验，如无特殊说明，hp中的参数空间定义方法应当都为前闭后开区间。我们依然使用在随机森林上获得最高分的随机搜索的参数空间："
   ]
  },
  {
   "cell_type": "code",
   "execution_count": 101,
   "id": "b68af680-dc4e-40f2-a784-ddeb9d64a9da",
   "metadata": {},
   "outputs": [],
   "source": [
    "LGBM_params_space = {'max_depth': hp.choice('max_depth', np.arange(10, 50).tolist()), \n",
    "                     'num_leaves': hp.choice('num_leaves', np.arange(10, 50).tolist()), \n",
    "                     'n_estimators': hp.choice('n_estimators', np.arange(10, 100).tolist()), \n",
    "                     'boosting_type': hp.choice('boosting_type', ['gbdt', 'goss']), \n",
    "                     'colsample_bytree': hp.uniform('colsample_bytree', 0.2, 1.0), \n",
    "                     'learning_rate': hp.uniform('learning_rate', 0.01, 0.1), \n",
    "                     'reg_alpha':  hp.uniform('reg_alpha', 0.01, 0.5), \n",
    "                     'reg_lambda':  hp.uniform('reg_lambda', 0.01, 0.5)}"
   ]
  },
  {
   "cell_type": "markdown",
   "id": "94cfe05f-1e0f-4a18-8835-96448b61037a",
   "metadata": {},
   "source": [
    "- 定义目标函数"
   ]
  },
  {
   "cell_type": "markdown",
   "id": "9b4b08b5-ff3d-4f0b-84df-27a19d528287",
   "metadata": {},
   "source": [
    "在定义目标函数$f(x)$时，我们需要严格遵守需要使用的当下优化库的基本规则。与Bayes_opt一样，Hyperopt也有一些特定的规则会限制我们的定义方式，主要包括：\n",
    "\n",
    "> 1 **目标函数的输入必须是符合hyperopt规定的字典**，不能是类似于sklearn的参数空间字典、不能是参数本身，更不能是数据、算法等超参数以外的元素。因此在自定义目标函数时，我们需要让超参数空间字典作为目标函数的输入。<br><br>\n",
    "> 2 **Hyperopt只支持寻找$f(x)$的最小值，不支持寻找最大值**，因此当我们定义的目标函数是某种正面的评估指标时（如准确率，auc），我们需要对该评估指标取负。如果我们定义的目标函数是负损失，也需要对负损失取绝对值。当且仅当我们定义的目标函数是普通损失时，我们才不需要改变输出。"
   ]
  },
  {
   "cell_type": "code",
   "execution_count": 178,
   "id": "faf285bf-2cbd-43cd-823c-0c3ca663a639",
   "metadata": {},
   "outputs": [],
   "source": [
    "def hyperopt_lgbm(params, train=True):\n",
    "    # 读取参数\n",
    "    max_depth = params['max_depth']\n",
    "    num_leaves = params['num_leaves']\n",
    "    n_estimators = params['n_estimators']\n",
    "    boosting_type = params['boosting_type']\n",
    "    colsample_bytree = params['colsample_bytree']\n",
    "    learning_rate = params['learning_rate']\n",
    "    reg_alpha = params['reg_alpha']        \n",
    "    reg_lambda = params['reg_lambda']        \n",
    "        \n",
    "    # 实例化模型\n",
    "    lgbm = LGBMClassifier(random_state = 12, \n",
    "                          max_depth = max_depth, \n",
    "                          num_leaves = num_leaves, \n",
    "                          n_estimators = n_estimators, \n",
    "                          boosting_type = boosting_type, \n",
    "                          colsample_bytree = colsample_bytree, \n",
    "                          learning_rate = learning_rate, \n",
    "                          reg_alpha = reg_alpha, \n",
    "                          reg_lambda = reg_lambda)\n",
    "    \n",
    "    # 输出交叉验证的结果\n",
    "    res = -cross_val_score(lgbm, X_train_OE, y_train).mean()\n",
    "\n",
    "    return res"
   ]
  },
  {
   "cell_type": "markdown",
   "id": "592ad2f7-a808-4d3f-8344-4992f8248bc2",
   "metadata": {},
   "source": [
    "- 定义优化函数"
   ]
  },
  {
   "cell_type": "code",
   "execution_count": 179,
   "id": "083c6d61-aaa7-4440-b19c-76065f84a884",
   "metadata": {},
   "outputs": [],
   "source": [
    "def param_hyperopt_lgbm(max_evals):\n",
    "    params_best = fmin(fn = hyperopt_lgbm,\n",
    "                       space = LGBM_params_space,\n",
    "                       algo = tpe.suggest,\n",
    "                       max_evals = max_evals)    \n",
    "    \n",
    "    return params_best"
   ]
  },
  {
   "cell_type": "markdown",
   "id": "316585e7-7999-421f-b948-6c0ba717df70",
   "metadata": {},
   "source": [
    "&emsp;&emsp;接下来，测试优化能否顺利运行："
   ]
  },
  {
   "cell_type": "code",
   "execution_count": 180,
   "id": "e3a52ab0-362a-45e2-971b-9f395497a38e",
   "metadata": {},
   "outputs": [
    {
     "name": "stdout",
     "output_type": "stream",
     "text": [
      "100%|██████████| 100/100 [00:25<00:00,  3.93trial/s, best loss: -0.8080265760729336]\n"
     ]
    }
   ],
   "source": [
    "lgbm_params_best = param_hyperopt_lgbm(100)"
   ]
  },
  {
   "cell_type": "markdown",
   "id": "9f97db22-8643-468a-9ab1-e78a8cef6e9b",
   "metadata": {},
   "source": [
    "输出最优超参数取值："
   ]
  },
  {
   "cell_type": "code",
   "execution_count": 181,
   "id": "b99282b1-3406-4ff0-aa3a-4a78b0abd2d4",
   "metadata": {},
   "outputs": [
    {
     "data": {
      "text/plain": [
       "{'boosting_type': 1,\n",
       " 'colsample_bytree': 0.3186487096763566,\n",
       " 'learning_rate': 0.04957639366091329,\n",
       " 'max_depth': 15,\n",
       " 'n_estimators': 72,\n",
       " 'num_leaves': 0,\n",
       " 'reg_alpha': 0.04712785043759807,\n",
       " 'reg_lambda': 0.21992628721582047}"
      ]
     },
     "execution_count": 181,
     "metadata": {},
     "output_type": "execute_result"
    }
   ],
   "source": [
    "lgbm_params_best"
   ]
  },
  {
   "cell_type": "markdown",
   "id": "8c6b9db3-c9a9-4e35-9b71-036d7395c03c",
   "metadata": {},
   "source": [
    "这里需要注意，对于离散变量，搜索结果实际上是索引值，而非真实值。"
   ]
  },
  {
   "cell_type": "code",
   "execution_count": 182,
   "id": "22563abd-9037-421c-8ff8-bcb0b1972c26",
   "metadata": {},
   "outputs": [
    {
     "data": {
      "text/plain": [
       "25"
      ]
     },
     "execution_count": 182,
     "metadata": {},
     "output_type": "execute_result"
    }
   ],
   "source": [
    "np.arange(10, 50).tolist()[15]"
   ]
  },
  {
   "cell_type": "markdown",
   "id": "36cad3f5-2d39-4348-8dae-2701f03bf9f7",
   "metadata": {},
   "source": [
    "- 带入原模型进行测试："
   ]
  },
  {
   "cell_type": "code",
   "execution_count": 184,
   "id": "91d02cbc-769d-4768-9d9c-3f295310ea24",
   "metadata": {},
   "outputs": [],
   "source": [
    "lgbm = LGBMClassifier(random_state = 12, \n",
    "                      max_depth =  np.arange(10, 50).tolist()[15], \n",
    "                      num_leaves = np.arange(10, 50).tolist()[0], \n",
    "                      n_estimators = np.arange(10, 100).tolist()[72], \n",
    "                      boosting_type = ['gbdt', 'goss'][1], \n",
    "                      colsample_bytree = 0.3186487096763566, \n",
    "                      learning_rate = 0.04957639366091329, \n",
    "                      reg_alpha = 0.04712785043759807, \n",
    "                      reg_lambda = 0.21992628721582047).fit(X_train_OE, y_train)"
   ]
  },
  {
   "cell_type": "code",
   "execution_count": 186,
   "id": "e75e26b5-7980-4dfa-aa42-58560290c540",
   "metadata": {},
   "outputs": [
    {
     "data": {
      "text/plain": [
       "(0.8197652404392276, 0.7864849517319704)"
      ]
     },
     "execution_count": 186,
     "metadata": {},
     "output_type": "execute_result"
    }
   ],
   "source": [
    "lgbm.score(X_train_OE, y_train), lgbm.score(X_test_OE, y_test)"
   ]
  },
  {
   "cell_type": "markdown",
   "id": "c9670ad4-03d7-47b7-ac96-10696edf0f32",
   "metadata": {},
   "source": [
    "|准确率|训练集|测试集|\n",
    "|:--:|:--:|:--:|\n",
    "|LGBM原始模型|0.8905|0.7870|\n",
    "|LGBM+TPE+100|0.8197|0.7864|"
   ]
  },
  {
   "cell_type": "markdown",
   "id": "959de82f-70f1-474b-a96c-8aa6efd1c5b4",
   "metadata": {},
   "source": [
    "- 修改目标函数"
   ]
  },
  {
   "cell_type": "markdown",
   "id": "15029e17-1469-4863-9c6c-b872e8ee02a6",
   "metadata": {},
   "source": [
    "&emsp;&emsp;在定义目标函数的时候，可以考虑区分目标函数的训练状态和测试状态，训练状态（train=True）是默认状态，作为超参数搜索时的目标函数时使用，而train=Fasle时则为测试状态，此时函数用于带入搜索出来的超参数，来直接输出最终的最优模型："
   ]
  },
  {
   "cell_type": "code",
   "execution_count": 187,
   "id": "369dbe3c-0521-4ae1-b647-67997f7fb373",
   "metadata": {},
   "outputs": [],
   "source": [
    "def hyperopt_lgbm(params, train=True):\n",
    "    # 读取参数\n",
    "    if train == True:\n",
    "        max_depth = params['max_depth']\n",
    "        num_leaves = params['num_leaves']\n",
    "        n_estimators = params['n_estimators']\n",
    "        boosting_type = params['boosting_type']\n",
    "        colsample_bytree = params['colsample_bytree']\n",
    "        learning_rate = params['learning_rate']\n",
    "        reg_alpha = params['reg_alpha']        \n",
    "        reg_lambda = params['reg_lambda']        \n",
    "    else: \n",
    "        max_depth = params['max_depth'] + 10\n",
    "        num_leaves = params['num_leaves'] + 10\n",
    "        n_estimators = params['n_estimators'] + 10\n",
    "        boosting_type = ['gbdt', 'goss'][params['boosting_type']]\n",
    "        colsample_bytree = params['colsample_bytree']\n",
    "        learning_rate = params['learning_rate']\n",
    "        reg_alpha = params['reg_alpha']        \n",
    "        reg_lambda = params['reg_lambda']  \n",
    "        \n",
    "    # 实例化模型\n",
    "    lgbm = LGBMClassifier(random_state = 12, \n",
    "                          max_depth = max_depth, \n",
    "                          num_leaves = num_leaves, \n",
    "                          n_estimators = n_estimators, \n",
    "                          boosting_type = boosting_type, \n",
    "                          colsample_bytree = colsample_bytree, \n",
    "                          learning_rate = learning_rate, \n",
    "                          reg_alpha = reg_alpha, \n",
    "                          reg_lambda = reg_lambda)\n",
    "    \n",
    "    if train == True:\n",
    "        res = -cross_val_score(lgbm, X_train_OE, y_train).mean()\n",
    "    else:\n",
    "        res = lgbm.fit(X_train_OE, y_train)\n",
    "    \n",
    "    return res"
   ]
  },
  {
   "cell_type": "code",
   "execution_count": 194,
   "id": "4ea73645-9221-491c-a4f0-0b51b636cd18",
   "metadata": {
    "tags": []
   },
   "outputs": [
    {
     "name": "stdout",
     "output_type": "stream",
     "text": [
      "100%|██████████| 200/200 [00:47<00:00,  4.21trial/s, best loss: -0.808973008227975]\n"
     ]
    }
   ],
   "source": [
    "lgbm_params_best = param_hyperopt_lgbm(200)"
   ]
  },
  {
   "cell_type": "code",
   "execution_count": 189,
   "id": "6e0f20e5-7a51-4454-a70b-d899099606b9",
   "metadata": {},
   "outputs": [
    {
     "data": {
      "text/plain": [
       "{'boosting_type': 0,\n",
       " 'colsample_bytree': 0.29577293974693375,\n",
       " 'learning_rate': 0.04258186453274881,\n",
       " 'max_depth': 10,\n",
       " 'n_estimators': 85,\n",
       " 'num_leaves': 12,\n",
       " 'reg_alpha': 0.4386540194976595,\n",
       " 'reg_lambda': 0.2892074502756318}"
      ]
     },
     "execution_count": 189,
     "metadata": {},
     "output_type": "execute_result"
    }
   ],
   "source": [
    "lgbm_params_best"
   ]
  },
  {
   "cell_type": "code",
   "execution_count": 190,
   "id": "eaab7a3c-49e3-41ff-a372-e15b6f85a7ba",
   "metadata": {},
   "outputs": [
    {
     "data": {
      "text/html": [
       "<style>#sk-container-id-11 {color: black;background-color: white;}#sk-container-id-11 pre{padding: 0;}#sk-container-id-11 div.sk-toggleable {background-color: white;}#sk-container-id-11 label.sk-toggleable__label {cursor: pointer;display: block;width: 100%;margin-bottom: 0;padding: 0.3em;box-sizing: border-box;text-align: center;}#sk-container-id-11 label.sk-toggleable__label-arrow:before {content: \"▸\";float: left;margin-right: 0.25em;color: #696969;}#sk-container-id-11 label.sk-toggleable__label-arrow:hover:before {color: black;}#sk-container-id-11 div.sk-estimator:hover label.sk-toggleable__label-arrow:before {color: black;}#sk-container-id-11 div.sk-toggleable__content {max-height: 0;max-width: 0;overflow: hidden;text-align: left;background-color: #f0f8ff;}#sk-container-id-11 div.sk-toggleable__content pre {margin: 0.2em;color: black;border-radius: 0.25em;background-color: #f0f8ff;}#sk-container-id-11 input.sk-toggleable__control:checked~div.sk-toggleable__content {max-height: 200px;max-width: 100%;overflow: auto;}#sk-container-id-11 input.sk-toggleable__control:checked~label.sk-toggleable__label-arrow:before {content: \"▾\";}#sk-container-id-11 div.sk-estimator input.sk-toggleable__control:checked~label.sk-toggleable__label {background-color: #d4ebff;}#sk-container-id-11 div.sk-label input.sk-toggleable__control:checked~label.sk-toggleable__label {background-color: #d4ebff;}#sk-container-id-11 input.sk-hidden--visually {border: 0;clip: rect(1px 1px 1px 1px);clip: rect(1px, 1px, 1px, 1px);height: 1px;margin: -1px;overflow: hidden;padding: 0;position: absolute;width: 1px;}#sk-container-id-11 div.sk-estimator {font-family: monospace;background-color: #f0f8ff;border: 1px dotted black;border-radius: 0.25em;box-sizing: border-box;margin-bottom: 0.5em;}#sk-container-id-11 div.sk-estimator:hover {background-color: #d4ebff;}#sk-container-id-11 div.sk-parallel-item::after {content: \"\";width: 100%;border-bottom: 1px solid gray;flex-grow: 1;}#sk-container-id-11 div.sk-label:hover label.sk-toggleable__label {background-color: #d4ebff;}#sk-container-id-11 div.sk-serial::before {content: \"\";position: absolute;border-left: 1px solid gray;box-sizing: border-box;top: 0;bottom: 0;left: 50%;z-index: 0;}#sk-container-id-11 div.sk-serial {display: flex;flex-direction: column;align-items: center;background-color: white;padding-right: 0.2em;padding-left: 0.2em;position: relative;}#sk-container-id-11 div.sk-item {position: relative;z-index: 1;}#sk-container-id-11 div.sk-parallel {display: flex;align-items: stretch;justify-content: center;background-color: white;position: relative;}#sk-container-id-11 div.sk-item::before, #sk-container-id-11 div.sk-parallel-item::before {content: \"\";position: absolute;border-left: 1px solid gray;box-sizing: border-box;top: 0;bottom: 0;left: 50%;z-index: -1;}#sk-container-id-11 div.sk-parallel-item {display: flex;flex-direction: column;z-index: 1;position: relative;background-color: white;}#sk-container-id-11 div.sk-parallel-item:first-child::after {align-self: flex-end;width: 50%;}#sk-container-id-11 div.sk-parallel-item:last-child::after {align-self: flex-start;width: 50%;}#sk-container-id-11 div.sk-parallel-item:only-child::after {width: 0;}#sk-container-id-11 div.sk-dashed-wrapped {border: 1px dashed gray;margin: 0 0.4em 0.5em 0.4em;box-sizing: border-box;padding-bottom: 0.4em;background-color: white;}#sk-container-id-11 div.sk-label label {font-family: monospace;font-weight: bold;display: inline-block;line-height: 1.2em;}#sk-container-id-11 div.sk-label-container {text-align: center;}#sk-container-id-11 div.sk-container {/* jupyter's `normalize.less` sets `[hidden] { display: none; }` but bootstrap.min.css set `[hidden] { display: none !important; }` so we also need the `!important` here to be able to override the default hidden behavior on the sphinx rendered scikit-learn.org. See: https://github.com/scikit-learn/scikit-learn/issues/21755 */display: inline-block !important;position: relative;}#sk-container-id-11 div.sk-text-repr-fallback {display: none;}</style><div id=\"sk-container-id-11\" class=\"sk-top-container\"><div class=\"sk-text-repr-fallback\"><pre>LGBMClassifier(colsample_bytree=0.29577293974693375,\n",
       "               learning_rate=0.04258186453274881, max_depth=20, n_estimators=95,\n",
       "               num_leaves=22, random_state=12, reg_alpha=0.4386540194976595,\n",
       "               reg_lambda=0.2892074502756318)</pre><b>In a Jupyter environment, please rerun this cell to show the HTML representation or trust the notebook. <br />On GitHub, the HTML representation is unable to render, please try loading this page with nbviewer.org.</b></div><div class=\"sk-container\" hidden><div class=\"sk-item\"><div class=\"sk-estimator sk-toggleable\"><input class=\"sk-toggleable__control sk-hidden--visually\" id=\"sk-estimator-id-13\" type=\"checkbox\" checked><label for=\"sk-estimator-id-13\" class=\"sk-toggleable__label sk-toggleable__label-arrow\">LGBMClassifier</label><div class=\"sk-toggleable__content\"><pre>LGBMClassifier(colsample_bytree=0.29577293974693375,\n",
       "               learning_rate=0.04258186453274881, max_depth=20, n_estimators=95,\n",
       "               num_leaves=22, random_state=12, reg_alpha=0.4386540194976595,\n",
       "               reg_lambda=0.2892074502756318)</pre></div></div></div></div></div>"
      ],
      "text/plain": [
       "LGBMClassifier(colsample_bytree=0.29577293974693375,\n",
       "               learning_rate=0.04258186453274881, max_depth=20, n_estimators=95,\n",
       "               num_leaves=22, random_state=12, reg_alpha=0.4386540194976595,\n",
       "               reg_lambda=0.2892074502756318)"
      ]
     },
     "execution_count": 190,
     "metadata": {},
     "output_type": "execute_result"
    }
   ],
   "source": [
    "hyperopt_lgbm(lgbm_params_best, train=False)"
   ]
  },
  {
   "cell_type": "code",
   "execution_count": 191,
   "id": "72133fcb-0c54-4c91-bd5f-724fcc6a1d44",
   "metadata": {},
   "outputs": [],
   "source": [
    "clf = hyperopt_lgbm(lgbm_params_best, train=False)"
   ]
  },
  {
   "cell_type": "markdown",
   "id": "4ffa150e-b4be-41c9-86c2-632acaee6797",
   "metadata": {},
   "source": [
    "然后即可进一步测试模型在测试集上的评分："
   ]
  },
  {
   "cell_type": "code",
   "execution_count": 108,
   "id": "8eeb5a5b-827c-4a04-b821-d9459b7eda03",
   "metadata": {},
   "outputs": [
    {
     "data": {
      "text/plain": [
       "0.787052810902896"
      ]
     },
     "execution_count": 108,
     "metadata": {},
     "output_type": "execute_result"
    }
   ],
   "source": [
    "clf.score(X_test_OE, y_test)"
   ]
  },
  {
   "cell_type": "markdown",
   "id": "c52dadfe-4bab-4496-98c9-e78aa1c89d5f",
   "metadata": {},
   "source": [
    "|准确率|训练集|测试集|\n",
    "|:--:|:--:|:--:|\n",
    "|LGBM原始模型|0.8905|0.7870|\n",
    "|LGBM+TPE+100|0.8197|0.7864|\n",
    "|LGBM+TPE+200|0.8089|0.7870|"
   ]
  },
  {
   "cell_type": "markdown",
   "id": "6e9c1dc9-43d4-43fa-abe2-d902440dafbf",
   "metadata": {},
   "source": [
    "- 测试更多次数迭代"
   ]
  },
  {
   "cell_type": "code",
   "execution_count": 104,
   "id": "9c35e127-5cbc-4bc6-b380-a07bcf09ea4f",
   "metadata": {
    "tags": []
   },
   "outputs": [
    {
     "name": "stdout",
     "output_type": "stream",
     "text": [
      "100%|██████████| 1000/1000 [03:53<00:00,  4.29trial/s, best loss: -0.8099192612023737]\n"
     ]
    }
   ],
   "source": [
    "lgbm_params_best = param_hyperopt_lgbm(1000)"
   ]
  },
  {
   "cell_type": "code",
   "execution_count": 105,
   "id": "9f524dd0-98fd-49bd-9ad0-067db4999885",
   "metadata": {},
   "outputs": [
    {
     "data": {
      "text/plain": [
       "{'boosting_type': 0,\n",
       " 'colsample_bytree': 0.3741457013961825,\n",
       " 'learning_rate': 0.06080748558085761,\n",
       " 'max_depth': 38,\n",
       " 'n_estimators': 48,\n",
       " 'num_leaves': 25,\n",
       " 'reg_alpha': 0.38791290362482383,\n",
       " 'reg_lambda': 0.3030807382983911}"
      ]
     },
     "execution_count": 105,
     "metadata": {},
     "output_type": "execute_result"
    }
   ],
   "source": [
    "lgbm_params_best"
   ]
  },
  {
   "cell_type": "code",
   "execution_count": 107,
   "id": "0acc19cf-beb4-45a2-8384-d4a616fa21b1",
   "metadata": {},
   "outputs": [],
   "source": [
    "clf = hyperopt_lgbm(lgbm_params_best, train=False)"
   ]
  },
  {
   "cell_type": "code",
   "execution_count": 199,
   "id": "77131abc-482b-4092-bbd7-ce308b58e4eb",
   "metadata": {},
   "outputs": [
    {
     "data": {
      "text/plain": [
       "(0.8014498296099963, 0.7890278250993753)"
      ]
     },
     "execution_count": 199,
     "metadata": {},
     "output_type": "execute_result"
    }
   ],
   "source": [
    "clf.score(X_train_OE, y_train), clf.score(X_test_OE, y_test)"
   ]
  },
  {
   "cell_type": "markdown",
   "id": "dd612b17-51f3-444f-a8f6-c9fdaeee2b84",
   "metadata": {},
   "source": [
    "|准确率|训练集|测试集|\n",
    "|:--:|:--:|:--:|\n",
    "|LGBM原始模型|0.8905|0.7870|\n",
    "|LGBM+TPE+100|0.8197|0.7864|\n",
    "|LGBM+TPE+200|0.8089|0.7870|\n",
    "|LGBM+TPE+1000|0.80144|0.7890|"
   ]
  },
  {
   "cell_type": "code",
   "execution_count": 90,
   "id": "cf3e56af-3196-4d2a-b3bb-5f823ced2535",
   "metadata": {
    "tags": []
   },
   "outputs": [
    {
     "name": "stdout",
     "output_type": "stream",
     "text": [
      "100%|██████████| 2000/2000 [08:31<00:00,  3.91trial/s, best loss: -0.8091638356125112]\n"
     ]
    }
   ],
   "source": [
    "lgbm_params_best = param_hyperopt_lgbm(2000)"
   ]
  },
  {
   "cell_type": "code",
   "execution_count": 91,
   "id": "027fdbdb-a072-4d73-b07e-cc3a5c164d5b",
   "metadata": {},
   "outputs": [
    {
     "data": {
      "text/plain": [
       "{'boosting_type': 1,\n",
       " 'colsample_bytree': 0.5764835311885574,\n",
       " 'learning_rate': 0.04391606773906052,\n",
       " 'max_depth': 16,\n",
       " 'n_estimators': 14,\n",
       " 'num_leaves': 7,\n",
       " 'reg_alpha': 0.039592647085981175,\n",
       " 'reg_lambda': 0.054348026900950024}"
      ]
     },
     "execution_count": 91,
     "metadata": {},
     "output_type": "execute_result"
    }
   ],
   "source": [
    "lgbm_params_best"
   ]
  },
  {
   "cell_type": "code",
   "execution_count": 198,
   "id": "c94bd521-c0fa-40fc-a40e-c37212fc58da",
   "metadata": {},
   "outputs": [],
   "source": [
    "clf = hyperopt_lgbm(lgbm_params_best, train=False)"
   ]
  },
  {
   "cell_type": "code",
   "execution_count": 200,
   "id": "e95c9d1b-3259-44af-a2a8-43a3c75a4544",
   "metadata": {},
   "outputs": [
    {
     "data": {
      "text/plain": [
       "(0.8014498296099963, 0.7890278250993753)"
      ]
     },
     "execution_count": 200,
     "metadata": {},
     "output_type": "execute_result"
    }
   ],
   "source": [
    "clf.score(X_train_OE, y_train), clf.score(X_test_OE, y_test)"
   ]
  },
  {
   "cell_type": "markdown",
   "id": "6ef7606a-7ddb-4a18-850e-d7dcd42493d7",
   "metadata": {},
   "source": [
    "### 三、基于网格搜索的超参数优化"
   ]
  },
  {
   "cell_type": "markdown",
   "id": "6a316c8d-2de8-48ba-99cc-83094ea097d0",
   "metadata": {},
   "source": [
    "#### 1.网格搜索注意事项"
   ]
  },
  {
   "cell_type": "markdown",
   "id": "5e23a1a3-1738-4465-8219-1cec9ac4fbef",
   "metadata": {},
   "source": [
    "&emsp;&emsp;首先需要明确的是，参数空间内总备选参数组合的数量为各参数取值之积，且随着参数空间内每个参数取值增加而呈现指数级上升，且随着参数空间内参数维度增加（增加新的超参数）呈指数级上升，且二者呈现叠加效应。例如现有参数空间如下："
   ]
  },
  {
   "cell_type": "code",
   "execution_count": 25,
   "id": "f41eeaf4-644d-4b2a-8ef7-6af12d76a77d",
   "metadata": {},
   "outputs": [],
   "source": [
    "# 参数空间有4个备选参数组合\n",
    "parameter_space0 = {\"min_samples_leaf\": range(1, 3),\n",
    "                    \"min_samples_split\": range(1, 3)\n",
    "                   }"
   ]
  },
  {
   "cell_type": "markdown",
   "id": "d5665e91-e0db-455d-8222-70633d36adbd",
   "metadata": {},
   "source": [
    "则备选的参数组合有$2*2=4$个。而此时如果调整\"min_samples_leaf\": range(1, 4)，则备选参数组合就变成了$2*3=6$个，也就是说,\"min_samples_leaf\"参数搜索范围增加1，造成的搜索次数增加了两次，而非一次。"
   ]
  },
  {
   "cell_type": "code",
   "execution_count": 26,
   "id": "a310283d-26ba-4b75-be4a-758802147f9c",
   "metadata": {},
   "outputs": [],
   "source": [
    "# 参数空间有6个备选参数组合\n",
    "parameter_space1 = {\"min_samples_leaf\": range(1, 4),\n",
    "                    \"min_samples_split\": range(1, 3)\n",
    "                   }"
   ]
  },
  {
   "cell_type": "markdown",
   "id": "239a99ff-b179-4819-a87a-f5c74dc51844",
   "metadata": {},
   "source": [
    "并且，如果我们新增一个超参数维度\"max_depth\": range(1, 4)，则目前总共的备选参数组合就达到了$2*3*3=18$个，也就是说,增加\"min_samples_split\"3个数值，造成的搜索次数增加了18-6=12次，而非3次："
   ]
  },
  {
   "cell_type": "code",
   "execution_count": 1,
   "id": "62c3a2fe-8ea7-443e-ad74-a838d8f73851",
   "metadata": {},
   "outputs": [],
   "source": [
    "# 参数空间有18个备选参数组合\n",
    "parameter_space2 = {\"min_samples_leaf\": range(1, 4),\n",
    "                    \"min_samples_split\": range(1, 3), \n",
    "                    \"max_depth\": range(1, 4)\n",
    "                   }"
   ]
  },
  {
   "cell_type": "markdown",
   "id": "d80436ff-175b-48fb-93f2-2117e66e4e28",
   "metadata": {},
   "source": [
    "&emsp;&emsp;当然，这种指数级的变化在少量数据情况下可能无法看出“真正的威力”，但如果参数稍微多些或计算过程稍微复杂些，例如假设parameter_space1搜索任务耗时5分钟，而在只增加了一个参数及3个不同取值的情况下，parameter_space2就将耗费15分钟。而如果更复杂些，不是5\\*3=15分钟，而是15\\*3=45分钟呢，甚至是1小时\\*3=3小时呢，参数空间的略微扩大就可能造成搜索时间的指数级增加。"
   ]
  },
  {
   "cell_type": "markdown",
   "id": "d32dfd93-b84a-460a-b744-62c9e751fb66",
   "metadata": {},
   "source": [
    "> 此外，在进行网格搜索时，每一次建模背后还存在5折交叉验证，也就是需要训练5次模型，而每一次建模，都伴随着几十个甚至是上百个决策树模型训练，背后的计算量可想而知。"
   ]
  },
  {
   "cell_type": "markdown",
   "id": "9edc2b5d-8d15-4102-9c2e-548dcfd3df69",
   "metadata": {},
   "source": [
    "&emsp;&emsp;介于此，在参数空间设计时就会有这样一个核心问题，那就是参数空间设置小了不确定最优参数是否在这个空间内，参数空间设置大了又不确定何时能算完。这也就是所谓的参数空间设计时面临的“舍罕王赏麦”问题。"
   ]
  },
  {
   "cell_type": "markdown",
   "id": "89564689-74aa-4a19-9aa1-12174361324c",
   "metadata": {},
   "source": [
    "#### 2.超参数搜索的“凸函数”假设"
   ]
  },
  {
   "cell_type": "markdown",
   "id": "27f58c25-5530-43b8-a8ea-de658eec0eb4",
   "metadata": {},
   "source": [
    "&emsp;&emsp;如何解决这个问题，最好的解决方案是“小步迭代、快速调整”。在介绍这种方案之前，要先介绍在超参数调优时大家都会默认的一个假设，那就是超参数的取值和模型效果往往呈现严格“凸函数”的特性，例如假设参数\"min_samples_leaf\"在取值为5时模型效果最好，那么在参数取值为1、2、3、4时，模型效果是依次递增的，而如果参数取值为6、7、8，则模型效果是依次递减的，因此如果我们设计的该参数的搜索空间是\"min_samples_leaf\": range(6, 9)，参数在6、7、8之间取值，则最优结果将会是min_samples_leaf=6，即预设的参数空间的下届，此时我们就需要进一步的移动参数空间，例如改为\"min_samples_leaf\": range(5, 8)，即让参数在5、6、7之间取值，很明显，最终输出的挑选结果将会是min_samples_leaf=5，但此时仍然是搜索空间的下届，因此我们还需要进一步移动搜索空间，即移动至\"min_samples_leaf\": range(4, 7)，即让参数在4、5、6之间取值，此时输出的最优结果将会是min_samples_leaf=5，此时就无需再移动超参数空间了，因为此时的参数空间已经包括了“凸函数”的最小值点，再往左边移动没有任何意义，这个过程如下图所示："
   ]
  },
  {
   "cell_type": "markdown",
   "id": "0e8c71d0-0740-4987-8e05-91cd35a3fad2",
   "metadata": {},
   "source": [
    "<center><img src=\"https://s2.loli.net/2022/05/01/R5gubzxKyrVeWcd.png\" alt=\"image-20220501213631356\" style=\"zoom:50%;\" />"
   ]
  },
  {
   "cell_type": "markdown",
   "id": "4717f723-0b17-4448-8d8b-b263efc1a489",
   "metadata": {},
   "source": [
    "对于单个参数来说，如果呈现出搜索空间包含了最优值点（或者最优值点不在搜索空间的边界上）时，则判断已经找到了最优超参数。"
   ]
  },
  {
   "cell_type": "markdown",
   "id": "206a4154-74db-426a-8f24-8447469bdbcc",
   "metadata": {},
   "source": [
    "> 如果超参数的取值不仅是数值，而是数值和其他类型对象混合的情况，则其他类型对象需要单独作为一个备选项参与搜索。"
   ]
  },
  {
   "cell_type": "markdown",
   "id": "853e59c3-fadd-4b89-83a4-d40409822f07",
   "metadata": {},
   "source": [
    "&emsp;&emsp;对于单个变量是如此，对于多个变量来说也是如此，若最终超参数搜索结果呈以下状态，则说明我们已经找到了一组最优超参数组："
   ]
  },
  {
   "cell_type": "markdown",
   "id": "8645fa76-826f-41c1-bfbf-9d1fbf9d8614",
   "metadata": {},
   "source": [
    "<center><img src=\"https://s2.loli.net/2022/05/01/vWeEnyfFau6soO8.png\" alt=\"image-20220501214514625\" style=\"zoom:50%;\" />"
   ]
  },
  {
   "cell_type": "markdown",
   "id": "d9c475f7-84f8-4dbb-ac94-2e7a1853f825",
   "metadata": {},
   "source": [
    "> 当然，这种“凸函数假设”其实并没有充份严谨的理论依据，更多的是人们长期实践总结出来的结论。"
   ]
  },
  {
   "cell_type": "markdown",
   "id": "f6e601ac-9776-4683-a0df-f463b901aaab",
   "metadata": {},
   "source": [
    "#### 3.小步前进，快速调整"
   ]
  },
  {
   "cell_type": "markdown",
   "id": "29f12949-3fa1-4102-a78f-973d6496b8f9",
   "metadata": {},
   "source": [
    "&emsp;&emsp;接下来我们来看如何通过“小步迭代快速调整”的方法来进行超参数的搜索。在这个策略里，我们每次需要设置一个相对较小的参数搜索空间，然后快速执行一次超参数搜索，并根据超参数搜索结果来调整参数空间，并进行更进一步的超参数搜索，如此往复，直到参数空间内包含了全部参数的最优解为止。就像此前举例的那样，我们不会给\"min_samples_leaf\"一次设置一个非常大的参数搜索范围（如[1,9]），而是每次设置一个更小的搜索范围，通过不断调整这个范围来定位最优解。"
   ]
  },
  {
   "cell_type": "markdown",
   "id": "6f5f6427-5f65-497f-98ee-4fa5c66650d6",
   "metadata": {},
   "source": [
    "&emsp;&emsp;既然要反复执行搜索任务，就必然需要一定程度控制单次搜索任务所需要的时间。当然，单次搜索的时间会和CPU、数据量、参数空间大小有关，但一般来说，对于小样本，单次搜索任务最好控制在5-30min内，而对于海量样本，最好也控制在30min-2H内，特殊情况可以适当放宽单次搜索任务的时间。"
   ]
  },
  {
   "cell_type": "markdown",
   "id": "c00b17e2-0a9f-4956-9048-3b3ba0be4f20",
   "metadata": {},
   "source": [
    "&emsp;&emsp;不过无论单次搜索任务耗时或长或短，我们都需要首先有个大概的预判，即本次搜索需要多久，方便我们确定“下次回来看结果”的时间。这里我们以Telco原始数据集为例，来简单测试单次搜索任务需要的时间。这里我们先测试最短单次搜索需要耗费的时间，由于我们需要让每个最优参数落在某个区间的中间，因此每个超参数的取值范围区间至少包含三个数值，例如\"min_samples_leaf\": range(4, 7)、该参数本次搜索至少有三个备选值，此外，如果有些参数包含非数值型参数，则需要在数值参数区间基础上再加上一个非数值型参数，例如\"max_samples\":\\[None, 0.6, 0.5, 0.4\\]。"
   ]
  },
  {
   "cell_type": "markdown",
   "id": "034ef458-9dc1-4e52-a1d4-1897e2048109",
   "metadata": {},
   "source": [
    "#### 4.首次搜索时超参数选取及取值范围的经验依据"
   ]
  },
  {
   "cell_type": "markdown",
   "id": "86b6e19f-2b28-465e-b1cb-2f8f4ed06d9c",
   "metadata": {},
   "source": [
    "|params|经验最优范围|\n",
    "|:--:|:--:|\n",
    "|num_leaves|range(20, 51, 2)|\n",
    "|max_depth|range(5, 15, 2))| \n",
    "|learning_rate|np.linspace(0.01, 0.2, 5)|\n",
    "|n_estimators|range(10, 160, 70)|\n",
    "|boosting_type|['gbdt', 'goss']|\n",
    "|colsample_bytree|[0.6, 0.8, 1.0]|\n",
    "|reg_alpha|np.linspace(0.01, 0.1, 2)|\n",
    "|reg_lambda|np.linspace(0.01, 0.1, 2)|"
   ]
  },
  {
   "cell_type": "markdown",
   "id": "776136ed-c41f-49e2-bf39-009de9b07db5",
   "metadata": {},
   "source": [
    "&emsp;&emsp;在设置了初始参数后，接下来就是一轮轮搜索与调整了，我们需要大致掌握每一次搜索任务所需要耗费的时间，然后在每次搜索任务结束时及时回到电脑前，准备设置调整参数空间并进行下一次搜索。"
   ]
  },
  {
   "cell_type": "markdown",
   "id": "edcba41d-7236-4ce0-bdd4-b46ae623c2c2",
   "metadata": {},
   "source": [
    "#### 5.分批训练策略"
   ]
  },
  {
   "cell_type": "markdown",
   "id": "d042d82e-cd0c-4b4f-9aa9-93665c71da1c",
   "metadata": {},
   "source": [
    "&emsp;&emsp;并且需要注意的是，在进行超参数搜索时，超参数彼此之间是存在交叉影响的，因此如果某次搜索只带入了部分参数进行搜索，那么如果后续增加了其他参数，则再次搜索时这些超参数的最优值也会发生变化。例如某次搜索超参数A在[1,2,3]中取值，找到了最优值A=2，现在如果继续加入超参数B，同时搜索A在[1,2,3]和B在[2,3,4]中最优取值组合，则极有可能出现A的最优取值变成了A=3，此时就要移动A的取值范围了（最优值落在了边界上），接下来如果继续加入超参数C、超参数D、超参数E等，每次加入一个都需要重新搜索一次，这个过程就会变得非常麻烦。当然，需要注意的是，如果只有A和B两个超参数，那么确实可以先搜索A、再搜索B，因为在两个超参数的情况下，二者相互影响有限，单独围绕A搜索出来的最优值2，在加入超参数B之后，A的最优值极有可能仍然在2附近变动，此时我们可以以2为中心设置搜索范围，之前搜索出来的A=2的最优值结果，在同时搜索A和B时仍然具有参考价值。但如果后续加入了C、D、E等更多的超参数，由于超参数彼此之间相互影响也会呈现指数级变动，因此极有可能后续A的取值会偏离2较远，有可能会变成10、20甚至是30，此时反观最开始搜索出来的A=2的最优值，对后续A的搜索过程就变得毫无价值了。"
   ]
  },
  {
   "cell_type": "markdown",
   "id": "345be73e-1a13-4842-8f58-edd38ec074e8",
   "metadata": {},
   "source": [
    "&emsp;&emsp;因此，受此启发，一般来说如果超参数个数较多，则可以分两批、甚至是分三批进行搜索，例如有A、B、C、D、E五个超参数时，可以先搜索A、B、C，在搜索出一组最优值后，再以此为中心创建搜索空间并加入新的D、E两个参数，设置各自对应的搜索空间，并进行第二批搜索。基本过程如下："
   ]
  },
  {
   "cell_type": "markdown",
   "id": "e995fd87-7b99-4076-ad76-b9749dcfbc5d",
   "metadata": {},
   "source": [
    "<center><img src=\"https://s2.loli.net/2022/05/02/Utqh532l7dfnJSj.png\" alt=\"image-20220502165350402\" style=\"zoom:50%;\" />"
   ]
  },
  {
   "cell_type": "markdown",
   "id": "b19e252e-ce49-48d4-b4a6-7f8e5e3e4a4b",
   "metadata": {},
   "source": [
    "> 总之，最终一定要得到一个全部超参数每个最优点都在给定区间范围内的结果。"
   ]
  },
  {
   "cell_type": "markdown",
   "id": "8278f449-a0da-46b4-86d8-23f42924dc5d",
   "metadata": {},
   "source": [
    "|params|经验最优范围|\n",
    "|:--:|:--:|\n",
    "|num_leaves|range(20, 51, 2)|\n",
    "|max_depth|range(5, 15, 2))| \n",
    "|learning_rate|np.linspace(0.01, 0.2, 5)|\n",
    "|n_estimators|range(10, 160, 70)|\n",
    "|boosting_type|['gbdt', 'goss']|\n",
    "|colsample_bytree|[0.6, 0.8, 1.0]|\n",
    "|(第一阶段)reg_alpha|np.linspace(0.01, 0.1, 2)|\n",
    "|(第二阶段)reg_lambda|np.linspace(0.01, 0.1, 2)|"
   ]
  },
  {
   "cell_type": "markdown",
   "id": "7347912a-b6b2-432c-b86d-71ddfe07fbd8",
   "metadata": {
    "tags": []
   },
   "source": [
    "#### 6.LGBM网格搜索调参实战"
   ]
  },
  {
   "cell_type": "markdown",
   "id": "2dc84e15-e146-4de9-bac0-2fbd0798c2b2",
   "metadata": {},
   "source": [
    "&emsp;&emsp;在有了网格搜索优化技巧的基础知识储备后，接下来我们围绕Telco原生数据集来进行随机森林网格搜索实战。一方面测试在原始数据集情况下随机森林模型超参数优化的最好结果，同时我们也将用过一个实例来具体观察我们制定的“小步迭代、快速调整”的调优策略是否能真的帮助我们高效快速的确定最优超参数。"
   ]
  },
  {
   "cell_type": "markdown",
   "id": "b2f30985-d818-41f0-b5cb-1920cf716238",
   "metadata": {},
   "source": [
    "- 首轮搜索"
   ]
  },
  {
   "cell_type": "markdown",
   "id": "faf53db1-6bf8-407d-bde9-624415d9242e",
   "metadata": {},
   "source": [
    "&emsp;&emsp;首先，根据此前介绍，设置初始参数空间并进行搜索，同时计算本次运行的时间。原始数据集总共有19条特征，开方运算与log2计算结果如下："
   ]
  },
  {
   "cell_type": "code",
   "execution_count": 29,
   "id": "9e70132f-b782-4e45-8fb8-a00bbd287cde",
   "metadata": {},
   "outputs": [
    {
     "data": {
      "text/plain": [
       "[0.01, 0.0575, 0.105, 0.15250000000000002, 0.2]"
      ]
     },
     "execution_count": 29,
     "metadata": {},
     "output_type": "execute_result"
    }
   ],
   "source": [
    "list(np.linspace(0.01, 0.2, 5))"
   ]
  },
  {
   "cell_type": "code",
   "execution_count": 30,
   "id": "7b5ec574-73ae-460e-9733-c1b587ca74a0",
   "metadata": {},
   "outputs": [
    {
     "name": "stdout",
     "output_type": "stream",
     "text": [
      "124.77974891662598\n"
     ]
    }
   ],
   "source": [
    "start = time.time()\n",
    "\n",
    "# 设置超参数空间\n",
    "parameter_space = {\n",
    "    \"num_leaves\": range(20, 51, 2), \n",
    "    \"max_depth\": range(5, 15, 2),\n",
    "    \"learning_rate\": list(np.linspace(0.01, 0.2, 5)),\n",
    "    \"n_estimators\": range(10, 160, 70), \n",
    "    \"boosting_type\":['gbdt', 'goss'], \n",
    "    \"colsample_bytree\":[0.6, 0.8, 1.0]}\n",
    "\n",
    "# 实例化模型与评估器\n",
    "LGBM_0 = LGBMClassifier(random_state=12)\n",
    "grid_LGBM_0 = GridSearchCV(LGBM_0, parameter_space, n_jobs=15)\n",
    "\n",
    "# 模型训练\n",
    "grid_LGBM_0.fit(X_train_OE, y_train)\n",
    "\n",
    "print(time.time()-start)"
   ]
  },
  {
   "cell_type": "markdown",
   "id": "5fe507e0-eb7e-41ec-995a-526eefaff510",
   "metadata": {},
   "source": [
    "&emsp;&emsp;然后查看当前情况下模型预测结果："
   ]
  },
  {
   "cell_type": "code",
   "execution_count": 31,
   "id": "d7a3c333-c6a9-4c38-bacb-ebc27a18de03",
   "metadata": {},
   "outputs": [
    {
     "data": {
      "text/plain": [
       "0.8078368237722543"
      ]
     },
     "execution_count": 31,
     "metadata": {},
     "output_type": "execute_result"
    }
   ],
   "source": [
    "grid_LGBM_0.best_score_"
   ]
  },
  {
   "cell_type": "code",
   "execution_count": 32,
   "id": "1c776cec-4807-4165-b5e4-96e8ccad333f",
   "metadata": {},
   "outputs": [
    {
     "data": {
      "text/plain": [
       "(0.8528966300643696, 0.7864849517319704)"
      ]
     },
     "execution_count": 32,
     "metadata": {},
     "output_type": "execute_result"
    }
   ],
   "source": [
    "grid_LGBM_0.score(X_train_OE, y_train), grid_LGBM_0.score(X_test_OE, y_test)"
   ]
  },
  {
   "cell_type": "markdown",
   "id": "e767be59-5ca2-4efd-a211-a5ba75430c81",
   "metadata": {},
   "source": [
    "能够看出，在进行第一轮超参数搜索时，模型结果的过拟合倾向已经得到了有效抑制，并且对比此前逻辑回归最终的优化结果，目前模型已经得到了一个较好的结果了："
   ]
  },
  {
   "cell_type": "markdown",
   "id": "96c2fd10-9ca0-47ce-b9f9-7c3736a19389",
   "metadata": {},
   "source": [
    "|Models|CV.best_score_|train_score|test_score|\n",
    "|:--:|:--:|:--:|:--:|\n",
    "|Logistic+grid|0.8045|0.8055|0.7932|\n",
    "|RF+grid_R1|0.8084|0.8517|0.7848|"
   ]
  },
  {
   "cell_type": "markdown",
   "id": "d3970617-226b-49fd-b04b-6b9ea0ddd2f5",
   "metadata": {},
   "source": [
    "&emsp;&emsp;最后，重点关注本轮搜索得出的超参数最优取值："
   ]
  },
  {
   "cell_type": "code",
   "execution_count": 33,
   "id": "6b7641ea-1d2a-49cf-a4be-c6cf64f51991",
   "metadata": {},
   "outputs": [
    {
     "data": {
      "text/plain": [
       "{'boosting_type': 'gbdt',\n",
       " 'colsample_bytree': 0.6,\n",
       " 'learning_rate': 0.0575,\n",
       " 'max_depth': 11,\n",
       " 'n_estimators': 80,\n",
       " 'num_leaves': 32}"
      ]
     },
     "execution_count": 33,
     "metadata": {},
     "output_type": "execute_result"
    }
   ],
   "source": [
    "grid_LGBM_0.best_params_"
   ]
  },
  {
   "cell_type": "markdown",
   "id": "cdb0017f-01ab-4793-b9fb-46de503d5dca",
   "metadata": {},
   "source": [
    "- 第二轮搜索"
   ]
  },
  {
   "cell_type": "code",
   "execution_count": 35,
   "id": "2310db1c-d21e-4806-8bfd-1e503a6080cd",
   "metadata": {},
   "outputs": [
    {
     "name": "stdout",
     "output_type": "stream",
     "text": [
      "54.85588598251343\n"
     ]
    }
   ],
   "source": [
    "start = time.time()\n",
    "\n",
    "# 设置超参数空间\n",
    "parameter_space = {\n",
    "    \"num_leaves\": range(30, 35), \n",
    "    \"max_depth\": range(10, 14),\n",
    "    \"learning_rate\": list(np.linspace(0.01, 0.1, 5)),\n",
    "    \"n_estimators\": range(70, 91, 5), \n",
    "    \"boosting_type\":['gbdt', 'goss'], \n",
    "    \"colsample_bytree\":[0.5, 0.6, 0.7]}\n",
    "\n",
    "# 实例化模型与评估器\n",
    "LGBM_1 = LGBMClassifier(random_state=12)\n",
    "grid_LGBM_1 = GridSearchCV(LGBM_1, parameter_space, n_jobs=15)\n",
    "\n",
    "# 模型训练\n",
    "grid_LGBM_1.fit(X_train_OE, y_train)\n",
    "\n",
    "print(time.time()-start)"
   ]
  },
  {
   "cell_type": "code",
   "execution_count": 36,
   "id": "8b43f360-b761-4dc0-ae15-8ccd23c28ca5",
   "metadata": {},
   "outputs": [
    {
     "data": {
      "text/plain": [
       "0.8091622229867264"
      ]
     },
     "execution_count": 36,
     "metadata": {},
     "output_type": "execute_result"
    }
   ],
   "source": [
    "grid_LGBM_1.best_score_"
   ]
  },
  {
   "cell_type": "code",
   "execution_count": 37,
   "id": "7d05aa32-8d41-4159-9d0b-2f31b4c4af65",
   "metadata": {},
   "outputs": [
    {
     "data": {
      "text/plain": [
       "(0.8511927300265051, 0.7864849517319704)"
      ]
     },
     "execution_count": 37,
     "metadata": {},
     "output_type": "execute_result"
    }
   ],
   "source": [
    "grid_LGBM_1.score(X_train_OE, y_train), grid_LGBM_1.score(X_test_OE, y_test)"
   ]
  },
  {
   "cell_type": "code",
   "execution_count": 38,
   "id": "a078d40f-368b-4c92-aa29-9c2daea0ac0e",
   "metadata": {},
   "outputs": [
    {
     "data": {
      "text/plain": [
       "{'boosting_type': 'gbdt',\n",
       " 'colsample_bytree': 0.6,\n",
       " 'learning_rate': 0.05500000000000001,\n",
       " 'max_depth': 13,\n",
       " 'n_estimators': 70,\n",
       " 'num_leaves': 33}"
      ]
     },
     "execution_count": 38,
     "metadata": {},
     "output_type": "execute_result"
    }
   ],
   "source": [
    "grid_LGBM_1.best_params_"
   ]
  },
  {
   "cell_type": "markdown",
   "id": "34cee8e7-0d88-4bde-b0f1-33ec7a8085ab",
   "metadata": {},
   "source": [
    "- 第三轮搜索"
   ]
  },
  {
   "cell_type": "code",
   "execution_count": 39,
   "id": "7e5aa3aa-1e21-4add-ac3e-fcdf921e3cd9",
   "metadata": {},
   "outputs": [
    {
     "name": "stdout",
     "output_type": "stream",
     "text": [
      "137.77449536323547\n"
     ]
    }
   ],
   "source": [
    "start = time.time()\n",
    "\n",
    "# 设置超参数空间\n",
    "parameter_space = {\n",
    "    \"num_leaves\": range(30, 35), \n",
    "    \"max_depth\": range(12, 17),\n",
    "    \"learning_rate\": list(np.linspace(0.04, 0.07, 5)),\n",
    "    \"n_estimators\": range(60, 81, 2), \n",
    "    \"boosting_type\":['gbdt', 'goss'], \n",
    "    \"colsample_bytree\":[0.55, 0.6, 0.65]}\n",
    "\n",
    "# 实例化模型与评估器\n",
    "LGBM_2 = LGBMClassifier(random_state=12)\n",
    "grid_LGBM_2 = GridSearchCV(LGBM_2, parameter_space, n_jobs=15)\n",
    "\n",
    "# 模型训练\n",
    "grid_LGBM_2.fit(X_train_OE, y_train)\n",
    "\n",
    "print(time.time()-start)"
   ]
  },
  {
   "cell_type": "code",
   "execution_count": 42,
   "id": "e86340f9-a8f3-4e52-8cdd-247bece96005",
   "metadata": {},
   "outputs": [
    {
     "data": {
      "text/plain": [
       "0.810297690719876"
      ]
     },
     "execution_count": 42,
     "metadata": {},
     "output_type": "execute_result"
    }
   ],
   "source": [
    "grid_LGBM_2.best_score_"
   ]
  },
  {
   "cell_type": "code",
   "execution_count": 40,
   "id": "76bb3b25-c595-4f95-9833-e40f2e0e29f7",
   "metadata": {},
   "outputs": [
    {
     "data": {
      "text/plain": [
       "(0.8487315410829231, 0.787052810902896)"
      ]
     },
     "execution_count": 40,
     "metadata": {},
     "output_type": "execute_result"
    }
   ],
   "source": [
    "grid_LGBM_2.score(X_train_OE, y_train), grid_LGBM_2.score(X_test_OE, y_test)"
   ]
  },
  {
   "cell_type": "code",
   "execution_count": 41,
   "id": "368d236e-9739-4a86-bb00-dec43e4b97bc",
   "metadata": {},
   "outputs": [
    {
     "data": {
      "text/plain": [
       "{'boosting_type': 'gbdt',\n",
       " 'colsample_bytree': 0.6,\n",
       " 'learning_rate': 0.05500000000000001,\n",
       " 'max_depth': 15,\n",
       " 'n_estimators': 66,\n",
       " 'num_leaves': 33}"
      ]
     },
     "execution_count": 41,
     "metadata": {},
     "output_type": "execute_result"
    }
   ],
   "source": [
    "grid_LGBM_2.best_params_"
   ]
  },
  {
   "cell_type": "markdown",
   "id": "fbb56327-c31e-40e5-affb-159db8edf6b8",
   "metadata": {},
   "source": [
    "- 第四轮搜索"
   ]
  },
  {
   "cell_type": "code",
   "execution_count": 43,
   "id": "e419e73e-d415-4523-a352-acbb479a492e",
   "metadata": {},
   "outputs": [
    {
     "name": "stdout",
     "output_type": "stream",
     "text": [
      "49.448071002960205\n"
     ]
    }
   ],
   "source": [
    "start = time.time()\n",
    "\n",
    "# 设置超参数空间\n",
    "parameter_space = {\n",
    "    \"num_leaves\": range(32, 37), \n",
    "    \"max_depth\": range(14, 18),\n",
    "    \"learning_rate\": list(np.linspace(0.05, 0.06, 5)),\n",
    "    \"n_estimators\": range(65, 70), \n",
    "    \"boosting_type\":['gbdt', 'goss'], \n",
    "    \"colsample_bytree\":[0.59, 0.6, 0.61]}\n",
    "\n",
    "# 实例化模型与评估器\n",
    "LGBM_3 = LGBMClassifier(random_state=12)\n",
    "grid_LGBM_3 = GridSearchCV(LGBM_3, parameter_space, n_jobs=15)\n",
    "\n",
    "# 模型训练\n",
    "grid_LGBM_3.fit(X_train_OE, y_train)\n",
    "\n",
    "print(time.time()-start)"
   ]
  },
  {
   "cell_type": "code",
   "execution_count": 44,
   "id": "88a33f92-8e9c-4530-963d-9cd2aed68298",
   "metadata": {},
   "outputs": [
    {
     "data": {
      "text/plain": [
       "0.810297690719876"
      ]
     },
     "execution_count": 44,
     "metadata": {},
     "output_type": "execute_result"
    }
   ],
   "source": [
    "grid_LGBM_3.best_score_"
   ]
  },
  {
   "cell_type": "code",
   "execution_count": 45,
   "id": "bc9dbc27-8b01-4871-b0b0-b3ed28b84257",
   "metadata": {},
   "outputs": [
    {
     "data": {
      "text/plain": [
       "(0.8487315410829231, 0.787052810902896)"
      ]
     },
     "execution_count": 45,
     "metadata": {},
     "output_type": "execute_result"
    }
   ],
   "source": [
    "grid_LGBM_3.score(X_train_OE, y_train), grid_LGBM_3.score(X_test_OE, y_test)"
   ]
  },
  {
   "cell_type": "code",
   "execution_count": 46,
   "id": "a5e2aca8-be8b-4568-8c47-6f20885f3723",
   "metadata": {},
   "outputs": [
    {
     "data": {
      "text/plain": [
       "{'boosting_type': 'gbdt',\n",
       " 'colsample_bytree': 0.59,\n",
       " 'learning_rate': 0.055,\n",
       " 'max_depth': 15,\n",
       " 'n_estimators': 66,\n",
       " 'num_leaves': 33}"
      ]
     },
     "execution_count": 46,
     "metadata": {},
     "output_type": "execute_result"
    }
   ],
   "source": [
    "grid_LGBM_3.best_params_"
   ]
  },
  {
   "cell_type": "markdown",
   "id": "5f2f0668-8fb1-4798-8317-7a8c566602e0",
   "metadata": {},
   "source": [
    "- 第五轮搜索"
   ]
  },
  {
   "cell_type": "code",
   "execution_count": 47,
   "id": "c6ef270a-d666-40f2-82d4-f6b2dbfa970f",
   "metadata": {},
   "outputs": [
    {
     "name": "stdout",
     "output_type": "stream",
     "text": [
      "51.1261146068573\n"
     ]
    }
   ],
   "source": [
    "start = time.time()\n",
    "\n",
    "# 设置超参数空间\n",
    "parameter_space = {\n",
    "    \"num_leaves\": range(32, 37), \n",
    "    \"max_depth\": range(14, 18),\n",
    "    \"learning_rate\": list(np.linspace(0.05, 0.06, 5)),\n",
    "    \"n_estimators\": range(65, 70), \n",
    "    \"boosting_type\":['gbdt', 'goss'], \n",
    "    \"colsample_bytree\":[0.585, 0.59, 0.595]}\n",
    "\n",
    "# 实例化模型与评估器\n",
    "LGBM_4 = LGBMClassifier(random_state=12)\n",
    "grid_LGBM_4 = GridSearchCV(LGBM_4, parameter_space, n_jobs=15)\n",
    "\n",
    "# 模型训练\n",
    "grid_LGBM_4.fit(X_train_OE, y_train)\n",
    "\n",
    "print(time.time()-start)"
   ]
  },
  {
   "cell_type": "code",
   "execution_count": 48,
   "id": "5b746efb-d859-4a12-ad72-6eee1d284e2b",
   "metadata": {},
   "outputs": [
    {
     "data": {
      "text/plain": [
       "0.810297690719876"
      ]
     },
     "execution_count": 48,
     "metadata": {},
     "output_type": "execute_result"
    }
   ],
   "source": [
    "grid_LGBM_4.best_score_"
   ]
  },
  {
   "cell_type": "code",
   "execution_count": 49,
   "id": "cd7221f2-a2bc-482d-be90-fe250359a579",
   "metadata": {},
   "outputs": [
    {
     "data": {
      "text/plain": [
       "(0.8487315410829231, 0.787052810902896)"
      ]
     },
     "execution_count": 49,
     "metadata": {},
     "output_type": "execute_result"
    }
   ],
   "source": [
    "grid_LGBM_4.score(X_train_OE, y_train), grid_LGBM_4.score(X_test_OE, y_test)"
   ]
  },
  {
   "cell_type": "code",
   "execution_count": 50,
   "id": "3a6a6c75-8bda-4686-acde-4b98776eacdf",
   "metadata": {},
   "outputs": [
    {
     "data": {
      "text/plain": [
       "{'boosting_type': 'gbdt',\n",
       " 'colsample_bytree': 0.585,\n",
       " 'learning_rate': 0.055,\n",
       " 'max_depth': 15,\n",
       " 'n_estimators': 66,\n",
       " 'num_leaves': 33}"
      ]
     },
     "execution_count": 50,
     "metadata": {},
     "output_type": "execute_result"
    }
   ],
   "source": [
    "grid_LGBM_4.best_params_"
   ]
  },
  {
   "cell_type": "markdown",
   "id": "13e642aa-2082-44d2-8682-dafd25db1073",
   "metadata": {},
   "source": [
    "- 最终轮搜索"
   ]
  },
  {
   "cell_type": "code",
   "execution_count": 58,
   "id": "4ad89d4d-4ad3-47b4-9845-e19dc1d197ce",
   "metadata": {
    "tags": []
   },
   "outputs": [
    {
     "name": "stdout",
     "output_type": "stream",
     "text": [
      "104.39109444618225\n"
     ]
    }
   ],
   "source": [
    "start = time.time()\n",
    "\n",
    "# 设置超参数空间\n",
    "parameter_space = {\n",
    "    \"num_leaves\": range(32, 37), \n",
    "    \"max_depth\": range(14, 18),\n",
    "    \"learning_rate\": list(np.linspace(0.05, 0.06, 5)),\n",
    "    \"n_estimators\": range(65, 70), \n",
    "    \"boosting_type\":['gbdt', 'goss'], \n",
    "    \"colsample_bytree\":[0.585, 0.59, 0.595], \n",
    "    \"reg_alpha\":list(np.linspace(0.01, 0.1, 2))}\n",
    "\n",
    "# 实例化模型与评估器\n",
    "LGBM_5 = LGBMClassifier(random_state=12)\n",
    "grid_LGBM_5 = GridSearchCV(LGBM_5, parameter_space, n_jobs=15)\n",
    "\n",
    "# 模型训练\n",
    "grid_LGBM_5.fit(X_train_OE, y_train)\n",
    "\n",
    "print(time.time()-start)"
   ]
  },
  {
   "cell_type": "code",
   "execution_count": 59,
   "id": "4a8cb984-dfca-4904-a293-59799cef9a88",
   "metadata": {},
   "outputs": [
    {
     "data": {
      "text/plain": [
       "0.8084039305065795"
      ]
     },
     "execution_count": 59,
     "metadata": {},
     "output_type": "execute_result"
    }
   ],
   "source": [
    "grid_LGBM_5.best_score_"
   ]
  },
  {
   "cell_type": "code",
   "execution_count": 60,
   "id": "1bb7ad51-1778-46f9-983b-6334877734f0",
   "metadata": {},
   "outputs": [
    {
     "data": {
      "text/plain": [
       "(0.84967815221507, 0.7904599659284497)"
      ]
     },
     "execution_count": 60,
     "metadata": {},
     "output_type": "execute_result"
    }
   ],
   "source": [
    "grid_LGBM_5.score(X_train_OE, y_train), grid_LGBM_5.score(X_test_OE, y_test)"
   ]
  },
  {
   "cell_type": "code",
   "execution_count": 61,
   "id": "5e50445f-9d8f-42ce-9b04-92eaff692269",
   "metadata": {},
   "outputs": [
    {
     "data": {
      "text/plain": [
       "{'boosting_type': 'gbdt',\n",
       " 'colsample_bytree': 0.585,\n",
       " 'learning_rate': 0.052500000000000005,\n",
       " 'max_depth': 14,\n",
       " 'n_estimators': 69,\n",
       " 'num_leaves': 36,\n",
       " 'reg_alpha': 0.01}"
      ]
     },
     "execution_count": 61,
     "metadata": {},
     "output_type": "execute_result"
    }
   ],
   "source": [
    "grid_LGBM_5.best_params_"
   ]
  },
  {
   "cell_type": "markdown",
   "id": "00c50a2b-4e83-457b-8925-1d94a2900087",
   "metadata": {},
   "source": [
    "|准确率|训练集|测试集|\n",
    "|:--:|:--:|:--:|\n",
    "|LGBM原始模型|0.8905|0.7870|\n",
    "|LGBM+TPE+100|0.8197|0.7864|\n",
    "|LGBM+TPE+200|0.8089|0.7870|\n",
    "|LGBM+TPE+1000|0.80144|0.7890|\n",
    "|LGBM+grid|0.8496|0.7904|"
   ]
  },
  {
   "cell_type": "markdown",
   "id": "ddfa708c-6259-4325-bdb1-6e4d0f68f09b",
   "metadata": {},
   "source": [
    "### 四、通过交叉训练进一步提升模型效果"
   ]
  },
  {
   "cell_type": "markdown",
   "id": "d9932f7d-11db-468f-9197-c708df0147a8",
   "metadata": {},
   "source": [
    "<center><img src=\"https://s2.loli.net/2022/05/18/1UAlpgwt2mSbTQ5.png\" alt=\"image-20220518205529331\" style=\"zoom:33%;\" />"
   ]
  },
  {
   "cell_type": "code",
   "execution_count": 95,
   "id": "4a646ccd-09e6-435b-8cd3-05a009504365",
   "metadata": {},
   "outputs": [],
   "source": [
    "kf = KFold(n_splits=5, random_state=12, shuffle=True)"
   ]
  },
  {
   "cell_type": "code",
   "execution_count": 7,
   "id": "1263d34d-8cb1-4ad1-83a8-eab504ce1efb",
   "metadata": {},
   "outputs": [],
   "source": [
    "# 实例化KFold评估器\n",
    "kf = KFold(n_splits=5, random_state=12, shuffle=True)\n",
    "\n",
    "# 重置训练集和测试集的index\n",
    "X_train_OE = X_train_OE.reset_index(drop=True)\n",
    "y_train = y_train.reset_index(drop=True)"
   ]
  },
  {
   "cell_type": "markdown",
   "id": "e081b5af-c6a9-4852-8624-5f592cede407",
   "metadata": {},
   "source": [
    "然后需要单独创建每一轮划分后的训练集和验证集，可以通过如下过程完成："
   ]
  },
  {
   "cell_type": "code",
   "execution_count": 8,
   "id": "d05dd8a9-1083-422a-a31c-1a4338d2cad3",
   "metadata": {},
   "outputs": [
    {
     "name": "stdout",
     "output_type": "stream",
     "text": [
      "[   1    2    5 ... 5279 5280 5281]\n",
      "[   0    3    4 ... 5271 5274 5275]\n"
     ]
    }
   ],
   "source": [
    "# 循环一次，切分一次数据集和验证集\n",
    "for train_part_index, eval_index in kf.split(X_train_OE, y_train):\n",
    "    print(train_part_index)\n",
    "    print(eval_index)\n",
    "    break"
   ]
  },
  {
   "cell_type": "code",
   "execution_count": 9,
   "id": "14aa4f0a-0ff2-44c8-9a17-2ccba2dd9d6e",
   "metadata": {
    "tags": []
   },
   "outputs": [
    {
     "data": {
      "text/html": [
       "<div>\n",
       "<style scoped>\n",
       "    .dataframe tbody tr th:only-of-type {\n",
       "        vertical-align: middle;\n",
       "    }\n",
       "\n",
       "    .dataframe tbody tr th {\n",
       "        vertical-align: top;\n",
       "    }\n",
       "\n",
       "    .dataframe thead th {\n",
       "        text-align: right;\n",
       "    }\n",
       "</style>\n",
       "<table border=\"1\" class=\"dataframe\">\n",
       "  <thead>\n",
       "    <tr style=\"text-align: right;\">\n",
       "      <th></th>\n",
       "      <th>gender</th>\n",
       "      <th>SeniorCitizen</th>\n",
       "      <th>Partner</th>\n",
       "      <th>Dependents</th>\n",
       "      <th>PhoneService</th>\n",
       "      <th>MultipleLines</th>\n",
       "      <th>InternetService</th>\n",
       "      <th>OnlineSecurity</th>\n",
       "      <th>OnlineBackup</th>\n",
       "      <th>DeviceProtection</th>\n",
       "      <th>TechSupport</th>\n",
       "      <th>StreamingTV</th>\n",
       "      <th>StreamingMovies</th>\n",
       "      <th>Contract</th>\n",
       "      <th>PaperlessBilling</th>\n",
       "      <th>PaymentMethod</th>\n",
       "      <th>tenure</th>\n",
       "      <th>MonthlyCharges</th>\n",
       "      <th>TotalCharges</th>\n",
       "    </tr>\n",
       "  </thead>\n",
       "  <tbody>\n",
       "    <tr>\n",
       "      <th>1</th>\n",
       "      <td>0.0</td>\n",
       "      <td>0.0</td>\n",
       "      <td>1.0</td>\n",
       "      <td>1.0</td>\n",
       "      <td>1.0</td>\n",
       "      <td>0.0</td>\n",
       "      <td>1.0</td>\n",
       "      <td>0.0</td>\n",
       "      <td>2.0</td>\n",
       "      <td>0.0</td>\n",
       "      <td>2.0</td>\n",
       "      <td>0.0</td>\n",
       "      <td>0.0</td>\n",
       "      <td>0.0</td>\n",
       "      <td>1.0</td>\n",
       "      <td>2.0</td>\n",
       "      <td>3</td>\n",
       "      <td>80.00</td>\n",
       "      <td>241.30</td>\n",
       "    </tr>\n",
       "    <tr>\n",
       "      <th>2</th>\n",
       "      <td>1.0</td>\n",
       "      <td>0.0</td>\n",
       "      <td>0.0</td>\n",
       "      <td>0.0</td>\n",
       "      <td>1.0</td>\n",
       "      <td>0.0</td>\n",
       "      <td>2.0</td>\n",
       "      <td>1.0</td>\n",
       "      <td>1.0</td>\n",
       "      <td>1.0</td>\n",
       "      <td>1.0</td>\n",
       "      <td>1.0</td>\n",
       "      <td>1.0</td>\n",
       "      <td>0.0</td>\n",
       "      <td>0.0</td>\n",
       "      <td>3.0</td>\n",
       "      <td>4</td>\n",
       "      <td>19.00</td>\n",
       "      <td>73.45</td>\n",
       "    </tr>\n",
       "    <tr>\n",
       "      <th>5</th>\n",
       "      <td>0.0</td>\n",
       "      <td>0.0</td>\n",
       "      <td>1.0</td>\n",
       "      <td>1.0</td>\n",
       "      <td>1.0</td>\n",
       "      <td>2.0</td>\n",
       "      <td>1.0</td>\n",
       "      <td>2.0</td>\n",
       "      <td>0.0</td>\n",
       "      <td>2.0</td>\n",
       "      <td>0.0</td>\n",
       "      <td>0.0</td>\n",
       "      <td>0.0</td>\n",
       "      <td>1.0</td>\n",
       "      <td>0.0</td>\n",
       "      <td>0.0</td>\n",
       "      <td>69</td>\n",
       "      <td>84.45</td>\n",
       "      <td>5848.60</td>\n",
       "    </tr>\n",
       "    <tr>\n",
       "      <th>6</th>\n",
       "      <td>0.0</td>\n",
       "      <td>0.0</td>\n",
       "      <td>0.0</td>\n",
       "      <td>0.0</td>\n",
       "      <td>1.0</td>\n",
       "      <td>0.0</td>\n",
       "      <td>0.0</td>\n",
       "      <td>0.0</td>\n",
       "      <td>2.0</td>\n",
       "      <td>2.0</td>\n",
       "      <td>0.0</td>\n",
       "      <td>0.0</td>\n",
       "      <td>0.0</td>\n",
       "      <td>0.0</td>\n",
       "      <td>1.0</td>\n",
       "      <td>1.0</td>\n",
       "      <td>26</td>\n",
       "      <td>54.75</td>\n",
       "      <td>1406.90</td>\n",
       "    </tr>\n",
       "    <tr>\n",
       "      <th>7</th>\n",
       "      <td>0.0</td>\n",
       "      <td>0.0</td>\n",
       "      <td>0.0</td>\n",
       "      <td>0.0</td>\n",
       "      <td>1.0</td>\n",
       "      <td>0.0</td>\n",
       "      <td>0.0</td>\n",
       "      <td>0.0</td>\n",
       "      <td>0.0</td>\n",
       "      <td>0.0</td>\n",
       "      <td>0.0</td>\n",
       "      <td>0.0</td>\n",
       "      <td>0.0</td>\n",
       "      <td>0.0</td>\n",
       "      <td>1.0</td>\n",
       "      <td>3.0</td>\n",
       "      <td>11</td>\n",
       "      <td>44.65</td>\n",
       "      <td>472.25</td>\n",
       "    </tr>\n",
       "    <tr>\n",
       "      <th>...</th>\n",
       "      <td>...</td>\n",
       "      <td>...</td>\n",
       "      <td>...</td>\n",
       "      <td>...</td>\n",
       "      <td>...</td>\n",
       "      <td>...</td>\n",
       "      <td>...</td>\n",
       "      <td>...</td>\n",
       "      <td>...</td>\n",
       "      <td>...</td>\n",
       "      <td>...</td>\n",
       "      <td>...</td>\n",
       "      <td>...</td>\n",
       "      <td>...</td>\n",
       "      <td>...</td>\n",
       "      <td>...</td>\n",
       "      <td>...</td>\n",
       "      <td>...</td>\n",
       "      <td>...</td>\n",
       "    </tr>\n",
       "    <tr>\n",
       "      <th>5277</th>\n",
       "      <td>1.0</td>\n",
       "      <td>0.0</td>\n",
       "      <td>1.0</td>\n",
       "      <td>0.0</td>\n",
       "      <td>1.0</td>\n",
       "      <td>0.0</td>\n",
       "      <td>1.0</td>\n",
       "      <td>2.0</td>\n",
       "      <td>2.0</td>\n",
       "      <td>2.0</td>\n",
       "      <td>2.0</td>\n",
       "      <td>2.0</td>\n",
       "      <td>2.0</td>\n",
       "      <td>2.0</td>\n",
       "      <td>1.0</td>\n",
       "      <td>2.0</td>\n",
       "      <td>52</td>\n",
       "      <td>106.30</td>\n",
       "      <td>5487.00</td>\n",
       "    </tr>\n",
       "    <tr>\n",
       "      <th>5278</th>\n",
       "      <td>0.0</td>\n",
       "      <td>1.0</td>\n",
       "      <td>0.0</td>\n",
       "      <td>0.0</td>\n",
       "      <td>1.0</td>\n",
       "      <td>2.0</td>\n",
       "      <td>0.0</td>\n",
       "      <td>2.0</td>\n",
       "      <td>0.0</td>\n",
       "      <td>0.0</td>\n",
       "      <td>0.0</td>\n",
       "      <td>0.0</td>\n",
       "      <td>0.0</td>\n",
       "      <td>0.0</td>\n",
       "      <td>1.0</td>\n",
       "      <td>2.0</td>\n",
       "      <td>16</td>\n",
       "      <td>54.10</td>\n",
       "      <td>889.00</td>\n",
       "    </tr>\n",
       "    <tr>\n",
       "      <th>5279</th>\n",
       "      <td>0.0</td>\n",
       "      <td>1.0</td>\n",
       "      <td>0.0</td>\n",
       "      <td>0.0</td>\n",
       "      <td>1.0</td>\n",
       "      <td>2.0</td>\n",
       "      <td>1.0</td>\n",
       "      <td>0.0</td>\n",
       "      <td>2.0</td>\n",
       "      <td>2.0</td>\n",
       "      <td>0.0</td>\n",
       "      <td>2.0</td>\n",
       "      <td>2.0</td>\n",
       "      <td>0.0</td>\n",
       "      <td>1.0</td>\n",
       "      <td>2.0</td>\n",
       "      <td>28</td>\n",
       "      <td>106.15</td>\n",
       "      <td>3152.50</td>\n",
       "    </tr>\n",
       "    <tr>\n",
       "      <th>5280</th>\n",
       "      <td>0.0</td>\n",
       "      <td>0.0</td>\n",
       "      <td>1.0</td>\n",
       "      <td>1.0</td>\n",
       "      <td>1.0</td>\n",
       "      <td>0.0</td>\n",
       "      <td>2.0</td>\n",
       "      <td>1.0</td>\n",
       "      <td>1.0</td>\n",
       "      <td>1.0</td>\n",
       "      <td>1.0</td>\n",
       "      <td>1.0</td>\n",
       "      <td>1.0</td>\n",
       "      <td>1.0</td>\n",
       "      <td>0.0</td>\n",
       "      <td>1.0</td>\n",
       "      <td>15</td>\n",
       "      <td>20.35</td>\n",
       "      <td>335.95</td>\n",
       "    </tr>\n",
       "    <tr>\n",
       "      <th>5281</th>\n",
       "      <td>1.0</td>\n",
       "      <td>0.0</td>\n",
       "      <td>1.0</td>\n",
       "      <td>1.0</td>\n",
       "      <td>1.0</td>\n",
       "      <td>2.0</td>\n",
       "      <td>2.0</td>\n",
       "      <td>1.0</td>\n",
       "      <td>1.0</td>\n",
       "      <td>1.0</td>\n",
       "      <td>1.0</td>\n",
       "      <td>1.0</td>\n",
       "      <td>1.0</td>\n",
       "      <td>2.0</td>\n",
       "      <td>1.0</td>\n",
       "      <td>0.0</td>\n",
       "      <td>68</td>\n",
       "      <td>24.00</td>\n",
       "      <td>1664.30</td>\n",
       "    </tr>\n",
       "  </tbody>\n",
       "</table>\n",
       "<p>4225 rows × 19 columns</p>\n",
       "</div>"
      ],
      "text/plain": [
       "      gender  SeniorCitizen  Partner  Dependents  PhoneService  MultipleLines  \\\n",
       "1        0.0            0.0      1.0         1.0           1.0            0.0   \n",
       "2        1.0            0.0      0.0         0.0           1.0            0.0   \n",
       "5        0.0            0.0      1.0         1.0           1.0            2.0   \n",
       "6        0.0            0.0      0.0         0.0           1.0            0.0   \n",
       "7        0.0            0.0      0.0         0.0           1.0            0.0   \n",
       "...      ...            ...      ...         ...           ...            ...   \n",
       "5277     1.0            0.0      1.0         0.0           1.0            0.0   \n",
       "5278     0.0            1.0      0.0         0.0           1.0            2.0   \n",
       "5279     0.0            1.0      0.0         0.0           1.0            2.0   \n",
       "5280     0.0            0.0      1.0         1.0           1.0            0.0   \n",
       "5281     1.0            0.0      1.0         1.0           1.0            2.0   \n",
       "\n",
       "      InternetService  OnlineSecurity  OnlineBackup  DeviceProtection  \\\n",
       "1                 1.0             0.0           2.0               0.0   \n",
       "2                 2.0             1.0           1.0               1.0   \n",
       "5                 1.0             2.0           0.0               2.0   \n",
       "6                 0.0             0.0           2.0               2.0   \n",
       "7                 0.0             0.0           0.0               0.0   \n",
       "...               ...             ...           ...               ...   \n",
       "5277              1.0             2.0           2.0               2.0   \n",
       "5278              0.0             2.0           0.0               0.0   \n",
       "5279              1.0             0.0           2.0               2.0   \n",
       "5280              2.0             1.0           1.0               1.0   \n",
       "5281              2.0             1.0           1.0               1.0   \n",
       "\n",
       "      TechSupport  StreamingTV  StreamingMovies  Contract  PaperlessBilling  \\\n",
       "1             2.0          0.0              0.0       0.0               1.0   \n",
       "2             1.0          1.0              1.0       0.0               0.0   \n",
       "5             0.0          0.0              0.0       1.0               0.0   \n",
       "6             0.0          0.0              0.0       0.0               1.0   \n",
       "7             0.0          0.0              0.0       0.0               1.0   \n",
       "...           ...          ...              ...       ...               ...   \n",
       "5277          2.0          2.0              2.0       2.0               1.0   \n",
       "5278          0.0          0.0              0.0       0.0               1.0   \n",
       "5279          0.0          2.0              2.0       0.0               1.0   \n",
       "5280          1.0          1.0              1.0       1.0               0.0   \n",
       "5281          1.0          1.0              1.0       2.0               1.0   \n",
       "\n",
       "      PaymentMethod  tenure  MonthlyCharges  TotalCharges  \n",
       "1               2.0       3           80.00        241.30  \n",
       "2               3.0       4           19.00         73.45  \n",
       "5               0.0      69           84.45       5848.60  \n",
       "6               1.0      26           54.75       1406.90  \n",
       "7               3.0      11           44.65        472.25  \n",
       "...             ...     ...             ...           ...  \n",
       "5277            2.0      52          106.30       5487.00  \n",
       "5278            2.0      16           54.10        889.00  \n",
       "5279            2.0      28          106.15       3152.50  \n",
       "5280            1.0      15           20.35        335.95  \n",
       "5281            0.0      68           24.00       1664.30  \n",
       "\n",
       "[4225 rows x 19 columns]"
      ]
     },
     "execution_count": 9,
     "metadata": {},
     "output_type": "execute_result"
    }
   ],
   "source": [
    "X_train_OE.loc[train_part_index]"
   ]
  },
  {
   "cell_type": "code",
   "execution_count": 10,
   "id": "2bca2f9f-8102-441e-b57f-2d04f3d9ccf7",
   "metadata": {},
   "outputs": [],
   "source": [
    "train_part_index_l = []\n",
    "eval_index_l = []\n",
    "\n",
    "for train_part_index, eval_index in kf.split(X_train_OE, y_train):\n",
    "    train_part_index_l.append(train_part_index)\n",
    "    eval_index_l.append(eval_index)"
   ]
  },
  {
   "cell_type": "code",
   "execution_count": 11,
   "id": "51c6981e-15c4-4fba-bf93-25be825683b0",
   "metadata": {},
   "outputs": [
    {
     "data": {
      "text/plain": [
       "[array([   1,    2,    5, ..., 5279, 5280, 5281]),\n",
       " array([   0,    1,    2, ..., 5279, 5280, 5281]),\n",
       " array([   0,    1,    2, ..., 5279, 5280, 5281]),\n",
       " array([   0,    1,    3, ..., 5275, 5277, 5281]),\n",
       " array([   0,    2,    3, ..., 5278, 5279, 5280])]"
      ]
     },
     "execution_count": 11,
     "metadata": {},
     "output_type": "execute_result"
    }
   ],
   "source": [
    "train_part_index_l"
   ]
  },
  {
   "cell_type": "markdown",
   "id": "e4ce9500-980c-4030-9548-fea1df15021a",
   "metadata": {},
   "source": [
    "- 基于clf的交叉训练"
   ]
  },
  {
   "cell_type": "code",
   "execution_count": 202,
   "id": "610ad281-e462-4b83-b002-33d5023a32a3",
   "metadata": {},
   "outputs": [],
   "source": [
    "test_predict = []\n",
    "kf = KFold(n_splits=3, random_state=11, shuffle=True)\n",
    "\n",
    "for train_part_index, eval_index in kf.split(X_train_OE, y_train):\n",
    "    # 在训练集上训练\n",
    "    X_train_part = X_train_OE.loc[train_part_index]\n",
    "    y_train_part = y_train.loc[train_part_index]\n",
    "    clf.fit(X_train_part, y_train_part)\n",
    "    # 将测试集上预测结果填入predict数据集\n",
    "    test_predict.append(clf.predict_proba(X_test_OE)[:, 1])"
   ]
  },
  {
   "cell_type": "code",
   "execution_count": 203,
   "id": "b1fbec39-cb95-4cf3-9ff1-b25115ad5f86",
   "metadata": {},
   "outputs": [
    {
     "data": {
      "text/plain": [
       "[array([0.0307229 , 0.22867404, 0.02423184, ..., 0.11940864, 0.62738151,\n",
       "        0.1207684 ]),\n",
       " array([0.02976366, 0.34260337, 0.01902775, ..., 0.17791131, 0.61817475,\n",
       "        0.14663852]),\n",
       " array([0.03098913, 0.30166054, 0.01886396, ..., 0.19259972, 0.66194877,\n",
       "        0.13475334])]"
      ]
     },
     "execution_count": 203,
     "metadata": {},
     "output_type": "execute_result"
    }
   ],
   "source": [
    "test_predict"
   ]
  },
  {
   "cell_type": "code",
   "execution_count": 204,
   "id": "e89942cc-8e1e-44e9-a9e1-b859624ef0ec",
   "metadata": {},
   "outputs": [
    {
     "data": {
      "text/plain": [
       "array([0.0304919 , 0.29097931, 0.02070785, ..., 0.16330656, 0.63583501,\n",
       "       0.13405342])"
      ]
     },
     "execution_count": 204,
     "metadata": {},
     "output_type": "execute_result"
    }
   ],
   "source": [
    "np.array(test_predict).mean(0)"
   ]
  },
  {
   "cell_type": "code",
   "execution_count": 205,
   "id": "aec94c77-c3c5-4923-a3d2-d72afaa277cd",
   "metadata": {},
   "outputs": [],
   "source": [
    "res = (np.array(test_predict).mean(0) >= 0.5) * 1"
   ]
  },
  {
   "cell_type": "code",
   "execution_count": 206,
   "id": "71323855-e053-4164-9ae7-9a684074a306",
   "metadata": {},
   "outputs": [
    {
     "data": {
      "text/plain": [
       "array([0, 0, 0, ..., 0, 1, 0])"
      ]
     },
     "execution_count": 206,
     "metadata": {},
     "output_type": "execute_result"
    }
   ],
   "source": [
    "res"
   ]
  },
  {
   "cell_type": "code",
   "execution_count": 207,
   "id": "fec499a4-ee6b-4622-a5fc-5bc468964bb8",
   "metadata": {},
   "outputs": [
    {
     "data": {
      "text/plain": [
       "0       0\n",
       "1       1\n",
       "2       0\n",
       "3       0\n",
       "4       0\n",
       "       ..\n",
       "1756    0\n",
       "1757    0\n",
       "1758    0\n",
       "1759    1\n",
       "1760    0\n",
       "Name: Churn, Length: 1761, dtype: int64"
      ]
     },
     "execution_count": 207,
     "metadata": {},
     "output_type": "execute_result"
    }
   ],
   "source": [
    "y_test"
   ]
  },
  {
   "cell_type": "code",
   "execution_count": 208,
   "id": "9544dd91-3c2c-43e3-9fd3-f74fd5cdff9a",
   "metadata": {},
   "outputs": [
    {
     "data": {
      "text/plain": [
       "0.7910278250993753"
      ]
     },
     "execution_count": 208,
     "metadata": {},
     "output_type": "execute_result"
    }
   ],
   "source": [
    "accuracy_score(res, y_test)"
   ]
  },
  {
   "cell_type": "markdown",
   "id": "54b2403c-c816-4d0d-aa7e-281d7ead886b",
   "metadata": {},
   "source": [
    "|准确率|训练集|测试集|\n",
    "|:--:|:--:|:--:|\n",
    "|LGBM原始模型|0.8905|0.7870|\n",
    "|LGBM+TPE+100|0.8197|0.7864|\n",
    "|LGBM+TPE+200|0.8089|0.7870|\n",
    "|LGBM+TPE+1000|0.80144|0.7890|\n",
    "|LGBM+grid|0.8496|0.7904|\n",
    "|LGBM+TPE+1000|交叉训练|0.7910|"
   ]
  },
  {
   "cell_type": "markdown",
   "id": "c5cd071a-aa3e-4432-82d5-6b18f87a4f58",
   "metadata": {},
   "source": [
    "- 基于grid_LGBM_5的交叉训练"
   ]
  },
  {
   "cell_type": "code",
   "execution_count": 168,
   "id": "e9b053bd-e48b-42fa-a1e3-fbc6791f20e6",
   "metadata": {
    "tags": []
   },
   "outputs": [],
   "source": [
    "test_predict = []\n",
    "kf = KFold(n_splits=3, random_state=11, shuffle=True)\n",
    "\n",
    "for train_part_index, eval_index in kf.split(X_train_OE, y_train):\n",
    "    # 在训练集上训练\n",
    "    X_train_part = X_train_OE.loc[train_part_index]\n",
    "    y_train_part = y_train.loc[train_part_index]\n",
    "    grid_LGBM_5.best_estimator_.fit(X_train_part, y_train_part)\n",
    "    # 将测试集上预测结果填入predict数据集\n",
    "    test_predict.append(grid_LGBM_5.predict_proba(X_test_OE)[:, 1])"
   ]
  },
  {
   "cell_type": "code",
   "execution_count": 169,
   "id": "c852c603-e4a4-4c80-8f9f-ce768ecf8b19",
   "metadata": {},
   "outputs": [
    {
     "data": {
      "text/plain": [
       "[array([0.02279709, 0.19923274, 0.02415225, ..., 0.10446081, 0.65781821,\n",
       "        0.06689876]),\n",
       " array([0.0228167 , 0.37510663, 0.01549221, ..., 0.20079375, 0.62692221,\n",
       "        0.10498177]),\n",
       " array([0.02746028, 0.33716952, 0.01307974, ..., 0.2329891 , 0.65084317,\n",
       "        0.08372255])]"
      ]
     },
     "execution_count": 169,
     "metadata": {},
     "output_type": "execute_result"
    }
   ],
   "source": [
    "test_predict"
   ]
  },
  {
   "cell_type": "code",
   "execution_count": 170,
   "id": "2ca2ca0a-bcef-42fd-968c-9d2ff9b71ae7",
   "metadata": {},
   "outputs": [
    {
     "data": {
      "text/plain": [
       "array([0.02435802, 0.30383629, 0.01757473, ..., 0.17941455, 0.64519453,\n",
       "       0.08520103])"
      ]
     },
     "execution_count": 170,
     "metadata": {},
     "output_type": "execute_result"
    }
   ],
   "source": [
    "np.array(test_predict).mean(0)"
   ]
  },
  {
   "cell_type": "code",
   "execution_count": 171,
   "id": "8d219b5f-49f3-41f6-ad1a-529765fecf89",
   "metadata": {},
   "outputs": [],
   "source": [
    "res = (np.array(test_predict).mean(0) >= 0.5) * 1"
   ]
  },
  {
   "cell_type": "code",
   "execution_count": 172,
   "id": "4304fc01-6f17-494b-bafe-5d977cffc34d",
   "metadata": {},
   "outputs": [
    {
     "data": {
      "text/plain": [
       "array([0, 0, 0, ..., 0, 1, 0])"
      ]
     },
     "execution_count": 172,
     "metadata": {},
     "output_type": "execute_result"
    }
   ],
   "source": [
    "res"
   ]
  },
  {
   "cell_type": "code",
   "execution_count": 173,
   "id": "673f6c20-c002-4ca1-aa21-532c22b3e31a",
   "metadata": {},
   "outputs": [
    {
     "data": {
      "text/plain": [
       "0       0\n",
       "1       1\n",
       "2       0\n",
       "3       0\n",
       "4       0\n",
       "       ..\n",
       "1756    0\n",
       "1757    0\n",
       "1758    0\n",
       "1759    1\n",
       "1760    0\n",
       "Name: Churn, Length: 1761, dtype: int64"
      ]
     },
     "execution_count": 173,
     "metadata": {},
     "output_type": "execute_result"
    }
   ],
   "source": [
    "y_test"
   ]
  },
  {
   "cell_type": "code",
   "execution_count": 174,
   "id": "3bea3732-435f-48eb-8236-b5ec303a1c99",
   "metadata": {},
   "outputs": [
    {
     "data": {
      "text/plain": [
       "0.7921635434412265"
      ]
     },
     "execution_count": 174,
     "metadata": {},
     "output_type": "execute_result"
    }
   ],
   "source": [
    "accuracy_score(res, y_test)"
   ]
  },
  {
   "cell_type": "markdown",
   "id": "e997f135-64ec-4bb1-b16f-6772a71c8f55",
   "metadata": {},
   "source": [
    "|准确率|训练集|测试集|\n",
    "|:--:|:--:|:--:|\n",
    "|LGBM原始模型|0.8905|0.7870|\n",
    "|LGBM+TPE+100|0.8197|0.7864|\n",
    "|LGBM+TPE+200|0.8089|0.7870|\n",
    "|LGBM+TPE+1000|0.80144|0.7890|\n",
    "|LGBM+grid|0.8496|0.7904|\n",
    "|LGBM+TPE+1000|交叉训练|0.7910|\n",
    "|LGBM+grid|交叉训练|0.7921|"
   ]
  },
  {
   "cell_type": "markdown",
   "id": "99e6c04f-159a-4f99-b51d-4213a9b2cf53",
   "metadata": {},
   "source": [
    "---"
   ]
  },
  {
   "cell_type": "markdown",
   "id": "4a74e4d3-5c08-43a9-adf8-b9f45bdd45ec",
   "metadata": {},
   "source": [
    "- 课程节选自《机器学习实战训练营》正式课程"
   ]
  },
  {
   "cell_type": "markdown",
   "id": "94479af9-475c-40a2-b89b-25ee50133859",
   "metadata": {},
   "source": [
    "<center><img src=\"https://ml2022.oss-cn-hangzhou.aliyuncs.com/img/1.jpg\" alt=\"1\" style=\"zoom:20%;\" />"
   ]
  },
  {
   "cell_type": "markdown",
   "id": "77d62450-cd48-44a0-81c2-43a53a122b8b",
   "metadata": {},
   "source": [
    "&emsp;&emsp;公开课内容节选自《机器学习实战训练营》正式课程，正式课程相比公开课，额外增加更具深度和LGBM数学原理推导、LGBM原生API使用和优化技巧，以及基于LGBM原生API的企业级实战案例，公开课与付费正课内容对比如下："
   ]
  },
  {
   "cell_type": "markdown",
   "id": "39d77e3f-724e-444d-aa98-2c1253132fa1",
   "metadata": {},
   "source": [
    "<center><img src=\"https://ml2022.oss-cn-hangzhou.aliyuncs.com/img/05b61eb9b6792c10ce8c6c221f7d140.png\" alt=\"05b61eb9b6792c10ce8c6c221f7d140\" style=\"zoom:50%;\" />"
   ]
  },
  {
   "cell_type": "markdown",
   "id": "16f039db-e2f4-4048-8da1-848d6e810e68",
   "metadata": {},
   "source": [
    "&emsp;&emsp;如果同学希望更进一步进行深度、系统的学习LightGBM及其他机器学习算法，欢迎大家报名《机器学习实战训练营（第六期）》付费正课，课程为130+小时完整体系大课，完整涵盖经典机器学习、集成学习、特征工程、模型融合、特征混合增强和企业级之战案例，总共6大模块，零基础直达机器学习算法岗中高级岗位要求，六年教学经验沉淀，千名学员口碑见证，超值体系大课等你来学！"
   ]
  },
  {
   "cell_type": "markdown",
   "id": "5c5bfff3-196a-4beb-b929-fe6b43437fdf",
   "metadata": {},
   "source": [
    "<center><img src=\"http://ml2022.oss-cn-hangzhou.aliyuncs.com/img/image-20230215185442588.png\" alt=\"image-20230215185442588\" style=\"zoom:40%;\" />"
   ]
  },
  {
   "cell_type": "markdown",
   "id": "225b5ca0-8f51-4f78-bea5-715f9248c5d9",
   "metadata": {},
   "source": [
    "<center><img src=\"http://ml2022.oss-cn-hangzhou.aliyuncs.com/img/image-20230215185629296.png\" alt=\"image-20230215185629296\" style=\"zoom:42.5%;\" />"
   ]
  },
  {
   "cell_type": "markdown",
   "id": "a2cd24db-4001-4548-9444-1825a7776b27",
   "metadata": {},
   "source": [
    "&emsp;&emsp;除了《机器学习实战训练营》课程外，我们还开设了《数据分析就业班》和《深度学习实战课》，在此查看详细课程介绍和课程大纲：https://appZe9inzwc2314.h5.xiaoeknow.com："
   ]
  },
  {
   "cell_type": "markdown",
   "id": "17b169e7-6de9-4955-b381-2a4c0ca79718",
   "metadata": {},
   "source": [
    "<center><img src=\"http://ml2022.oss-cn-hangzhou.aliyuncs.com/img/image-20230214180459436.png\" alt=\"image-20230214180459436\" style=\"zoom:50%;\" />"
   ]
  },
  {
   "cell_type": "markdown",
   "id": "cfb6084a-9e37-46dd-8ab8-4c6edaf65c0a",
   "metadata": {},
   "source": [
    "- **<font color='red'>第六期训练营课程尾单八折特惠进行时！**"
   ]
  },
  {
   "cell_type": "markdown",
   "id": "27fd2e56-7841-4ae9-adf7-810fdae1aeec",
   "metadata": {},
   "source": [
    "<center><img src=\"https://ml2022.oss-cn-hangzhou.aliyuncs.com/img/2.jpg\" alt=\"2\" style=\"zoom:30%;\" />"
   ]
  },
  {
   "cell_type": "markdown",
   "id": "05f55025-78d7-49cc-9534-c95d96a9b680",
   "metadata": {},
   "source": [
    "&emsp;&emsp;<font size=3><center>扫码添加客服“小可爱”，或者手动添加客服微信：littlecat_1205       \n",
    "    >>>  <font color='red'>**回复“优惠”**</font>抢<font color='red'>**直播间限定折上折**        \n",
    "    **>>>  限量赠送授课老师亲自答疑服务！**"
   ]
  },
  {
   "cell_type": "markdown",
   "id": "de49baff-6526-4df0-a81a-b5cebb744dd3",
   "metadata": {},
   "source": [
    "<center><img src=\"https://ml2022.oss-cn-hangzhou.aliyuncs.com/img/926380675d5976b65f5784be6db5f35.png\" alt=\"926380675d5976b65f5784be6db5f35\" style=\"zoom:50%;\" />"
   ]
  }
 ],
 "metadata": {
  "kernelspec": {
   "display_name": "Python 3 (ipykernel)",
   "language": "python",
   "name": "python3"
  },
  "language_info": {
   "codemirror_mode": {
    "name": "ipython",
    "version": 3
   },
   "file_extension": ".py",
   "mimetype": "text/x-python",
   "name": "python",
   "nbconvert_exporter": "python",
   "pygments_lexer": "ipython3",
   "version": "3.10.9"
  }
 },
 "nbformat": 4,
 "nbformat_minor": 5
}
